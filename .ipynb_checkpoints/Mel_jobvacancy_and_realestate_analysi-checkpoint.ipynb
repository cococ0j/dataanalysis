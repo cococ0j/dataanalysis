{
 "cells": [
  {
   "cell_type": "markdown",
   "metadata": {
    "collapsed": true
   },
   "source": [
    "Date: 10/09/2017\n",
    "\n",
    "Version: 1.3\n",
    "\n",
    "Environment: Python 3.6  and Jupyter notebook\n",
    "\n",
    "Libraries used: please include the main libraries you used in your assignment here, e.g.,:\n",
    "* pandas (for dataframe, included in Anaconda Python 3.6) \n",
    "* numpy (for numpy array, included in Anaconda Python 3.6) \n",
    "* matplotlib (for visulization, included in Anaconda Python 3.6)\n",
    "* scipy (for regression, included in Anaconda Python 3.6)\n",
    "* re (for regular expression, included in Anaconda Python 3.6) \n",
    "* motionchart(for MotionChart, included in Anaconda Python 3.6)\n",
    "* itertools(for iteration, included in Anaconda Python 3.6)\n",
    " \n",
    "## Content\n",
    "\n",
    "1.Introduction.\n",
    "\n",
    "2.Import libraries.\n",
    "\n",
    "3.Task A: Investigating Job Vacancy and Unemployment Rate Data.\n",
    "\n",
    "> 3.1 Investigating the Population Data.   \n",
    ">> 3.1.1 Plot the population of Victoria, New South Wales and Queensland over time and answer questions.  \n",
    ">> 3.1.2 Fit a linear regression to the Victorian population data and plot the linear fit.  \n",
    "\n",
    "> 3.2 Investigating the Job Vacancies Data  \n",
    ">>3.2.1. Plot the job vacancy counts for Victoria over time.  \n",
    ">> 3.3.2.Fit a linear regression to the data and plot it. \n",
    "\n",
    ">3.3. Investigating the Unemployment Data  \n",
    ">>3.3.1.Plot the Unemployment Rate for Victoria over time  \n",
    "\n",
    ">3.4. Visualising the Relationship between Unemployment and Job Vacancies  \n",
    ">>3.4.1.Combine the data from the different files into a single table.  \n",
    ">>3.4.2. Is there a relationship between unemployment and the number of job vacancies. Plot the values against each other.  \n",
    ">>3.4.3. Try selecting and plotting only the data from Victoria  \n",
    ">>3.4.4. The different populations across the states will influence the number of job vacancies in each.  \n",
    "\n",
    ">3.5. Visualising the Relationship over Time  \n",
    ">>3.5.1 Use Motion Chart comparing the job vacancy rate, the unemployment rate, and the population of each state over time.  \n",
    ">>3.5.2 Run the visualisation from start to finish. And then answer the following questions  \n",
    "\n",
    "4.Task B: Exploratory Analysis on Big Data\n",
    "\n",
    "> 4.1 Summarising the Data  \n",
    "> 4.2. Investigating Individual Insurance Costs  \n",
    ">>4.2.1. Show the distribution of ‘IndividualRate’ values using a histogram  \n",
    ">>4.2.2 Remove rows with insurance premiums of 0 (or less) and over 2000. Generate a new histogram with a larger number of bins  \n",
    "\n",
    "> 4.3 Variation in Costs across States  \n",
    ">>4.3.1 Generate a graph containing boxplots summarising the distribution of values for each state  \n",
    ">>4.3.2 Does the number of insurance issuers vary greatly across states?  \n",
    ">>4.3.3. Could competition explain the difference in insurance premiums across states?  \n",
    ">>4.3.4 Variation in Costs over Time and with Age  \n",
    "\n",
    "5.BONUS Task C: Exploratory Analysis on Melbourne Housing Market\n",
    "\n",
    "> 5.1 Load data into pandas DataFrame and exam the data  \n",
    ">5.2 Choose some attribute to analysis, and drop others  \n",
    ">5.3 Price of Melourne housing market  \n",
    ">> 5.3.1 What is the distribution of price for Melbourne housing market?  \n",
    ">> 5.3.2 How many types of property in this dataset? How many properties of each type are there in this dataset? What are the highest prices, mean prices of them?  \n",
    "\n",
    "> 5.4 Price of houses  \n",
    ">> 5.4.1 How many suburbs are there in the dataset? How many houses are there in each suburb?  \n",
    ">> 5.4.2 What is the distribution of houses' prices in each suburb?  \n",
    "\n",
    "> 5.5 The relationship between distance and price        \n",
    "\n",
    "6.Summary\n",
    "\n",
    "## 1. Introduction\n",
    "   \n",
    "   \n",
    "   Data science is a new and rising subject combining scientific methods, processes, and systems to extract knowledge or insights from data in various forms. In this field, data parsing and visulization are basic and important when to investigate and analyse data. In this assignment, we are going to hand on some simple datasets and do some cleaning and visulization. \n",
    "   \n",
    "   There are threes parts in this assignment. The first two parts are required to read and process the provided data, and answer questions using various graphical and non graphical tools. The last part is an open part where we can download and explore the dataset provided online. "
   ]
  },
  {
   "cell_type": "markdown",
   "metadata": {},
   "source": [
    "## 2. Import libraries\n",
    "\n",
    "The code is developed using: Python 3.6 :: Jupyter notebook 5.0 : : Anaconda (x86_64)."
   ]
  },
  {
   "cell_type": "code",
   "execution_count": 1,
   "metadata": {
    "collapsed": true
   },
   "outputs": [],
   "source": [
    "# import libraries using in this assessment\n",
    "import os\n",
    "import pandas as pd\n",
    "import numpy as np\n",
    "import matplotlib.pyplot as plt\n",
    "from scipy.stats import linregress\n",
    "from motionchart.motionchart import MotionChart\n",
    "import re\n",
    "import itertools"
   ]
  },
  {
   "cell_type": "code",
   "execution_count": 2,
   "metadata": {
    "collapsed": true
   },
   "outputs": [],
   "source": [
    "#Change figure size.\n",
    "%matplotlib inline\n",
    "fig_size = [12,9]\n",
    "plt.rcParams[\"figure.figsize\"] = fig_size"
   ]
  },
  {
   "cell_type": "markdown",
   "metadata": {},
   "source": [
    "## 3. Task A: Investigating Job Vacancy and Unemployment Rate Data\n",
    "\n",
    "In the task, three datasets are provided. We are required to visualise the relationship between the number of job vacancies, the unemployment rate, and the population of different Australian states, and gain insights from how these relations and trends change over time. \n",
    "\n",
    "The data files used in this task were originally downloaded from the Department of Employment and Australian Bureau of Statistics:\n",
    "\n",
    "* **EstimatedResidentPopulationByStateAndGender.csv**: This file contains quarterly data regarding the estimated resident population, grouping by state and gender, between 1/12/2005 and 1/6/2015.\n",
    "* **JobVacancies.csv**: This data file contains monthly data about the number of job vacancies (based on a count of online job advertisements newly lodged on SEEK, CareerOne and Australian JobSearch) across different Australian states, for the period between 1/1/2006 and 1/10/2016.\n",
    "* **EmploymentTimeSeries.xls**: This data file contains monthly data of employment and unemployment rate across different Australian states, for the period between 01/02/1978 and 01/10/2016."
   ]
  },
  {
   "cell_type": "markdown",
   "metadata": {},
   "source": [
    "### 3.1 Investigating the Population Data\n",
    "\n",
    "In this section, we simply load the resident population data into a pandas dataframe and exam it.  We are interested only in the **total values for each state (marked \"Persons\")**, so we drop the other columns and rename the columns for each state.\n"
   ]
  },
  {
   "cell_type": "code",
   "execution_count": 3,
   "metadata": {
    "scrolled": true
   },
   "outputs": [
    {
     "data": {
      "text/html": [
       "<div>\n",
       "<table border=\"1\" class=\"dataframe\">\n",
       "  <thead>\n",
       "    <tr style=\"text-align: right;\">\n",
       "      <th></th>\n",
       "      <th>Unnamed: 0</th>\n",
       "      <th>Estimated Resident Population ;  Male ;  New South Wales ;</th>\n",
       "      <th>Estimated Resident Population ;  Male ;  Victoria ;</th>\n",
       "      <th>Estimated Resident Population ;  Male ;  Queensland ;</th>\n",
       "      <th>Estimated Resident Population ;  Male ;  South Australia ;</th>\n",
       "      <th>Estimated Resident Population ;  Male ;  Western Australia ;</th>\n",
       "      <th>Estimated Resident Population ;  Male ;  Tasmania ;</th>\n",
       "      <th>Estimated Resident Population ;  Male ;  Northern Territory ;</th>\n",
       "      <th>Estimated Resident Population ;  Male ;  Australian Capital Territory ;</th>\n",
       "      <th>Estimated Resident Population ;  Male ;  Australia ;</th>\n",
       "      <th>...</th>\n",
       "      <th>Estimated Resident Population ;  Female ;  Australia ;</th>\n",
       "      <th>Estimated Resident Population ;  Persons ;  New South Wales ;</th>\n",
       "      <th>Estimated Resident Population ;  Persons ;  Victoria ;</th>\n",
       "      <th>Estimated Resident Population ;  Persons ;  Queensland ;</th>\n",
       "      <th>Estimated Resident Population ;  Persons ;  South Australia ;</th>\n",
       "      <th>Estimated Resident Population ;  Persons ;  Western Australia ;</th>\n",
       "      <th>Estimated Resident Population ;  Persons ;  Tasmania ;</th>\n",
       "      <th>Estimated Resident Population ;  Persons ;  Northern Territory ;</th>\n",
       "      <th>Estimated Resident Population ;  Persons ;  Australian Capital Territory ;</th>\n",
       "      <th>Estimated Resident Population ;  Persons ;  Australia ;</th>\n",
       "    </tr>\n",
       "  </thead>\n",
       "  <tbody>\n",
       "    <tr>\n",
       "      <th>0</th>\n",
       "      <td>2005-12-01</td>\n",
       "      <td>3327461</td>\n",
       "      <td>2481962</td>\n",
       "      <td>1977783</td>\n",
       "      <td>762665</td>\n",
       "      <td>1022918</td>\n",
       "      <td>240625</td>\n",
       "      <td>107839</td>\n",
       "      <td>164850</td>\n",
       "      <td>10087382</td>\n",
       "      <td>...</td>\n",
       "      <td>10224161</td>\n",
       "      <td>6718023</td>\n",
       "      <td>5023203</td>\n",
       "      <td>3964175</td>\n",
       "      <td>1544852</td>\n",
       "      <td>2029936</td>\n",
       "      <td>488098</td>\n",
       "      <td>207385</td>\n",
       "      <td>333505</td>\n",
       "      <td>20311543</td>\n",
       "    </tr>\n",
       "    <tr>\n",
       "      <th>1</th>\n",
       "      <td>2006-03-01</td>\n",
       "      <td>3336005</td>\n",
       "      <td>2495951</td>\n",
       "      <td>1989764</td>\n",
       "      <td>765272</td>\n",
       "      <td>1030021</td>\n",
       "      <td>241193</td>\n",
       "      <td>108137</td>\n",
       "      <td>165351</td>\n",
       "      <td>10132982</td>\n",
       "      <td>...</td>\n",
       "      <td>10265150</td>\n",
       "      <td>6735528</td>\n",
       "      <td>5048207</td>\n",
       "      <td>3987653</td>\n",
       "      <td>1550135</td>\n",
       "      <td>2042450</td>\n",
       "      <td>489140</td>\n",
       "      <td>208347</td>\n",
       "      <td>334299</td>\n",
       "      <td>20398132</td>\n",
       "    </tr>\n",
       "    <tr>\n",
       "      <th>2</th>\n",
       "      <td>2006-06-01</td>\n",
       "      <td>3339035</td>\n",
       "      <td>2502687</td>\n",
       "      <td>1999858</td>\n",
       "      <td>766432</td>\n",
       "      <td>1034567</td>\n",
       "      <td>241227</td>\n",
       "      <td>108502</td>\n",
       "      <td>165814</td>\n",
       "      <td>10159424</td>\n",
       "      <td>...</td>\n",
       "      <td>10291542</td>\n",
       "      <td>6742690</td>\n",
       "      <td>5061266</td>\n",
       "      <td>4007992</td>\n",
       "      <td>1552529</td>\n",
       "      <td>2050581</td>\n",
       "      <td>489302</td>\n",
       "      <td>209057</td>\n",
       "      <td>335170</td>\n",
       "      <td>20450966</td>\n",
       "    </tr>\n",
       "    <tr>\n",
       "      <th>3</th>\n",
       "      <td>2006-09-01</td>\n",
       "      <td>3351254</td>\n",
       "      <td>2514544</td>\n",
       "      <td>2011909</td>\n",
       "      <td>768884</td>\n",
       "      <td>1040869</td>\n",
       "      <td>241864</td>\n",
       "      <td>109220</td>\n",
       "      <td>166549</td>\n",
       "      <td>10206440</td>\n",
       "      <td>...</td>\n",
       "      <td>10335842</td>\n",
       "      <td>6766133</td>\n",
       "      <td>5083593</td>\n",
       "      <td>4031580</td>\n",
       "      <td>1557332</td>\n",
       "      <td>2064032</td>\n",
       "      <td>490354</td>\n",
       "      <td>210284</td>\n",
       "      <td>336547</td>\n",
       "      <td>20542282</td>\n",
       "    </tr>\n",
       "    <tr>\n",
       "      <th>4</th>\n",
       "      <td>2006-12-01</td>\n",
       "      <td>3361292</td>\n",
       "      <td>2524859</td>\n",
       "      <td>2023921</td>\n",
       "      <td>770847</td>\n",
       "      <td>1047061</td>\n",
       "      <td>242549</td>\n",
       "      <td>109586</td>\n",
       "      <td>167405</td>\n",
       "      <td>10248923</td>\n",
       "      <td>...</td>\n",
       "      <td>10378624</td>\n",
       "      <td>6786160</td>\n",
       "      <td>5103965</td>\n",
       "      <td>4055845</td>\n",
       "      <td>1561300</td>\n",
       "      <td>2076867</td>\n",
       "      <td>491515</td>\n",
       "      <td>211029</td>\n",
       "      <td>338381</td>\n",
       "      <td>20627547</td>\n",
       "    </tr>\n",
       "  </tbody>\n",
       "</table>\n",
       "<p>5 rows × 28 columns</p>\n",
       "</div>"
      ],
      "text/plain": [
       "   Unnamed: 0  Estimated Resident Population ;  Male ;  New South Wales ;  \\\n",
       "0  2005-12-01                                            3327461            \n",
       "1  2006-03-01                                            3336005            \n",
       "2  2006-06-01                                            3339035            \n",
       "3  2006-09-01                                            3351254            \n",
       "4  2006-12-01                                            3361292            \n",
       "\n",
       "   Estimated Resident Population ;  Male ;  Victoria ;  \\\n",
       "0                                            2481962     \n",
       "1                                            2495951     \n",
       "2                                            2502687     \n",
       "3                                            2514544     \n",
       "4                                            2524859     \n",
       "\n",
       "   Estimated Resident Population ;  Male ;  Queensland ;  \\\n",
       "0                                            1977783       \n",
       "1                                            1989764       \n",
       "2                                            1999858       \n",
       "3                                            2011909       \n",
       "4                                            2023921       \n",
       "\n",
       "   Estimated Resident Population ;  Male ;  South Australia ;  \\\n",
       "0                                             762665            \n",
       "1                                             765272            \n",
       "2                                             766432            \n",
       "3                                             768884            \n",
       "4                                             770847            \n",
       "\n",
       "   Estimated Resident Population ;  Male ;  Western Australia ;  \\\n",
       "0                                            1022918              \n",
       "1                                            1030021              \n",
       "2                                            1034567              \n",
       "3                                            1040869              \n",
       "4                                            1047061              \n",
       "\n",
       "   Estimated Resident Population ;  Male ;  Tasmania ;  \\\n",
       "0                                             240625     \n",
       "1                                             241193     \n",
       "2                                             241227     \n",
       "3                                             241864     \n",
       "4                                             242549     \n",
       "\n",
       "   Estimated Resident Population ;  Male ;  Northern Territory ;  \\\n",
       "0                                             107839               \n",
       "1                                             108137               \n",
       "2                                             108502               \n",
       "3                                             109220               \n",
       "4                                             109586               \n",
       "\n",
       "   Estimated Resident Population ;  Male ;  Australian Capital Territory ;  \\\n",
       "0                                             164850                         \n",
       "1                                             165351                         \n",
       "2                                             165814                         \n",
       "3                                             166549                         \n",
       "4                                             167405                         \n",
       "\n",
       "   Estimated Resident Population ;  Male ;  Australia ;  \\\n",
       "0                                           10087382      \n",
       "1                                           10132982      \n",
       "2                                           10159424      \n",
       "3                                           10206440      \n",
       "4                                           10248923      \n",
       "\n",
       "                            ...                             \\\n",
       "0                           ...                              \n",
       "1                           ...                              \n",
       "2                           ...                              \n",
       "3                           ...                              \n",
       "4                           ...                              \n",
       "\n",
       "   Estimated Resident Population ;  Female ;  Australia ;  \\\n",
       "0                                           10224161        \n",
       "1                                           10265150        \n",
       "2                                           10291542        \n",
       "3                                           10335842        \n",
       "4                                           10378624        \n",
       "\n",
       "   Estimated Resident Population ;  Persons ;  New South Wales ;  \\\n",
       "0                                            6718023               \n",
       "1                                            6735528               \n",
       "2                                            6742690               \n",
       "3                                            6766133               \n",
       "4                                            6786160               \n",
       "\n",
       "   Estimated Resident Population ;  Persons ;  Victoria ;  \\\n",
       "0                                            5023203        \n",
       "1                                            5048207        \n",
       "2                                            5061266        \n",
       "3                                            5083593        \n",
       "4                                            5103965        \n",
       "\n",
       "   Estimated Resident Population ;  Persons ;  Queensland ;  \\\n",
       "0                                            3964175          \n",
       "1                                            3987653          \n",
       "2                                            4007992          \n",
       "3                                            4031580          \n",
       "4                                            4055845          \n",
       "\n",
       "   Estimated Resident Population ;  Persons ;  South Australia ;  \\\n",
       "0                                            1544852               \n",
       "1                                            1550135               \n",
       "2                                            1552529               \n",
       "3                                            1557332               \n",
       "4                                            1561300               \n",
       "\n",
       "   Estimated Resident Population ;  Persons ;  Western Australia ;  \\\n",
       "0                                            2029936                 \n",
       "1                                            2042450                 \n",
       "2                                            2050581                 \n",
       "3                                            2064032                 \n",
       "4                                            2076867                 \n",
       "\n",
       "   Estimated Resident Population ;  Persons ;  Tasmania ;  \\\n",
       "0                                             488098        \n",
       "1                                             489140        \n",
       "2                                             489302        \n",
       "3                                             490354        \n",
       "4                                             491515        \n",
       "\n",
       "   Estimated Resident Population ;  Persons ;  Northern Territory ;  \\\n",
       "0                                             207385                  \n",
       "1                                             208347                  \n",
       "2                                             209057                  \n",
       "3                                             210284                  \n",
       "4                                             211029                  \n",
       "\n",
       "   Estimated Resident Population ;  Persons ;  Australian Capital Territory ;  \\\n",
       "0                                             333505                            \n",
       "1                                             334299                            \n",
       "2                                             335170                            \n",
       "3                                             336547                            \n",
       "4                                             338381                            \n",
       "\n",
       "   Estimated Resident Population ;  Persons ;  Australia ;  \n",
       "0                                           20311543        \n",
       "1                                           20398132        \n",
       "2                                           20450966        \n",
       "3                                           20542282        \n",
       "4                                           20627547        \n",
       "\n",
       "[5 rows x 28 columns]"
      ]
     },
     "execution_count": 3,
     "metadata": {},
     "output_type": "execute_result"
    }
   ],
   "source": [
    "population = pd.read_csv('./EstimatedResidentPopulationByStateAndGender.csv')\n",
    "population.head()"
   ]
  },
  {
   "cell_type": "markdown",
   "metadata": {},
   "source": [
    "Change first column into Time format:"
   ]
  },
  {
   "cell_type": "code",
   "execution_count": 4,
   "metadata": {
    "collapsed": true
   },
   "outputs": [],
   "source": [
    "population.rename(columns={'Unnamed: 0':'Time'},inplace=True)\n",
    "population.Time = pd.to_datetime(population.Time)"
   ]
  },
  {
   "cell_type": "markdown",
   "metadata": {},
   "source": [
    "Create a subset <font color='blue'>pop</font> which only contains the columns we are interested in."
   ]
  },
  {
   "cell_type": "code",
   "execution_count": 5,
   "metadata": {
    "collapsed": true
   },
   "outputs": [],
   "source": [
    "pop1 = pd.DataFrame(population['Time'])\n",
    "pop2 = population.ix[:,-9:-1]\n",
    "pop = pd.merge(pop1,pop2,left_index=True,right_index=True)"
   ]
  },
  {
   "cell_type": "markdown",
   "metadata": {},
   "source": [
    "Rename columns with each state name."
   ]
  },
  {
   "cell_type": "code",
   "execution_count": 6,
   "metadata": {
    "collapsed": true
   },
   "outputs": [],
   "source": [
    "pop.columns = ['Time','New South Wales','Victoria','Queensland','South Australia',\\\n",
    "               'Western Australia','Tasmania','Northern Territory','Asustralian Capital Territory']"
   ]
  },
  {
   "cell_type": "markdown",
   "metadata": {},
   "source": [
    "Exam <font color='blue'>pop</font> dataset."
   ]
  },
  {
   "cell_type": "code",
   "execution_count": 7,
   "metadata": {
    "scrolled": true
   },
   "outputs": [
    {
     "data": {
      "text/html": [
       "<div>\n",
       "<table border=\"1\" class=\"dataframe\">\n",
       "  <thead>\n",
       "    <tr style=\"text-align: right;\">\n",
       "      <th></th>\n",
       "      <th>Time</th>\n",
       "      <th>New South Wales</th>\n",
       "      <th>Victoria</th>\n",
       "      <th>Queensland</th>\n",
       "      <th>South Australia</th>\n",
       "      <th>Western Australia</th>\n",
       "      <th>Tasmania</th>\n",
       "      <th>Northern Territory</th>\n",
       "      <th>Asustralian Capital Territory</th>\n",
       "    </tr>\n",
       "  </thead>\n",
       "  <tbody>\n",
       "    <tr>\n",
       "      <th>0</th>\n",
       "      <td>2005-12-01</td>\n",
       "      <td>6718023</td>\n",
       "      <td>5023203</td>\n",
       "      <td>3964175</td>\n",
       "      <td>1544852</td>\n",
       "      <td>2029936</td>\n",
       "      <td>488098</td>\n",
       "      <td>207385</td>\n",
       "      <td>333505</td>\n",
       "    </tr>\n",
       "    <tr>\n",
       "      <th>1</th>\n",
       "      <td>2006-03-01</td>\n",
       "      <td>6735528</td>\n",
       "      <td>5048207</td>\n",
       "      <td>3987653</td>\n",
       "      <td>1550135</td>\n",
       "      <td>2042450</td>\n",
       "      <td>489140</td>\n",
       "      <td>208347</td>\n",
       "      <td>334299</td>\n",
       "    </tr>\n",
       "    <tr>\n",
       "      <th>2</th>\n",
       "      <td>2006-06-01</td>\n",
       "      <td>6742690</td>\n",
       "      <td>5061266</td>\n",
       "      <td>4007992</td>\n",
       "      <td>1552529</td>\n",
       "      <td>2050581</td>\n",
       "      <td>489302</td>\n",
       "      <td>209057</td>\n",
       "      <td>335170</td>\n",
       "    </tr>\n",
       "    <tr>\n",
       "      <th>3</th>\n",
       "      <td>2006-09-01</td>\n",
       "      <td>6766133</td>\n",
       "      <td>5083593</td>\n",
       "      <td>4031580</td>\n",
       "      <td>1557332</td>\n",
       "      <td>2064032</td>\n",
       "      <td>490354</td>\n",
       "      <td>210284</td>\n",
       "      <td>336547</td>\n",
       "    </tr>\n",
       "    <tr>\n",
       "      <th>4</th>\n",
       "      <td>2006-12-01</td>\n",
       "      <td>6786160</td>\n",
       "      <td>5103965</td>\n",
       "      <td>4055845</td>\n",
       "      <td>1561300</td>\n",
       "      <td>2076867</td>\n",
       "      <td>491515</td>\n",
       "      <td>211029</td>\n",
       "      <td>338381</td>\n",
       "    </tr>\n",
       "  </tbody>\n",
       "</table>\n",
       "</div>"
      ],
      "text/plain": [
       "        Time  New South Wales  Victoria  Queensland  South Australia  \\\n",
       "0 2005-12-01          6718023   5023203     3964175          1544852   \n",
       "1 2006-03-01          6735528   5048207     3987653          1550135   \n",
       "2 2006-06-01          6742690   5061266     4007992          1552529   \n",
       "3 2006-09-01          6766133   5083593     4031580          1557332   \n",
       "4 2006-12-01          6786160   5103965     4055845          1561300   \n",
       "\n",
       "   Western Australia  Tasmania  Northern Territory  \\\n",
       "0            2029936    488098              207385   \n",
       "1            2042450    489140              208347   \n",
       "2            2050581    489302              209057   \n",
       "3            2064032    490354              210284   \n",
       "4            2076867    491515              211029   \n",
       "\n",
       "   Asustralian Capital Territory  \n",
       "0                         333505  \n",
       "1                         334299  \n",
       "2                         335170  \n",
       "3                         336547  \n",
       "4                         338381  "
      ]
     },
     "execution_count": 7,
     "metadata": {},
     "output_type": "execute_result"
    }
   ],
   "source": [
    "pop.head()"
   ]
  },
  {
   "cell_type": "markdown",
   "metadata": {},
   "source": [
    "#### 3.1.1 Plot the population of Victoria, New South Wales and Queensland over time and answer questions"
   ]
  },
  {
   "cell_type": "code",
   "execution_count": 8,
   "metadata": {
    "scrolled": true
   },
   "outputs": [
    {
     "data": {
      "text/plain": [
       "[<matplotlib.lines.Line2D at 0x1197cc5c0>]"
      ]
     },
     "execution_count": 8,
     "metadata": {},
     "output_type": "execute_result"
    },
    {
     "data": {
      "image/png": "[encoded data removed]",
      "text/plain": [
       "<matplotlib.figure.Figure at 0x116225668>"
      ]
     },
     "metadata": {},
     "output_type": "display_data"
    }
   ],
   "source": [
    "ind = np.arange(0,39*2,2)\n",
    "width = 0.5\n",
    "fig, ax = plt.subplots()\n",
    "\n",
    "#Draw bar chart for Victoria, New South Wales and Queensland\n",
    "rects1 = ax.bar(ind,pop.Victoria,width,color='g')\n",
    "rects2 = ax.bar(ind+width, pop['New South Wales'],width,color='c')\n",
    "rects3 = ax.bar(ind+2*width, pop.Queensland, width, color='r')\n",
    "ax.set_ylabel('population')\n",
    "ax.set_title('Population of Victoria, New South Wales and Queensland over time')\n",
    "ax.legend((rects1[0],rects2[0],rects3[0]),('Victoria','New South Wales','Queensland'))\n",
    "\n",
    "#Add a line to show the population trend of Victioria\n",
    "slope, intercept, r_value, p_value, std_err = linregress(ind,pop['Victoria'])\n",
    "line = [slope*xi + intercept for xi in ind]\n",
    "plt.plot(ind,line,'r-',linewidth=3)\n",
    "\n",
    "#Add a line to show the population trend of New South Wales\n",
    "slope, intercept, r_value, p_value, std_err = linregress(ind,pop['New South Wales'])\n",
    "line = [slope*xi + intercept for xi in ind]\n",
    "plt.plot(ind,line,'r-',linewidth=3)\n",
    "\n",
    "#Add a line to show the population trend of Queensland\n",
    "slope, intercept, r_value, p_value, std_err = linregress(ind,pop['Queensland'])\n",
    "line = [slope*xi + intercept for xi in ind]\n",
    "plt.plot(ind,line,'r-',linewidth=3)\n"
   ]
  },
  {
   "cell_type": "markdown",
   "metadata": {},
   "source": [
    "#### Q&A:\n",
    "1. **Are the population values increasing or decreasing over time?**\n",
    "> All three states' populations are incresing over time.\n",
    "2. **Does the population data exhibit a trend and if so, what type?**\n",
    "> Yes, the trend is linear with slope greater than 0."
   ]
  },
  {
   "cell_type": "markdown",
   "metadata": {},
   "source": [
    "#### 3.1.2 Fit a linear regression to the Victorian population data and plot the linear fit"
   ]
  },
  {
   "cell_type": "code",
   "execution_count": 9,
   "metadata": {
    "scrolled": true
   },
   "outputs": [
    {
     "data": {
      "image/png": "[encoded data removed]",
      "text/plain": [
       "<matplotlib.figure.Figure at 0x1161d64a8>"
      ]
     },
     "metadata": {},
     "output_type": "display_data"
    }
   ],
   "source": [
    "fig, ax = plt.subplots()\n",
    "plt.scatter(pop.index,pop['Victoria'])\n",
    "\n",
    "slope, intercept, r_value, p_value, std_err = linregress(pop.index,pop['Victoria'])\n",
    "line = [slope*xi + intercept for xi in pop.index]\n",
    "plt.plot(pop.index,line,'r-',linewidth=3)\n",
    "ax.set_ylabel('population')\n",
    "ax.set_xlabel('index')\n",
    "ax.set_title('Population of Victoria over time')\n",
    "plt.show()"
   ]
  },
  {
   "cell_type": "code",
   "execution_count": 10,
   "metadata": {
    "scrolled": true
   },
   "outputs": [
    {
     "name": "stdout",
     "output_type": "stream",
     "text": [
      "p_value is 5.84946847787e-56\n",
      "r_value is  0.999422749655\n"
     ]
    }
   ],
   "source": [
    "print(\"p_value is\",p_value)\n",
    "print('r_value is ', r_value)"
   ]
  },
  {
   "cell_type": "markdown",
   "metadata": {},
   "source": [
    "#### Q&A:\n",
    "**Does the linear fit look good?**\n",
    "> From the plot we can see, the line fits the model very well. Not only the p_value is very low, which means we can not reject the null hypothesis, but also the r_value is very high, which 99.9% of points fit this line. In conclusion, the line fits this model very well."
   ]
  },
  {
   "cell_type": "code",
   "execution_count": 11,
   "metadata": {
    "scrolled": true
   },
   "outputs": [
    {
     "name": "stdout",
     "output_type": "stream",
     "text": [
      "The population of 1/9/15 is  5955909.8502\n",
      "The population of 1/12/15 is  5979953.5504\n",
      "The population of 1/12/16 is  6003997.25061\n",
      "The population of 1/12/17 is  6028040.95081\n"
     ]
    }
   ],
   "source": [
    "def predict_pop(index):\n",
    "    pop = slope*index + intercept\n",
    "    return pop\n",
    "\n",
    "print('The population of 1/9/15 is ', predict_pop(39))\n",
    "print('The population of 1/12/15 is ', predict_pop(40))\n",
    "print('The population of 1/12/16 is ', predict_pop(41))\n",
    "print('The population of 1/12/17 is ', predict_pop(42))"
   ]
  },
  {
   "cell_type": "markdown",
   "metadata": {},
   "source": [
    "#### Q&A:\n",
    "**Use the linear fit to predict the resident population in Victoria for the dates: 1/9/15, 1/12/15, 1/12/16, and 1/12/17.:**\n",
    "* The population of 1/9/15 is  5955909.8502\n",
    "* The population of 1/12/15 is  5979953.5504\n",
    "* The population of 1/12/16 is  6003997.25061\n",
    "* The population of 1/12/17 is  6028040.95081"
   ]
  },
  {
   "cell_type": "markdown",
   "metadata": {},
   "source": [
    "### 3.2 Investigating the Job Vacancies Data"
   ]
  },
  {
   "cell_type": "markdown",
   "metadata": {},
   "source": [
    "Load data into pandas dataframe called <font color='blue'>job_vacancy</font>"
   ]
  },
  {
   "cell_type": "code",
   "execution_count": 12,
   "metadata": {
    "scrolled": true
   },
   "outputs": [
    {
     "data": {
      "text/html": [
       "<div>\n",
       "<table border=\"1\" class=\"dataframe\">\n",
       "  <thead>\n",
       "    <tr style=\"text-align: right;\">\n",
       "      <th></th>\n",
       "      <th>0</th>\n",
       "      <th>1</th>\n",
       "      <th>2</th>\n",
       "      <th>3</th>\n",
       "      <th>4</th>\n",
       "      <th>5</th>\n",
       "      <th>6</th>\n",
       "      <th>7</th>\n",
       "    </tr>\n",
       "  </thead>\n",
       "  <tbody>\n",
       "    <tr>\n",
       "      <th>State</th>\n",
       "      <td>NSW</td>\n",
       "      <td>VIC</td>\n",
       "      <td>QLD</td>\n",
       "      <td>SA</td>\n",
       "      <td>WA</td>\n",
       "      <td>TAS</td>\n",
       "      <td>NT</td>\n",
       "      <td>ACT</td>\n",
       "    </tr>\n",
       "    <tr>\n",
       "      <th>2006-01-01</th>\n",
       "      <td>73047.8</td>\n",
       "      <td>49399.3</td>\n",
       "      <td>49807.5</td>\n",
       "      <td>13111.4</td>\n",
       "      <td>18087.6</td>\n",
       "      <td>2895</td>\n",
       "      <td>2563</td>\n",
       "      <td>3165.3</td>\n",
       "    </tr>\n",
       "    <tr>\n",
       "      <th>2006-02-01</th>\n",
       "      <td>73995</td>\n",
       "      <td>51027.9</td>\n",
       "      <td>49526.3</td>\n",
       "      <td>13160.9</td>\n",
       "      <td>18943.3</td>\n",
       "      <td>2874.7</td>\n",
       "      <td>2402</td>\n",
       "      <td>3335.5</td>\n",
       "    </tr>\n",
       "    <tr>\n",
       "      <th>2006-03-01</th>\n",
       "      <td>75246.3</td>\n",
       "      <td>51492.4</td>\n",
       "      <td>49233</td>\n",
       "      <td>13669.6</td>\n",
       "      <td>19739.3</td>\n",
       "      <td>3272.3</td>\n",
       "      <td>2485</td>\n",
       "      <td>3473.9</td>\n",
       "    </tr>\n",
       "    <tr>\n",
       "      <th>2006-04-01</th>\n",
       "      <td>76539.8</td>\n",
       "      <td>51473.1</td>\n",
       "      <td>50440.4</td>\n",
       "      <td>13308.7</td>\n",
       "      <td>19854.2</td>\n",
       "      <td>2833.2</td>\n",
       "      <td>2590.6</td>\n",
       "      <td>3493</td>\n",
       "    </tr>\n",
       "  </tbody>\n",
       "</table>\n",
       "</div>"
      ],
      "text/plain": [
       "                  0        1        2        3        4       5       6  \\\n",
       "State           NSW      VIC      QLD       SA       WA     TAS      NT   \n",
       "2006-01-01  73047.8  49399.3  49807.5  13111.4  18087.6    2895    2563   \n",
       "2006-02-01    73995  51027.9  49526.3  13160.9  18943.3  2874.7    2402   \n",
       "2006-03-01  75246.3  51492.4    49233  13669.6  19739.3  3272.3    2485   \n",
       "2006-04-01  76539.8  51473.1  50440.4  13308.7  19854.2  2833.2  2590.6   \n",
       "\n",
       "                 7  \n",
       "State          ACT  \n",
       "2006-01-01  3165.3  \n",
       "2006-02-01  3335.5  \n",
       "2006-03-01  3473.9  \n",
       "2006-04-01    3493  "
      ]
     },
     "execution_count": 12,
     "metadata": {},
     "output_type": "execute_result"
    }
   ],
   "source": [
    "job_vacancy = pd.read_csv('./JobVacancies.csv')\n",
    "job_vacancy = job_vacancy.transpose()\n",
    "job_vacancy.head()"
   ]
  },
  {
   "cell_type": "code",
   "execution_count": 13,
   "metadata": {
    "collapsed": true
   },
   "outputs": [],
   "source": [
    "#Rename colunms' names\n",
    "header = list(job_vacancy.ix[0])\n",
    "job_vacancy.columns = header\n",
    "job_vacancy = job_vacancy.drop(['State'])"
   ]
  },
  {
   "cell_type": "code",
   "execution_count": 14,
   "metadata": {},
   "outputs": [
    {
     "data": {
      "text/html": [
       "<div>\n",
       "<table border=\"1\" class=\"dataframe\">\n",
       "  <thead>\n",
       "    <tr style=\"text-align: right;\">\n",
       "      <th></th>\n",
       "      <th>NSW</th>\n",
       "      <th>VIC</th>\n",
       "      <th>QLD</th>\n",
       "      <th>SA</th>\n",
       "      <th>WA</th>\n",
       "      <th>TAS</th>\n",
       "      <th>NT</th>\n",
       "      <th>ACT</th>\n",
       "    </tr>\n",
       "  </thead>\n",
       "  <tbody>\n",
       "    <tr>\n",
       "      <th>2006-01-01</th>\n",
       "      <td>73047.8</td>\n",
       "      <td>49399.3</td>\n",
       "      <td>49807.5</td>\n",
       "      <td>13111.4</td>\n",
       "      <td>18087.6</td>\n",
       "      <td>2895</td>\n",
       "      <td>2563</td>\n",
       "      <td>3165.3</td>\n",
       "    </tr>\n",
       "    <tr>\n",
       "      <th>2006-02-01</th>\n",
       "      <td>73995</td>\n",
       "      <td>51027.9</td>\n",
       "      <td>49526.3</td>\n",
       "      <td>13160.9</td>\n",
       "      <td>18943.3</td>\n",
       "      <td>2874.7</td>\n",
       "      <td>2402</td>\n",
       "      <td>3335.5</td>\n",
       "    </tr>\n",
       "    <tr>\n",
       "      <th>2006-03-01</th>\n",
       "      <td>75246.3</td>\n",
       "      <td>51492.4</td>\n",
       "      <td>49233</td>\n",
       "      <td>13669.6</td>\n",
       "      <td>19739.3</td>\n",
       "      <td>3272.3</td>\n",
       "      <td>2485</td>\n",
       "      <td>3473.9</td>\n",
       "    </tr>\n",
       "    <tr>\n",
       "      <th>2006-04-01</th>\n",
       "      <td>76539.8</td>\n",
       "      <td>51473.1</td>\n",
       "      <td>50440.4</td>\n",
       "      <td>13308.7</td>\n",
       "      <td>19854.2</td>\n",
       "      <td>2833.2</td>\n",
       "      <td>2590.6</td>\n",
       "      <td>3493</td>\n",
       "    </tr>\n",
       "    <tr>\n",
       "      <th>2006-05-01</th>\n",
       "      <td>75614.9</td>\n",
       "      <td>50570</td>\n",
       "      <td>51387.3</td>\n",
       "      <td>13095.8</td>\n",
       "      <td>20351.9</td>\n",
       "      <td>2747.1</td>\n",
       "      <td>2805.4</td>\n",
       "      <td>3666.7</td>\n",
       "    </tr>\n",
       "  </tbody>\n",
       "</table>\n",
       "</div>"
      ],
      "text/plain": [
       "                NSW      VIC      QLD       SA       WA     TAS      NT  \\\n",
       "2006-01-01  73047.8  49399.3  49807.5  13111.4  18087.6    2895    2563   \n",
       "2006-02-01    73995  51027.9  49526.3  13160.9  18943.3  2874.7    2402   \n",
       "2006-03-01  75246.3  51492.4    49233  13669.6  19739.3  3272.3    2485   \n",
       "2006-04-01  76539.8  51473.1  50440.4  13308.7  19854.2  2833.2  2590.6   \n",
       "2006-05-01  75614.9    50570  51387.3  13095.8  20351.9  2747.1  2805.4   \n",
       "\n",
       "               ACT  \n",
       "2006-01-01  3165.3  \n",
       "2006-02-01  3335.5  \n",
       "2006-03-01  3473.9  \n",
       "2006-04-01    3493  \n",
       "2006-05-01  3666.7  "
      ]
     },
     "execution_count": 14,
     "metadata": {},
     "output_type": "execute_result"
    }
   ],
   "source": [
    "job_vacancy.head()"
   ]
  },
  {
   "cell_type": "markdown",
   "metadata": {},
   "source": [
    "#### 3.2.1. Plot the job vacancy counts for Victoria over time. "
   ]
  },
  {
   "cell_type": "code",
   "execution_count": 15,
   "metadata": {
    "scrolled": true
   },
   "outputs": [
    {
     "data": {
      "text/plain": [
       "130"
      ]
     },
     "execution_count": 15,
     "metadata": {},
     "output_type": "execute_result"
    }
   ],
   "source": [
    "#Count how many observations for Victoria job vacancy.\n",
    "job_vacancy.VIC.count()"
   ]
  },
  {
   "cell_type": "markdown",
   "metadata": {},
   "source": [
    "There are 130 observations for Victoria job vacancy. So, I use <font color='blue'>np.arange(0,130*2,2)</font> to create x-axis."
   ]
  },
  {
   "cell_type": "code",
   "execution_count": 16,
   "metadata": {
    "scrolled": true
   },
   "outputs": [
    {
     "data": {
      "text/plain": [
       "<matplotlib.text.Text at 0x11a2a4390>"
      ]
     },
     "execution_count": 16,
     "metadata": {},
     "output_type": "execute_result"
    },
    {
     "data": {
      "image/png": "[encoded data removed]",
      "text/plain": [
       "<matplotlib.figure.Figure at 0x119773d30>"
      ]
     },
     "metadata": {},
     "output_type": "display_data"
    }
   ],
   "source": [
    "ind = np.arange(0,130*2,2)\n",
    "width = 0.5\n",
    "fig, ax = plt.subplots()\n",
    "rects1 = ax.bar(ind,job_vacancy.VIC,color='g')\n",
    "ax.set_ylabel('job vacancy count')\n",
    "ax.set_xlabel('Index representing ove time')\n",
    "ax.set_title('Job vacancy counts for Victoria over time')"
   ]
  },
  {
   "cell_type": "markdown",
   "metadata": {},
   "source": [
    "Use <font color='blue'>aggregate function</font> to find the maximum and minimum values."
   ]
  },
  {
   "cell_type": "code",
   "execution_count": 17,
   "metadata": {
    "scrolled": false
   },
   "outputs": [
    {
     "name": "stdout",
     "output_type": "stream",
     "text": [
      "The maximum value of job vacancy in Victoria is  71971.4\n",
      "The monimum value of job vacancy in Victoria is  32322.2\n"
     ]
    }
   ],
   "source": [
    "print(\"The maximum value of job vacancy in Victoria is \",job_vacancy.VIC.max())\n",
    "print(\"The monimum value of job vacancy in Victoria is \",job_vacancy.VIC.min())"
   ]
  },
  {
   "cell_type": "markdown",
   "metadata": {},
   "source": [
    "#### Q&A：\n",
    "** What are the maximum and minimum values for job vacancies in Victoria over the time period?**：\n",
    "* The maximum value of job vacancy in Victoria is  71971.4\n",
    "* The monimum value of job vacancy in Victoria is  32322.2"
   ]
  },
  {
   "cell_type": "markdown",
   "metadata": {},
   "source": [
    "#### 3.3.2.Fit a linear regression to the data and plot it."
   ]
  },
  {
   "cell_type": "code",
   "execution_count": 18,
   "metadata": {
    "scrolled": true
   },
   "outputs": [
    {
     "data": {
      "image/png": "[encoded data removed]",
      "text/plain": [
       "<matplotlib.figure.Figure at 0x11a3283c8>"
      ]
     },
     "metadata": {},
     "output_type": "display_data"
    }
   ],
   "source": [
    "fig, ax = plt.subplots()\n",
    "plt.scatter(range(0,130),job_vacancy.VIC)\n",
    "\n",
    "slope, intercept, r_value, p_value, std_err = linregress(range(0,130),job_vacancy.VIC)\n",
    "line = [slope*xi + intercept for xi in range(0,130)]\n",
    "plt.plot(range(0,130),line,'r-',linewidth=3)\n",
    "ax.set_ylabel('job vacancy')\n",
    "ax.set_xlabel('Index of Job vacancy of Victoria(i.e Date)')\n",
    "ax.set_title('Job vacancy of Victoria over time')\n",
    "plt.show()"
   ]
  },
  {
   "cell_type": "code",
   "execution_count": 19,
   "metadata": {
    "scrolled": true
   },
   "outputs": [
    {
     "name": "stdout",
     "output_type": "stream",
     "text": [
      "p_value is 3.0931393721e-21\n",
      "r_value is  -0.71009756215\n"
     ]
    }
   ],
   "source": [
    "print(\"p_value is\",p_value)\n",
    "print('r_value is ', r_value)"
   ]
  },
  {
   "cell_type": "markdown",
   "metadata": {},
   "source": [
    "#### Q&A:\n",
    "** Does it look like a good fit to you? Would you believe the predictions of the linear model going forward?**\n",
    "> This is not a good fit line. As to the plot, we can see the model is not linear. As a result, there are only a few points faliling on the line. Also, the p-value is too high."
   ]
  },
  {
   "cell_type": "code",
   "execution_count": 20,
   "metadata": {
    "scrolled": false
   },
   "outputs": [
    {
     "data": {
      "image/png": "[encoded data removed]",
      "text/plain": [
       "<matplotlib.figure.Figure at 0x11a75ba90>"
      ]
     },
     "metadata": {},
     "output_type": "display_data"
    }
   ],
   "source": [
    "fig, ax = plt.subplots()\n",
    "plt.scatter(range(85,130),job_vacancy.VIC[85:])\n",
    "\n",
    "slope, intercept, r_value, p_value, std_err = linregress(range(85,130),job_vacancy.VIC[85:])\n",
    "line = [slope*xi + intercept for xi in range(85,130)]\n",
    "plt.plot(range(85,130),line,'r-',linewidth=3)\n",
    "ax.set_ylabel('job vacancy')\n",
    "ax.set_xlabel('Index of Job vacancy of Victoria(i.e Date, start from 85th)')\n",
    "ax.set_title('Job vacancy of Victoria over time')\n",
    "plt.show()"
   ]
  },
  {
   "cell_type": "markdown",
   "metadata": {},
   "source": [
    "#### Q&A:\n",
    "** Instead of fitting the linear regression to all of the data, try fitting it to just the most recent datapoints (say from the 85th datapoint onwards). How is the fit? Which model would give better predictions of future vacancies do you think? **\n",
    "> In terms of the plot, it seems a good line to fit the model from 85 to 130. But after plotting the modal from all of the data, we find that the job vacancy follows a wavelike curve rather than a straight line. As we cannot predict when the curve go up or down, it is not accurate if we chose a interval to predict using linear regression. "
   ]
  },
  {
   "cell_type": "markdown",
   "metadata": {},
   "source": [
    "### 3.3. Investigating the Unemployment Data"
   ]
  },
  {
   "cell_type": "markdown",
   "metadata": {},
   "source": [
    "Load data into pandas dataframe called <font color='blue'>unemployment</font>"
   ]
  },
  {
   "cell_type": "code",
   "execution_count": 21,
   "metadata": {
    "scrolled": true
   },
   "outputs": [
    {
     "data": {
      "text/html": [
       "<div>\n",
       "<table border=\"1\" class=\"dataframe\">\n",
       "  <thead>\n",
       "    <tr style=\"text-align: right;\">\n",
       "      <th></th>\n",
       "      <th>State/Territory</th>\n",
       "      <th>Date</th>\n",
       "      <th>Employment Rate (15-64)</th>\n",
       "      <th>Unemployment Rate (15+)</th>\n",
       "      <th>Participation Rate (15+)</th>\n",
       "    </tr>\n",
       "  </thead>\n",
       "  <tbody>\n",
       "    <tr>\n",
       "      <th>0</th>\n",
       "      <td>NSW</td>\n",
       "      <td>1978-02-01</td>\n",
       "      <td>n/a</td>\n",
       "      <td>6.773762</td>\n",
       "      <td>60.735313</td>\n",
       "    </tr>\n",
       "    <tr>\n",
       "      <th>1</th>\n",
       "      <td>NSW</td>\n",
       "      <td>1978-03-01</td>\n",
       "      <td>n/a</td>\n",
       "      <td>6.490161</td>\n",
       "      <td>59.851078</td>\n",
       "    </tr>\n",
       "    <tr>\n",
       "      <th>2</th>\n",
       "      <td>NSW</td>\n",
       "      <td>1978-04-01</td>\n",
       "      <td>63.7195</td>\n",
       "      <td>6.507978</td>\n",
       "      <td>60.168513</td>\n",
       "    </tr>\n",
       "    <tr>\n",
       "      <th>3</th>\n",
       "      <td>NSW</td>\n",
       "      <td>1978-05-01</td>\n",
       "      <td>63.682</td>\n",
       "      <td>6.115171</td>\n",
       "      <td>60.003564</td>\n",
       "    </tr>\n",
       "    <tr>\n",
       "      <th>4</th>\n",
       "      <td>NSW</td>\n",
       "      <td>1978-06-01</td>\n",
       "      <td>63.6829</td>\n",
       "      <td>6.424127</td>\n",
       "      <td>60.145380</td>\n",
       "    </tr>\n",
       "  </tbody>\n",
       "</table>\n",
       "</div>"
      ],
      "text/plain": [
       "  State/Territory       Date Employment Rate (15-64)  Unemployment Rate (15+)  \\\n",
       "0             NSW 1978-02-01                     n/a                 6.773762   \n",
       "1             NSW 1978-03-01                     n/a                 6.490161   \n",
       "2             NSW 1978-04-01                 63.7195                 6.507978   \n",
       "3             NSW 1978-05-01                  63.682                 6.115171   \n",
       "4             NSW 1978-06-01                 63.6829                 6.424127   \n",
       "\n",
       "   Participation Rate (15+)  \n",
       "0                 60.735313  \n",
       "1                 59.851078  \n",
       "2                 60.168513  \n",
       "3                 60.003564  \n",
       "4                 60.145380  "
      ]
     },
     "execution_count": 21,
     "metadata": {},
     "output_type": "execute_result"
    }
   ],
   "source": [
    "unemployment = pd.read_excel('./EmploymentTimeSeries.xls',sheetname='Time Series')\n",
    "unemployment.head()"
   ]
  },
  {
   "cell_type": "code",
   "execution_count": 22,
   "metadata": {},
   "outputs": [
    {
     "data": {
      "text/plain": [
       "(3720, 5)"
      ]
     },
     "execution_count": 22,
     "metadata": {},
     "output_type": "execute_result"
    }
   ],
   "source": [
    "unemployment.shape"
   ]
  },
  {
   "cell_type": "markdown",
   "metadata": {},
   "source": [
    "#### 3.3.1.Plot the Unemployment Rate for Victoria over time. "
   ]
  },
  {
   "cell_type": "markdown",
   "metadata": {},
   "source": [
    "Create a subset for Victoria."
   ]
  },
  {
   "cell_type": "code",
   "execution_count": 23,
   "metadata": {},
   "outputs": [
    {
     "data": {
      "text/html": [
       "<div>\n",
       "<table border=\"1\" class=\"dataframe\">\n",
       "  <thead>\n",
       "    <tr style=\"text-align: right;\">\n",
       "      <th></th>\n",
       "      <th>State/Territory</th>\n",
       "      <th>Date</th>\n",
       "      <th>Employment Rate (15-64)</th>\n",
       "      <th>Unemployment Rate (15+)</th>\n",
       "      <th>Participation Rate (15+)</th>\n",
       "    </tr>\n",
       "  </thead>\n",
       "  <tbody>\n",
       "    <tr>\n",
       "      <th>0</th>\n",
       "      <td>VIC</td>\n",
       "      <td>1978-02-01</td>\n",
       "      <td>n/a</td>\n",
       "      <td>5.956411</td>\n",
       "      <td>61.161852</td>\n",
       "    </tr>\n",
       "    <tr>\n",
       "      <th>1</th>\n",
       "      <td>VIC</td>\n",
       "      <td>1978-03-01</td>\n",
       "      <td>n/a</td>\n",
       "      <td>5.746178</td>\n",
       "      <td>61.317251</td>\n",
       "    </tr>\n",
       "    <tr>\n",
       "      <th>2</th>\n",
       "      <td>VIC</td>\n",
       "      <td>1978-04-01</td>\n",
       "      <td>65.5951</td>\n",
       "      <td>5.575723</td>\n",
       "      <td>61.847414</td>\n",
       "    </tr>\n",
       "    <tr>\n",
       "      <th>3</th>\n",
       "      <td>VIC</td>\n",
       "      <td>1978-05-01</td>\n",
       "      <td>65.8999</td>\n",
       "      <td>5.697610</td>\n",
       "      <td>61.692623</td>\n",
       "    </tr>\n",
       "    <tr>\n",
       "      <th>4</th>\n",
       "      <td>VIC</td>\n",
       "      <td>1978-06-01</td>\n",
       "      <td>65.8939</td>\n",
       "      <td>5.517504</td>\n",
       "      <td>61.540703</td>\n",
       "    </tr>\n",
       "  </tbody>\n",
       "</table>\n",
       "</div>"
      ],
      "text/plain": [
       "  State/Territory       Date Employment Rate (15-64)  Unemployment Rate (15+)  \\\n",
       "0             VIC 1978-02-01                     n/a                 5.956411   \n",
       "1             VIC 1978-03-01                     n/a                 5.746178   \n",
       "2             VIC 1978-04-01                 65.5951                 5.575723   \n",
       "3             VIC 1978-05-01                 65.8999                 5.697610   \n",
       "4             VIC 1978-06-01                 65.8939                 5.517504   \n",
       "\n",
       "   Participation Rate (15+)  \n",
       "0                 61.161852  \n",
       "1                 61.317251  \n",
       "2                 61.847414  \n",
       "3                 61.692623  \n",
       "4                 61.540703  "
      ]
     },
     "execution_count": 23,
     "metadata": {},
     "output_type": "execute_result"
    }
   ],
   "source": [
    "unemployment_vic = unemployment[(unemployment['State/Territory']=='VIC')].reset_index()\n",
    "unemployment_vic.drop('index',1).head()"
   ]
  },
  {
   "cell_type": "code",
   "execution_count": 24,
   "metadata": {},
   "outputs": [
    {
     "data": {
      "text/plain": [
       "465"
      ]
     },
     "execution_count": 24,
     "metadata": {},
     "output_type": "execute_result"
    }
   ],
   "source": [
    "#Find out how many observations for 'Unemployment Rate (15+)' of Victiora\n",
    "unemployment_vic['Unemployment Rate (15+)'].count()"
   ]
  },
  {
   "cell_type": "code",
   "execution_count": 25,
   "metadata": {},
   "outputs": [
    {
     "data": {
      "text/plain": [
       "<matplotlib.text.Text at 0x11addc3c8>"
      ]
     },
     "execution_count": 25,
     "metadata": {},
     "output_type": "execute_result"
    },
    {
     "data": {
      "image/png": "[encoded data removed]",
      "text/plain": [
       "<matplotlib.figure.Figure at 0x11adb22b0>"
      ]
     },
     "metadata": {},
     "output_type": "display_data"
    }
   ],
   "source": [
    "ind = np.arange(len(unemployment_vic.Date))\n",
    "width = 0.5\n",
    "fig, ax = plt.subplots()\n",
    "rects1 = ax.bar(ind,unemployment_vic['Unemployment Rate (15+)'],color='g')\n",
    "ax.set_ylabel('Unemployment Rate (15+)')\n",
    "ax.set_xlabel('Index of Unemployment Rate (15+) of Victoria(i.e Date)')\n",
    "ax.set_title('Unemployment Rate for Victoria over time')"
   ]
  },
  {
   "cell_type": "code",
   "execution_count": 26,
   "metadata": {
    "scrolled": true
   },
   "outputs": [
    {
     "data": {
      "text/html": [
       "<div>\n",
       "<table border=\"1\" class=\"dataframe\">\n",
       "  <thead>\n",
       "    <tr style=\"text-align: right;\">\n",
       "      <th></th>\n",
       "      <th>index</th>\n",
       "      <th>State/Territory</th>\n",
       "      <th>Date</th>\n",
       "      <th>Employment Rate (15-64)</th>\n",
       "      <th>Unemployment Rate (15+)</th>\n",
       "      <th>Participation Rate (15+)</th>\n",
       "    </tr>\n",
       "  </thead>\n",
       "  <tbody>\n",
       "    <tr>\n",
       "      <th>186</th>\n",
       "      <td>651</td>\n",
       "      <td>VIC</td>\n",
       "      <td>1993-08-01</td>\n",
       "      <td>63.4669</td>\n",
       "      <td>12.553338</td>\n",
       "      <td>62.516093</td>\n",
       "    </tr>\n",
       "  </tbody>\n",
       "</table>\n",
       "</div>"
      ],
      "text/plain": [
       "     index State/Territory       Date Employment Rate (15-64)  \\\n",
       "186    651             VIC 1993-08-01                 63.4669   \n",
       "\n",
       "     Unemployment Rate (15+)  Participation Rate (15+)  \n",
       "186                12.553338                 62.516093  "
      ]
     },
     "execution_count": 26,
     "metadata": {},
     "output_type": "execute_result"
    }
   ],
   "source": [
    "unemployment_vic[(unemployment_vic['Unemployment Rate (15+)'] == unemployment_vic['Unemployment Rate (15+)'].max())]"
   ]
  },
  {
   "cell_type": "markdown",
   "metadata": {},
   "source": [
    "####  Q&A:\n",
    "** It looks like the rate has been very high at times in the past. What was the maximum unemployment rate in Victoria recorded in the dataset and when did that occur?**\n",
    "> The maximum unemployment rate in Victoria recorded in the dataset is 12.55%. It occured on 1993-08-01"
   ]
  },
  {
   "cell_type": "markdown",
   "metadata": {},
   "source": [
    "### 3.4. Visualising the Relationship between Unemployment and Job Vacancies\n",
    "\n",
    "Now let's look at the relationship between unemployment levels and job vacancies."
   ]
  },
  {
   "cell_type": "markdown",
   "metadata": {},
   "source": [
    "#### 3.4.1.Combine the data from the different files into a single table. The table should contain population values, job vacancy counts and unemployment rates for the different dates and different States/Territories. "
   ]
  },
  {
   "cell_type": "markdown",
   "metadata": {},
   "source": [
    "Manipulate the ** population data**"
   ]
  },
  {
   "cell_type": "code",
   "execution_count": 27,
   "metadata": {
    "collapsed": true
   },
   "outputs": [],
   "source": [
    "#Create a subset of NSW\n",
    "pop_nsw = pd.DataFrame(pop[['Time','New South Wales']])\n",
    "pop_nsw.insert(1,'State/Territory', 'NSW')\n",
    "pop_nsw.rename(columns={'New South Wales':'population'},inplace=True)"
   ]
  },
  {
   "cell_type": "code",
   "execution_count": 28,
   "metadata": {
    "scrolled": true
   },
   "outputs": [
    {
     "data": {
      "text/html": [
       "<div>\n",
       "<table border=\"1\" class=\"dataframe\">\n",
       "  <thead>\n",
       "    <tr style=\"text-align: right;\">\n",
       "      <th></th>\n",
       "      <th>Time</th>\n",
       "      <th>State/Territory</th>\n",
       "      <th>population</th>\n",
       "    </tr>\n",
       "  </thead>\n",
       "  <tbody>\n",
       "    <tr>\n",
       "      <th>0</th>\n",
       "      <td>2005-12-01</td>\n",
       "      <td>NSW</td>\n",
       "      <td>6718023</td>\n",
       "    </tr>\n",
       "    <tr>\n",
       "      <th>1</th>\n",
       "      <td>2006-03-01</td>\n",
       "      <td>NSW</td>\n",
       "      <td>6735528</td>\n",
       "    </tr>\n",
       "    <tr>\n",
       "      <th>2</th>\n",
       "      <td>2006-06-01</td>\n",
       "      <td>NSW</td>\n",
       "      <td>6742690</td>\n",
       "    </tr>\n",
       "    <tr>\n",
       "      <th>3</th>\n",
       "      <td>2006-09-01</td>\n",
       "      <td>NSW</td>\n",
       "      <td>6766133</td>\n",
       "    </tr>\n",
       "    <tr>\n",
       "      <th>4</th>\n",
       "      <td>2006-12-01</td>\n",
       "      <td>NSW</td>\n",
       "      <td>6786160</td>\n",
       "    </tr>\n",
       "  </tbody>\n",
       "</table>\n",
       "</div>"
      ],
      "text/plain": [
       "        Time State/Territory  population\n",
       "0 2005-12-01             NSW     6718023\n",
       "1 2006-03-01             NSW     6735528\n",
       "2 2006-06-01             NSW     6742690\n",
       "3 2006-09-01             NSW     6766133\n",
       "4 2006-12-01             NSW     6786160"
      ]
     },
     "execution_count": 28,
     "metadata": {},
     "output_type": "execute_result"
    }
   ],
   "source": [
    "pop_nsw.head()"
   ]
  },
  {
   "cell_type": "code",
   "execution_count": 29,
   "metadata": {
    "collapsed": true
   },
   "outputs": [],
   "source": [
    "#Create a subset of VIC\n",
    "pop_vic = pd.DataFrame(pop[['Time','Victoria']])\n",
    "pop_vic.insert(1,'State/Territory', 'VIC')\n",
    "pop_vic.rename(columns={'Victoria':'population'},inplace=True)"
   ]
  },
  {
   "cell_type": "code",
   "execution_count": 30,
   "metadata": {
    "collapsed": true
   },
   "outputs": [],
   "source": [
    "#Create a subset of QLD\n",
    "pop_qld = pd.DataFrame(pop[['Time','Queensland']])\n",
    "pop_qld.insert(1,'State/Territory', 'QLD')\n",
    "pop_qld.rename(columns={'Queensland':'population'},inplace=True)"
   ]
  },
  {
   "cell_type": "code",
   "execution_count": 31,
   "metadata": {
    "collapsed": true
   },
   "outputs": [],
   "source": [
    "#Create a subset of SA\n",
    "pop_sa = pd.DataFrame(pop[['Time','South Australia']])\n",
    "pop_sa.insert(1,'State/Territory', 'SA')\n",
    "pop_sa.rename(columns={'South Australia':'population'},inplace=True)"
   ]
  },
  {
   "cell_type": "code",
   "execution_count": 32,
   "metadata": {
    "collapsed": true
   },
   "outputs": [],
   "source": [
    "#Create a subset of WA\n",
    "pop_wa = pd.DataFrame(pop[['Time','Western Australia']])\n",
    "pop_wa.insert(1,'State/Territory', 'WA')\n",
    "pop_wa.rename(columns={'Western Australia':'population'},inplace=True)"
   ]
  },
  {
   "cell_type": "code",
   "execution_count": 33,
   "metadata": {
    "collapsed": true
   },
   "outputs": [],
   "source": [
    "#Create a subset of TAS\n",
    "pop_tas = pd.DataFrame(pop[['Time','Tasmania']])\n",
    "pop_tas.insert(1,'State/Territory', 'TAS')\n",
    "pop_tas.rename(columns={'Tasmania':'population'},inplace=True)"
   ]
  },
  {
   "cell_type": "code",
   "execution_count": 34,
   "metadata": {
    "collapsed": true
   },
   "outputs": [],
   "source": [
    "#Create a subset of NT\n",
    "pop_nt = pd.DataFrame(pop[['Time','Northern Territory']])\n",
    "pop_nt.insert(1,'State/Territory', 'NT')\n",
    "pop_nt.rename(columns={'Northern Territory':'population'},inplace=True)"
   ]
  },
  {
   "cell_type": "code",
   "execution_count": 35,
   "metadata": {
    "collapsed": true
   },
   "outputs": [],
   "source": [
    "#Create a subset of ACT\n",
    "pop_act = pd.DataFrame(pop[['Time','Asustralian Capital Territory']])\n",
    "pop_act.insert(1,'State/Territory', 'ACT')\n",
    "pop_act.rename(columns={'Asustralian Capital Territory':'population'},inplace=True)"
   ]
  },
  {
   "cell_type": "markdown",
   "metadata": {},
   "source": [
    "Combine eight dataset into one dataset called <font color='blue'>pop_state</font> vertically."
   ]
  },
  {
   "cell_type": "code",
   "execution_count": 36,
   "metadata": {
    "collapsed": true,
    "scrolled": false
   },
   "outputs": [],
   "source": [
    "pop_state = pd.concat([pop_nsw,pop_vic,pop_qld,pop_sa,pop_wa,pop_tas,pop_nt,pop_act])\n",
    "pop_state.rename(columns={'Time':'Date'},inplace= True)"
   ]
  },
  {
   "cell_type": "markdown",
   "metadata": {},
   "source": [
    "Manipulate the **Job Vacancies data**"
   ]
  },
  {
   "cell_type": "code",
   "execution_count": 37,
   "metadata": {
    "collapsed": true
   },
   "outputs": [],
   "source": [
    "#Create a subset of NSW\n",
    "job_vacancy_nsw = pd.DataFrame(job_vacancy['NSW'])\n",
    "job_vacancy_nsw.insert(0,'State/Territory', 'NSW')\n",
    "job_vacancy_nsw.rename(columns={'NSW':'vacancy'},inplace=True)"
   ]
  },
  {
   "cell_type": "code",
   "execution_count": 38,
   "metadata": {
    "collapsed": true
   },
   "outputs": [],
   "source": [
    "#Create a subset of VIC\n",
    "job_vacancy_vic = pd.DataFrame(job_vacancy['VIC'])\n",
    "job_vacancy_vic.insert(0,'State/Territory', 'VIC')\n",
    "job_vacancy_vic.rename(columns={'VIC':'vacancy'},inplace=True)"
   ]
  },
  {
   "cell_type": "code",
   "execution_count": 39,
   "metadata": {
    "collapsed": true
   },
   "outputs": [],
   "source": [
    "#Create a subset of QLD\n",
    "job_vacancy_qld = pd.DataFrame(job_vacancy['QLD'])\n",
    "job_vacancy_qld.insert(0,'State/Territory', 'QLD')\n",
    "job_vacancy_qld.rename(columns={'QLD':'vacancy'},inplace=True)"
   ]
  },
  {
   "cell_type": "code",
   "execution_count": 40,
   "metadata": {
    "collapsed": true
   },
   "outputs": [],
   "source": [
    "#Create a subset of SA\n",
    "job_vacancy_sa = pd.DataFrame(job_vacancy['SA'])\n",
    "job_vacancy_sa.insert(0,'State/Territory', 'SA')\n",
    "job_vacancy_sa.rename(columns={'SA':'vacancy'},inplace=True)"
   ]
  },
  {
   "cell_type": "code",
   "execution_count": 41,
   "metadata": {
    "collapsed": true
   },
   "outputs": [],
   "source": [
    "#Create a subset of WA\n",
    "job_vacancy_wa = pd.DataFrame(job_vacancy['WA'])\n",
    "job_vacancy_wa.insert(0,'State/Territory', 'WA')\n",
    "job_vacancy_wa.rename(columns={'WA':'vacancy'},inplace=True)"
   ]
  },
  {
   "cell_type": "code",
   "execution_count": 42,
   "metadata": {
    "collapsed": true
   },
   "outputs": [],
   "source": [
    "#Create a subset of TAS\n",
    "job_vacancy_tas = pd.DataFrame(job_vacancy['TAS'])\n",
    "job_vacancy_tas.insert(0,'State/Territory', 'TAS')\n",
    "job_vacancy_tas.rename(columns={'TAS':'vacancy'},inplace=True)"
   ]
  },
  {
   "cell_type": "code",
   "execution_count": 43,
   "metadata": {
    "collapsed": true
   },
   "outputs": [],
   "source": [
    "#Create a subset of NT\n",
    "job_vacancy_nt = pd.DataFrame(job_vacancy['NT'])\n",
    "job_vacancy_nt.insert(0,'State/Territory', 'NT')\n",
    "job_vacancy_nt.rename(columns={'NT':'vacancy'},inplace=True)"
   ]
  },
  {
   "cell_type": "code",
   "execution_count": 44,
   "metadata": {
    "collapsed": true
   },
   "outputs": [],
   "source": [
    "#Create a subset of ACT\n",
    "job_vacancy_act = pd.DataFrame(job_vacancy['ACT'])\n",
    "job_vacancy_act.insert(0,'State/Territory', 'ACT')\n",
    "job_vacancy_act.rename(columns={'ACT':'vacancy'},inplace=True)"
   ]
  },
  {
   "cell_type": "markdown",
   "metadata": {},
   "source": [
    "Combine eight dataset into one dataset called <font color='blue'>job_vacancy_state</font> vertically."
   ]
  },
  {
   "cell_type": "code",
   "execution_count": 45,
   "metadata": {},
   "outputs": [
    {
     "data": {
      "text/html": [
       "<div>\n",
       "<table border=\"1\" class=\"dataframe\">\n",
       "  <thead>\n",
       "    <tr style=\"text-align: right;\">\n",
       "      <th></th>\n",
       "      <th>State/Territory</th>\n",
       "      <th>vacancy</th>\n",
       "    </tr>\n",
       "  </thead>\n",
       "  <tbody>\n",
       "    <tr>\n",
       "      <th>2006-01-01</th>\n",
       "      <td>NSW</td>\n",
       "      <td>73047.8</td>\n",
       "    </tr>\n",
       "    <tr>\n",
       "      <th>2006-02-01</th>\n",
       "      <td>NSW</td>\n",
       "      <td>73995</td>\n",
       "    </tr>\n",
       "    <tr>\n",
       "      <th>2006-03-01</th>\n",
       "      <td>NSW</td>\n",
       "      <td>75246.3</td>\n",
       "    </tr>\n",
       "    <tr>\n",
       "      <th>2006-04-01</th>\n",
       "      <td>NSW</td>\n",
       "      <td>76539.8</td>\n",
       "    </tr>\n",
       "    <tr>\n",
       "      <th>2006-05-01</th>\n",
       "      <td>NSW</td>\n",
       "      <td>75614.9</td>\n",
       "    </tr>\n",
       "  </tbody>\n",
       "</table>\n",
       "</div>"
      ],
      "text/plain": [
       "           State/Territory  vacancy\n",
       "2006-01-01             NSW  73047.8\n",
       "2006-02-01             NSW    73995\n",
       "2006-03-01             NSW  75246.3\n",
       "2006-04-01             NSW  76539.8\n",
       "2006-05-01             NSW  75614.9"
      ]
     },
     "execution_count": 45,
     "metadata": {},
     "output_type": "execute_result"
    }
   ],
   "source": [
    "job_vacancy_state = pd.concat([job_vacancy_nsw, job_vacancy_vic,job_vacancy_qld,job_vacancy_sa,job_vacancy_wa,\\\n",
    "                               job_vacancy_tas, job_vacancy_nt, job_vacancy_act])\n",
    "job_vacancy_state.head()"
   ]
  },
  {
   "cell_type": "code",
   "execution_count": 46,
   "metadata": {
    "collapsed": true,
    "scrolled": false
   },
   "outputs": [],
   "source": [
    "#Reset index.\n",
    "job_vacancy_state = job_vacancy_state.reset_index()\n",
    "job_vacancy_state.rename(columns={'index':'Date'},inplace=True)\n",
    "job_vacancy_state.Date = pd.to_datetime(job_vacancy_state.Date)"
   ]
  },
  {
   "cell_type": "code",
   "execution_count": 47,
   "metadata": {
    "scrolled": true
   },
   "outputs": [
    {
     "data": {
      "text/html": [
       "<div>\n",
       "<table border=\"1\" class=\"dataframe\">\n",
       "  <thead>\n",
       "    <tr style=\"text-align: right;\">\n",
       "      <th></th>\n",
       "      <th>Date</th>\n",
       "      <th>State/Territory</th>\n",
       "      <th>vacancy</th>\n",
       "    </tr>\n",
       "  </thead>\n",
       "  <tbody>\n",
       "    <tr>\n",
       "      <th>0</th>\n",
       "      <td>2006-01-01</td>\n",
       "      <td>NSW</td>\n",
       "      <td>73047.8</td>\n",
       "    </tr>\n",
       "    <tr>\n",
       "      <th>1</th>\n",
       "      <td>2006-02-01</td>\n",
       "      <td>NSW</td>\n",
       "      <td>73995</td>\n",
       "    </tr>\n",
       "    <tr>\n",
       "      <th>2</th>\n",
       "      <td>2006-03-01</td>\n",
       "      <td>NSW</td>\n",
       "      <td>75246.3</td>\n",
       "    </tr>\n",
       "    <tr>\n",
       "      <th>3</th>\n",
       "      <td>2006-04-01</td>\n",
       "      <td>NSW</td>\n",
       "      <td>76539.8</td>\n",
       "    </tr>\n",
       "    <tr>\n",
       "      <th>4</th>\n",
       "      <td>2006-05-01</td>\n",
       "      <td>NSW</td>\n",
       "      <td>75614.9</td>\n",
       "    </tr>\n",
       "  </tbody>\n",
       "</table>\n",
       "</div>"
      ],
      "text/plain": [
       "        Date State/Territory  vacancy\n",
       "0 2006-01-01             NSW  73047.8\n",
       "1 2006-02-01             NSW    73995\n",
       "2 2006-03-01             NSW  75246.3\n",
       "3 2006-04-01             NSW  76539.8\n",
       "4 2006-05-01             NSW  75614.9"
      ]
     },
     "execution_count": 47,
     "metadata": {},
     "output_type": "execute_result"
    }
   ],
   "source": [
    "job_vacancy_state.head()"
   ]
  },
  {
   "cell_type": "markdown",
   "metadata": {},
   "source": [
    "Concatenation three tables using <font color='blue'>merge function</font>."
   ]
  },
  {
   "cell_type": "code",
   "execution_count": 48,
   "metadata": {
    "scrolled": true
   },
   "outputs": [
    {
     "data": {
      "text/html": [
       "<div>\n",
       "<table border=\"1\" class=\"dataframe\">\n",
       "  <thead>\n",
       "    <tr style=\"text-align: right;\">\n",
       "      <th></th>\n",
       "      <th>State/Territory</th>\n",
       "      <th>Date</th>\n",
       "      <th>Unemployment Rate (15+)</th>\n",
       "      <th>vacancy</th>\n",
       "      <th>population</th>\n",
       "    </tr>\n",
       "  </thead>\n",
       "  <tbody>\n",
       "    <tr>\n",
       "      <th>0</th>\n",
       "      <td>NSW</td>\n",
       "      <td>2006-03-01</td>\n",
       "      <td>4.978780</td>\n",
       "      <td>75246.3</td>\n",
       "      <td>6735528</td>\n",
       "    </tr>\n",
       "    <tr>\n",
       "      <th>1</th>\n",
       "      <td>NSW</td>\n",
       "      <td>2006-06-01</td>\n",
       "      <td>5.288439</td>\n",
       "      <td>81637.1</td>\n",
       "      <td>6742690</td>\n",
       "    </tr>\n",
       "    <tr>\n",
       "      <th>2</th>\n",
       "      <td>NSW</td>\n",
       "      <td>2006-09-01</td>\n",
       "      <td>5.200780</td>\n",
       "      <td>76411.3</td>\n",
       "      <td>6766133</td>\n",
       "    </tr>\n",
       "    <tr>\n",
       "      <th>3</th>\n",
       "      <td>NSW</td>\n",
       "      <td>2006-12-01</td>\n",
       "      <td>4.811675</td>\n",
       "      <td>80972.6</td>\n",
       "      <td>6786160</td>\n",
       "    </tr>\n",
       "    <tr>\n",
       "      <th>4</th>\n",
       "      <td>NSW</td>\n",
       "      <td>2007-03-01</td>\n",
       "      <td>4.957025</td>\n",
       "      <td>88785</td>\n",
       "      <td>6815359</td>\n",
       "    </tr>\n",
       "  </tbody>\n",
       "</table>\n",
       "</div>"
      ],
      "text/plain": [
       "  State/Territory       Date  Unemployment Rate (15+)  vacancy  population\n",
       "0             NSW 2006-03-01                 4.978780  75246.3     6735528\n",
       "1             NSW 2006-06-01                 5.288439  81637.1     6742690\n",
       "2             NSW 2006-09-01                 5.200780  76411.3     6766133\n",
       "3             NSW 2006-12-01                 4.811675  80972.6     6786160\n",
       "4             NSW 2007-03-01                 4.957025    88785     6815359"
      ]
     },
     "execution_count": 48,
     "metadata": {},
     "output_type": "execute_result"
    }
   ],
   "source": [
    "unemploy_job_vacancy = pd.merge(unemployment,job_vacancy_state,on=['Date','State/Territory'])\n",
    "unemploy_jv_pop = pd.merge(unemploy_job_vacancy, pop_state, on=['Date','State/Territory'])\n",
    "unemploy_jv_pop = unemploy_jv_pop.drop(['Employment Rate (15-64)','Participation Rate (15+)'],axis=1)\n",
    "unemploy_jv_pop.head()"
   ]
  },
  {
   "cell_type": "code",
   "execution_count": 49,
   "metadata": {},
   "outputs": [
    {
     "name": "stderr",
     "output_type": "stream",
     "text": [
      "/Users/jibusi/anaconda/lib/python3.6/site-packages/ipykernel/__main__.py:2: FutureWarning: sort(columns=....) is deprecated, use sort_values(by=.....)\n",
      "  from ipykernel import kernelapp as app\n"
     ]
    },
    {
     "data": {
      "text/html": [
       "<div>\n",
       "<table border=\"1\" class=\"dataframe\">\n",
       "  <thead>\n",
       "    <tr style=\"text-align: right;\">\n",
       "      <th></th>\n",
       "      <th>State/Territory</th>\n",
       "      <th>Date</th>\n",
       "      <th>Unemployment Rate (15+)</th>\n",
       "      <th>vacancy</th>\n",
       "      <th>population</th>\n",
       "    </tr>\n",
       "  </thead>\n",
       "  <tbody>\n",
       "    <tr>\n",
       "      <th>0</th>\n",
       "      <td>NSW</td>\n",
       "      <td>2006-03-01</td>\n",
       "      <td>4.978780</td>\n",
       "      <td>75246.3</td>\n",
       "      <td>6735528</td>\n",
       "    </tr>\n",
       "    <tr>\n",
       "      <th>76</th>\n",
       "      <td>QLD</td>\n",
       "      <td>2006-03-01</td>\n",
       "      <td>4.705125</td>\n",
       "      <td>49233</td>\n",
       "      <td>3987653</td>\n",
       "    </tr>\n",
       "    <tr>\n",
       "      <th>114</th>\n",
       "      <td>SA</td>\n",
       "      <td>2006-03-01</td>\n",
       "      <td>5.035000</td>\n",
       "      <td>13669.6</td>\n",
       "      <td>1550135</td>\n",
       "    </tr>\n",
       "    <tr>\n",
       "      <th>266</th>\n",
       "      <td>ACT</td>\n",
       "      <td>2006-03-01</td>\n",
       "      <td>3.254369</td>\n",
       "      <td>3473.9</td>\n",
       "      <td>334299</td>\n",
       "    </tr>\n",
       "    <tr>\n",
       "      <th>190</th>\n",
       "      <td>TAS</td>\n",
       "      <td>2006-03-01</td>\n",
       "      <td>6.608448</td>\n",
       "      <td>3272.3</td>\n",
       "      <td>489140</td>\n",
       "    </tr>\n",
       "    <tr>\n",
       "      <th>152</th>\n",
       "      <td>WA</td>\n",
       "      <td>2006-03-01</td>\n",
       "      <td>3.988064</td>\n",
       "      <td>19739.3</td>\n",
       "      <td>2042450</td>\n",
       "    </tr>\n",
       "    <tr>\n",
       "      <th>228</th>\n",
       "      <td>NT</td>\n",
       "      <td>2006-03-01</td>\n",
       "      <td>5.765331</td>\n",
       "      <td>2485</td>\n",
       "      <td>208347</td>\n",
       "    </tr>\n",
       "    <tr>\n",
       "      <th>38</th>\n",
       "      <td>VIC</td>\n",
       "      <td>2006-03-01</td>\n",
       "      <td>5.112932</td>\n",
       "      <td>51492.4</td>\n",
       "      <td>5048207</td>\n",
       "    </tr>\n",
       "    <tr>\n",
       "      <th>191</th>\n",
       "      <td>TAS</td>\n",
       "      <td>2006-06-01</td>\n",
       "      <td>6.669892</td>\n",
       "      <td>2978.1</td>\n",
       "      <td>489302</td>\n",
       "    </tr>\n",
       "    <tr>\n",
       "      <th>153</th>\n",
       "      <td>WA</td>\n",
       "      <td>2006-06-01</td>\n",
       "      <td>3.351213</td>\n",
       "      <td>22077.5</td>\n",
       "      <td>2050581</td>\n",
       "    </tr>\n",
       "    <tr>\n",
       "      <th>39</th>\n",
       "      <td>VIC</td>\n",
       "      <td>2006-06-01</td>\n",
       "      <td>5.021526</td>\n",
       "      <td>53746.2</td>\n",
       "      <td>5061266</td>\n",
       "    </tr>\n",
       "    <tr>\n",
       "      <th>229</th>\n",
       "      <td>NT</td>\n",
       "      <td>2006-06-01</td>\n",
       "      <td>4.942226</td>\n",
       "      <td>3201</td>\n",
       "      <td>209057</td>\n",
       "    </tr>\n",
       "    <tr>\n",
       "      <th>115</th>\n",
       "      <td>SA</td>\n",
       "      <td>2006-06-01</td>\n",
       "      <td>4.730513</td>\n",
       "      <td>13611.8</td>\n",
       "      <td>1552529</td>\n",
       "    </tr>\n",
       "    <tr>\n",
       "      <th>267</th>\n",
       "      <td>ACT</td>\n",
       "      <td>2006-06-01</td>\n",
       "      <td>3.004263</td>\n",
       "      <td>3719</td>\n",
       "      <td>335170</td>\n",
       "    </tr>\n",
       "    <tr>\n",
       "      <th>77</th>\n",
       "      <td>QLD</td>\n",
       "      <td>2006-06-01</td>\n",
       "      <td>4.500243</td>\n",
       "      <td>54667.4</td>\n",
       "      <td>4007992</td>\n",
       "    </tr>\n",
       "    <tr>\n",
       "      <th>1</th>\n",
       "      <td>NSW</td>\n",
       "      <td>2006-06-01</td>\n",
       "      <td>5.288439</td>\n",
       "      <td>81637.1</td>\n",
       "      <td>6742690</td>\n",
       "    </tr>\n",
       "    <tr>\n",
       "      <th>154</th>\n",
       "      <td>WA</td>\n",
       "      <td>2006-09-01</td>\n",
       "      <td>3.352964</td>\n",
       "      <td>20614.3</td>\n",
       "      <td>2064032</td>\n",
       "    </tr>\n",
       "    <tr>\n",
       "      <th>230</th>\n",
       "      <td>NT</td>\n",
       "      <td>2006-09-01</td>\n",
       "      <td>3.786272</td>\n",
       "      <td>2785</td>\n",
       "      <td>210284</td>\n",
       "    </tr>\n",
       "    <tr>\n",
       "      <th>268</th>\n",
       "      <td>ACT</td>\n",
       "      <td>2006-09-01</td>\n",
       "      <td>2.901175</td>\n",
       "      <td>3767.6</td>\n",
       "      <td>336547</td>\n",
       "    </tr>\n",
       "    <tr>\n",
       "      <th>78</th>\n",
       "      <td>QLD</td>\n",
       "      <td>2006-09-01</td>\n",
       "      <td>4.538923</td>\n",
       "      <td>51180.1</td>\n",
       "      <td>4031580</td>\n",
       "    </tr>\n",
       "    <tr>\n",
       "      <th>40</th>\n",
       "      <td>VIC</td>\n",
       "      <td>2006-09-01</td>\n",
       "      <td>4.579141</td>\n",
       "      <td>51013.6</td>\n",
       "      <td>5083593</td>\n",
       "    </tr>\n",
       "    <tr>\n",
       "      <th>192</th>\n",
       "      <td>TAS</td>\n",
       "      <td>2006-09-01</td>\n",
       "      <td>6.602978</td>\n",
       "      <td>2609.5</td>\n",
       "      <td>490354</td>\n",
       "    </tr>\n",
       "    <tr>\n",
       "      <th>116</th>\n",
       "      <td>SA</td>\n",
       "      <td>2006-09-01</td>\n",
       "      <td>4.772877</td>\n",
       "      <td>13287.1</td>\n",
       "      <td>1557332</td>\n",
       "    </tr>\n",
       "    <tr>\n",
       "      <th>2</th>\n",
       "      <td>NSW</td>\n",
       "      <td>2006-09-01</td>\n",
       "      <td>5.200780</td>\n",
       "      <td>76411.3</td>\n",
       "      <td>6766133</td>\n",
       "    </tr>\n",
       "    <tr>\n",
       "      <th>3</th>\n",
       "      <td>NSW</td>\n",
       "      <td>2006-12-01</td>\n",
       "      <td>4.811675</td>\n",
       "      <td>80972.6</td>\n",
       "      <td>6786160</td>\n",
       "    </tr>\n",
       "    <tr>\n",
       "      <th>79</th>\n",
       "      <td>QLD</td>\n",
       "      <td>2006-12-01</td>\n",
       "      <td>4.089735</td>\n",
       "      <td>53252.2</td>\n",
       "      <td>4055845</td>\n",
       "    </tr>\n",
       "    <tr>\n",
       "      <th>193</th>\n",
       "      <td>TAS</td>\n",
       "      <td>2006-12-01</td>\n",
       "      <td>5.655384</td>\n",
       "      <td>3314.8</td>\n",
       "      <td>491515</td>\n",
       "    </tr>\n",
       "    <tr>\n",
       "      <th>41</th>\n",
       "      <td>VIC</td>\n",
       "      <td>2006-12-01</td>\n",
       "      <td>5.003476</td>\n",
       "      <td>55297.1</td>\n",
       "      <td>5103965</td>\n",
       "    </tr>\n",
       "    <tr>\n",
       "      <th>155</th>\n",
       "      <td>WA</td>\n",
       "      <td>2006-12-01</td>\n",
       "      <td>3.339695</td>\n",
       "      <td>21682.7</td>\n",
       "      <td>2076867</td>\n",
       "    </tr>\n",
       "    <tr>\n",
       "      <th>269</th>\n",
       "      <td>ACT</td>\n",
       "      <td>2006-12-01</td>\n",
       "      <td>3.013147</td>\n",
       "      <td>3851.3</td>\n",
       "      <td>338381</td>\n",
       "    </tr>\n",
       "    <tr>\n",
       "      <th>...</th>\n",
       "      <td>...</td>\n",
       "      <td>...</td>\n",
       "      <td>...</td>\n",
       "      <td>...</td>\n",
       "      <td>...</td>\n",
       "    </tr>\n",
       "    <tr>\n",
       "      <th>34</th>\n",
       "      <td>NSW</td>\n",
       "      <td>2014-09-01</td>\n",
       "      <td>5.936505</td>\n",
       "      <td>56687.3</td>\n",
       "      <td>7542546</td>\n",
       "    </tr>\n",
       "    <tr>\n",
       "      <th>148</th>\n",
       "      <td>SA</td>\n",
       "      <td>2014-09-01</td>\n",
       "      <td>6.738961</td>\n",
       "      <td>7308.7</td>\n",
       "      <td>1688666</td>\n",
       "    </tr>\n",
       "    <tr>\n",
       "      <th>300</th>\n",
       "      <td>ACT</td>\n",
       "      <td>2014-09-01</td>\n",
       "      <td>4.850543</td>\n",
       "      <td>3607.4</td>\n",
       "      <td>386548</td>\n",
       "    </tr>\n",
       "    <tr>\n",
       "      <th>224</th>\n",
       "      <td>TAS</td>\n",
       "      <td>2014-09-01</td>\n",
       "      <td>7.677826</td>\n",
       "      <td>1707.4</td>\n",
       "      <td>515068</td>\n",
       "    </tr>\n",
       "    <tr>\n",
       "      <th>72</th>\n",
       "      <td>VIC</td>\n",
       "      <td>2014-09-01</td>\n",
       "      <td>6.818976</td>\n",
       "      <td>37302.8</td>\n",
       "      <td>5865076</td>\n",
       "    </tr>\n",
       "    <tr>\n",
       "      <th>186</th>\n",
       "      <td>WA</td>\n",
       "      <td>2014-09-01</td>\n",
       "      <td>5.084462</td>\n",
       "      <td>17683.5</td>\n",
       "      <td>2567004</td>\n",
       "    </tr>\n",
       "    <tr>\n",
       "      <th>301</th>\n",
       "      <td>ACT</td>\n",
       "      <td>2014-12-01</td>\n",
       "      <td>4.641994</td>\n",
       "      <td>3518.6</td>\n",
       "      <td>387548</td>\n",
       "    </tr>\n",
       "    <tr>\n",
       "      <th>225</th>\n",
       "      <td>TAS</td>\n",
       "      <td>2014-12-01</td>\n",
       "      <td>6.567723</td>\n",
       "      <td>1605.7</td>\n",
       "      <td>515319</td>\n",
       "    </tr>\n",
       "    <tr>\n",
       "      <th>263</th>\n",
       "      <td>NT</td>\n",
       "      <td>2014-12-01</td>\n",
       "      <td>3.845082</td>\n",
       "      <td>2305.5</td>\n",
       "      <td>243316</td>\n",
       "    </tr>\n",
       "    <tr>\n",
       "      <th>73</th>\n",
       "      <td>VIC</td>\n",
       "      <td>2014-12-01</td>\n",
       "      <td>6.390826</td>\n",
       "      <td>36638.6</td>\n",
       "      <td>5885688</td>\n",
       "    </tr>\n",
       "    <tr>\n",
       "      <th>149</th>\n",
       "      <td>SA</td>\n",
       "      <td>2014-12-01</td>\n",
       "      <td>6.683666</td>\n",
       "      <td>7000</td>\n",
       "      <td>1691591</td>\n",
       "    </tr>\n",
       "    <tr>\n",
       "      <th>111</th>\n",
       "      <td>QLD</td>\n",
       "      <td>2014-12-01</td>\n",
       "      <td>6.292685</td>\n",
       "      <td>28760.1</td>\n",
       "      <td>4749636</td>\n",
       "    </tr>\n",
       "    <tr>\n",
       "      <th>187</th>\n",
       "      <td>WA</td>\n",
       "      <td>2014-12-01</td>\n",
       "      <td>5.762936</td>\n",
       "      <td>16222.6</td>\n",
       "      <td>2574245</td>\n",
       "    </tr>\n",
       "    <tr>\n",
       "      <th>35</th>\n",
       "      <td>NSW</td>\n",
       "      <td>2014-12-01</td>\n",
       "      <td>5.958400</td>\n",
       "      <td>54636.3</td>\n",
       "      <td>7563738</td>\n",
       "    </tr>\n",
       "    <tr>\n",
       "      <th>226</th>\n",
       "      <td>TAS</td>\n",
       "      <td>2015-03-01</td>\n",
       "      <td>6.570396</td>\n",
       "      <td>1505.8</td>\n",
       "      <td>516134</td>\n",
       "    </tr>\n",
       "    <tr>\n",
       "      <th>74</th>\n",
       "      <td>VIC</td>\n",
       "      <td>2015-03-01</td>\n",
       "      <td>6.230159</td>\n",
       "      <td>39687.1</td>\n",
       "      <td>5914753</td>\n",
       "    </tr>\n",
       "    <tr>\n",
       "      <th>112</th>\n",
       "      <td>QLD</td>\n",
       "      <td>2015-03-01</td>\n",
       "      <td>6.580057</td>\n",
       "      <td>28875.4</td>\n",
       "      <td>4765942</td>\n",
       "    </tr>\n",
       "    <tr>\n",
       "      <th>150</th>\n",
       "      <td>SA</td>\n",
       "      <td>2015-03-01</td>\n",
       "      <td>6.397173</td>\n",
       "      <td>7074.5</td>\n",
       "      <td>1696229</td>\n",
       "    </tr>\n",
       "    <tr>\n",
       "      <th>302</th>\n",
       "      <td>ACT</td>\n",
       "      <td>2015-03-01</td>\n",
       "      <td>4.326284</td>\n",
       "      <td>4118.6</td>\n",
       "      <td>389781</td>\n",
       "    </tr>\n",
       "    <tr>\n",
       "      <th>188</th>\n",
       "      <td>WA</td>\n",
       "      <td>2015-03-01</td>\n",
       "      <td>5.658799</td>\n",
       "      <td>15852</td>\n",
       "      <td>2584875</td>\n",
       "    </tr>\n",
       "    <tr>\n",
       "      <th>36</th>\n",
       "      <td>NSW</td>\n",
       "      <td>2015-03-01</td>\n",
       "      <td>5.935584</td>\n",
       "      <td>58250.6</td>\n",
       "      <td>7593897</td>\n",
       "    </tr>\n",
       "    <tr>\n",
       "      <th>264</th>\n",
       "      <td>NT</td>\n",
       "      <td>2015-03-01</td>\n",
       "      <td>4.246118</td>\n",
       "      <td>2004.8</td>\n",
       "      <td>243401</td>\n",
       "    </tr>\n",
       "    <tr>\n",
       "      <th>151</th>\n",
       "      <td>SA</td>\n",
       "      <td>2015-06-01</td>\n",
       "      <td>7.906160</td>\n",
       "      <td>6170.1</td>\n",
       "      <td>1698594</td>\n",
       "    </tr>\n",
       "    <tr>\n",
       "      <th>227</th>\n",
       "      <td>TAS</td>\n",
       "      <td>2015-06-01</td>\n",
       "      <td>6.432085</td>\n",
       "      <td>1439.8</td>\n",
       "      <td>516630</td>\n",
       "    </tr>\n",
       "    <tr>\n",
       "      <th>189</th>\n",
       "      <td>WA</td>\n",
       "      <td>2015-06-01</td>\n",
       "      <td>6.003158</td>\n",
       "      <td>15222.9</td>\n",
       "      <td>2591585</td>\n",
       "    </tr>\n",
       "    <tr>\n",
       "      <th>113</th>\n",
       "      <td>QLD</td>\n",
       "      <td>2015-06-01</td>\n",
       "      <td>5.994555</td>\n",
       "      <td>27266.5</td>\n",
       "      <td>4779400</td>\n",
       "    </tr>\n",
       "    <tr>\n",
       "      <th>75</th>\n",
       "      <td>VIC</td>\n",
       "      <td>2015-06-01</td>\n",
       "      <td>6.055538</td>\n",
       "      <td>38450.7</td>\n",
       "      <td>5938119</td>\n",
       "    </tr>\n",
       "    <tr>\n",
       "      <th>37</th>\n",
       "      <td>NSW</td>\n",
       "      <td>2015-06-01</td>\n",
       "      <td>5.845268</td>\n",
       "      <td>57562.6</td>\n",
       "      <td>7618241</td>\n",
       "    </tr>\n",
       "    <tr>\n",
       "      <th>265</th>\n",
       "      <td>NT</td>\n",
       "      <td>2015-06-01</td>\n",
       "      <td>4.484751</td>\n",
       "      <td>2064.3</td>\n",
       "      <td>244602</td>\n",
       "    </tr>\n",
       "    <tr>\n",
       "      <th>303</th>\n",
       "      <td>ACT</td>\n",
       "      <td>2015-06-01</td>\n",
       "      <td>4.540913</td>\n",
       "      <td>4279.7</td>\n",
       "      <td>390757</td>\n",
       "    </tr>\n",
       "  </tbody>\n",
       "</table>\n",
       "<p>304 rows × 5 columns</p>\n",
       "</div>"
      ],
      "text/plain": [
       "    State/Territory       Date  Unemployment Rate (15+)  vacancy  population\n",
       "0               NSW 2006-03-01                 4.978780  75246.3     6735528\n",
       "76              QLD 2006-03-01                 4.705125    49233     3987653\n",
       "114              SA 2006-03-01                 5.035000  13669.6     1550135\n",
       "266             ACT 2006-03-01                 3.254369   3473.9      334299\n",
       "190             TAS 2006-03-01                 6.608448   3272.3      489140\n",
       "152              WA 2006-03-01                 3.988064  19739.3     2042450\n",
       "228              NT 2006-03-01                 5.765331     2485      208347\n",
       "38              VIC 2006-03-01                 5.112932  51492.4     5048207\n",
       "191             TAS 2006-06-01                 6.669892   2978.1      489302\n",
       "153              WA 2006-06-01                 3.351213  22077.5     2050581\n",
       "39              VIC 2006-06-01                 5.021526  53746.2     5061266\n",
       "229              NT 2006-06-01                 4.942226     3201      209057\n",
       "115              SA 2006-06-01                 4.730513  13611.8     1552529\n",
       "267             ACT 2006-06-01                 3.004263     3719      335170\n",
       "77              QLD 2006-06-01                 4.500243  54667.4     4007992\n",
       "1               NSW 2006-06-01                 5.288439  81637.1     6742690\n",
       "154              WA 2006-09-01                 3.352964  20614.3     2064032\n",
       "230              NT 2006-09-01                 3.786272     2785      210284\n",
       "268             ACT 2006-09-01                 2.901175   3767.6      336547\n",
       "78              QLD 2006-09-01                 4.538923  51180.1     4031580\n",
       "40              VIC 2006-09-01                 4.579141  51013.6     5083593\n",
       "192             TAS 2006-09-01                 6.602978   2609.5      490354\n",
       "116              SA 2006-09-01                 4.772877  13287.1     1557332\n",
       "2               NSW 2006-09-01                 5.200780  76411.3     6766133\n",
       "3               NSW 2006-12-01                 4.811675  80972.6     6786160\n",
       "79              QLD 2006-12-01                 4.089735  53252.2     4055845\n",
       "193             TAS 2006-12-01                 5.655384   3314.8      491515\n",
       "41              VIC 2006-12-01                 5.003476  55297.1     5103965\n",
       "155              WA 2006-12-01                 3.339695  21682.7     2076867\n",
       "269             ACT 2006-12-01                 3.013147   3851.3      338381\n",
       "..              ...        ...                      ...      ...         ...\n",
       "34              NSW 2014-09-01                 5.936505  56687.3     7542546\n",
       "148              SA 2014-09-01                 6.738961   7308.7     1688666\n",
       "300             ACT 2014-09-01                 4.850543   3607.4      386548\n",
       "224             TAS 2014-09-01                 7.677826   1707.4      515068\n",
       "72              VIC 2014-09-01                 6.818976  37302.8     5865076\n",
       "186              WA 2014-09-01                 5.084462  17683.5     2567004\n",
       "301             ACT 2014-12-01                 4.641994   3518.6      387548\n",
       "225             TAS 2014-12-01                 6.567723   1605.7      515319\n",
       "263              NT 2014-12-01                 3.845082   2305.5      243316\n",
       "73              VIC 2014-12-01                 6.390826  36638.6     5885688\n",
       "149              SA 2014-12-01                 6.683666     7000     1691591\n",
       "111             QLD 2014-12-01                 6.292685  28760.1     4749636\n",
       "187              WA 2014-12-01                 5.762936  16222.6     2574245\n",
       "35              NSW 2014-12-01                 5.958400  54636.3     7563738\n",
       "226             TAS 2015-03-01                 6.570396   1505.8      516134\n",
       "74              VIC 2015-03-01                 6.230159  39687.1     5914753\n",
       "112             QLD 2015-03-01                 6.580057  28875.4     4765942\n",
       "150              SA 2015-03-01                 6.397173   7074.5     1696229\n",
       "302             ACT 2015-03-01                 4.326284   4118.6      389781\n",
       "188              WA 2015-03-01                 5.658799    15852     2584875\n",
       "36              NSW 2015-03-01                 5.935584  58250.6     7593897\n",
       "264              NT 2015-03-01                 4.246118   2004.8      243401\n",
       "151              SA 2015-06-01                 7.906160   6170.1     1698594\n",
       "227             TAS 2015-06-01                 6.432085   1439.8      516630\n",
       "189              WA 2015-06-01                 6.003158  15222.9     2591585\n",
       "113             QLD 2015-06-01                 5.994555  27266.5     4779400\n",
       "75              VIC 2015-06-01                 6.055538  38450.7     5938119\n",
       "37              NSW 2015-06-01                 5.845268  57562.6     7618241\n",
       "265              NT 2015-06-01                 4.484751   2064.3      244602\n",
       "303             ACT 2015-06-01                 4.540913   4279.7      390757\n",
       "\n",
       "[304 rows x 5 columns]"
      ]
     },
     "execution_count": 49,
     "metadata": {},
     "output_type": "execute_result"
    }
   ],
   "source": [
    "#Sort table by date.\n",
    "unemploy_jv_pop.sort(columns='Date')"
   ]
  },
  {
   "cell_type": "markdown",
   "metadata": {},
   "source": [
    "#### Q&A:\n",
    "**What is the first date and last date for the combined data?**\n",
    "* The first date in the combined table is '2006-03-01'.\n",
    "* The last date in the combined table is '2015-06-01'."
   ]
  },
  {
   "cell_type": "markdown",
   "metadata": {},
   "source": [
    "#### 3.4.2. Is there a relationship between unemployment and the number of job vacancies. Plot the values against each other."
   ]
  },
  {
   "cell_type": "code",
   "execution_count": 50,
   "metadata": {
    "scrolled": true
   },
   "outputs": [
    {
     "data": {
      "image/png": "[encoded data removed]",
      "text/plain": [
       "<matplotlib.figure.Figure at 0x11b4440f0>"
      ]
     },
     "metadata": {},
     "output_type": "display_data"
    }
   ],
   "source": [
    "fig, ax = plt.subplots()\n",
    "plt.scatter(unemploy_jv_pop['vacancy'],unemploy_jv_pop['Unemployment Rate (15+)'])\n",
    "\n",
    "slope, intercept, r_value, p_value, std_err = linregress(unemploy_jv_pop['vacancy'],unemploy_jv_pop['Unemployment Rate (15+)'])\n",
    "line = [slope*xi + intercept for xi in unemploy_jv_pop['vacancy']]\n",
    "plt.plot(unemploy_jv_pop['vacancy'],line,'r-',linewidth=3)\n",
    "ax.set_xlabel('job vacancy')\n",
    "ax.set_ylabel('unemployment')\n",
    "ax.set_title('Unemployment and the number of job vacancies in Australia')\n",
    "plt.show()"
   ]
  },
  {
   "cell_type": "markdown",
   "metadata": {},
   "source": [
    "#### Q&A:\n",
    "**Can you see a relationship there? **\n",
    "> From the plot above, it seems there is no relationship between unemployment and the number of job vacancies. "
   ]
  },
  {
   "cell_type": "markdown",
   "metadata": {},
   "source": [
    "#### 3.4.3. Try selecting and plotting only the data from Victoria."
   ]
  },
  {
   "cell_type": "code",
   "execution_count": 51,
   "metadata": {},
   "outputs": [
    {
     "data": {
      "text/html": [
       "<div>\n",
       "<table border=\"1\" class=\"dataframe\">\n",
       "  <thead>\n",
       "    <tr style=\"text-align: right;\">\n",
       "      <th></th>\n",
       "      <th>State/Territory</th>\n",
       "      <th>Date</th>\n",
       "      <th>Unemployment Rate (15+)</th>\n",
       "      <th>vacancy</th>\n",
       "      <th>population</th>\n",
       "    </tr>\n",
       "  </thead>\n",
       "  <tbody>\n",
       "    <tr>\n",
       "      <th>38</th>\n",
       "      <td>VIC</td>\n",
       "      <td>2006-03-01</td>\n",
       "      <td>5.112932</td>\n",
       "      <td>51492.4</td>\n",
       "      <td>5048207</td>\n",
       "    </tr>\n",
       "    <tr>\n",
       "      <th>39</th>\n",
       "      <td>VIC</td>\n",
       "      <td>2006-06-01</td>\n",
       "      <td>5.021526</td>\n",
       "      <td>53746.2</td>\n",
       "      <td>5061266</td>\n",
       "    </tr>\n",
       "    <tr>\n",
       "      <th>40</th>\n",
       "      <td>VIC</td>\n",
       "      <td>2006-09-01</td>\n",
       "      <td>4.579141</td>\n",
       "      <td>51013.6</td>\n",
       "      <td>5083593</td>\n",
       "    </tr>\n",
       "    <tr>\n",
       "      <th>41</th>\n",
       "      <td>VIC</td>\n",
       "      <td>2006-12-01</td>\n",
       "      <td>5.003476</td>\n",
       "      <td>55297.1</td>\n",
       "      <td>5103965</td>\n",
       "    </tr>\n",
       "    <tr>\n",
       "      <th>42</th>\n",
       "      <td>VIC</td>\n",
       "      <td>2007-03-01</td>\n",
       "      <td>4.828237</td>\n",
       "      <td>61757.6</td>\n",
       "      <td>5134074</td>\n",
       "    </tr>\n",
       "  </tbody>\n",
       "</table>\n",
       "</div>"
      ],
      "text/plain": [
       "   State/Territory       Date  Unemployment Rate (15+)  vacancy  population\n",
       "38             VIC 2006-03-01                 5.112932  51492.4     5048207\n",
       "39             VIC 2006-06-01                 5.021526  53746.2     5061266\n",
       "40             VIC 2006-09-01                 4.579141  51013.6     5083593\n",
       "41             VIC 2006-12-01                 5.003476  55297.1     5103965\n",
       "42             VIC 2007-03-01                 4.828237  61757.6     5134074"
      ]
     },
     "execution_count": 51,
     "metadata": {},
     "output_type": "execute_result"
    }
   ],
   "source": [
    "#Create a subset for Victoria\n",
    "unemploy_jv_pop_vic = pd.DataFrame(unemploy_jv_pop[(unemploy_jv_pop['State/Territory']=='VIC')])\n",
    "unemploy_jv_pop_vic.head()"
   ]
  },
  {
   "cell_type": "code",
   "execution_count": 52,
   "metadata": {
    "scrolled": true
   },
   "outputs": [
    {
     "data": {
      "image/png": "[encoded data removed]",
      "text/plain": [
       "<matplotlib.figure.Figure at 0x11b444b00>"
      ]
     },
     "metadata": {},
     "output_type": "display_data"
    }
   ],
   "source": [
    "#Plot only the data from Victoria.\n",
    "fig, ax = plt.subplots()\n",
    "plt.scatter(unemploy_jv_pop_vic['vacancy'],unemploy_jv_pop_vic['Unemployment Rate (15+)'])\n",
    "slope, intercept, r_value, p_value, std_err = linregress(unemploy_jv_pop_vic['vacancy'],unemploy_jv_pop_vic['Unemployment Rate (15+)'])\n",
    "line = [slope*xi + intercept for xi in unemploy_jv_pop_vic['vacancy']]\n",
    "plt.plot(unemploy_jv_pop_vic['vacancy'],line,'r-',linewidth=3)\n",
    "ax.set_xlabel('job vacancy')\n",
    "ax.set_ylabel('unemployment')\n",
    "ax.set_title('Unemployment and the number of job vacancies in Victoria')\n",
    "plt.show()"
   ]
  },
  {
   "cell_type": "markdown",
   "metadata": {},
   "source": [
    "#### Q&A:\n",
    "**Can you see a relationship now? If so, what relationship is there?**\n",
    ">Yes, from the plot we can see, in Victioria, when job vacancy increases, the overall trend of unemployment rate is downwards."
   ]
  },
  {
   "cell_type": "markdown",
   "metadata": {},
   "source": [
    "#### 3.4.4. The different populations across the states will influence the number of job vacancies in each. \n",
    "Remove this effect by introducing a new column called 'Vacancy Rate' which contains the vacancy count divided by the population size, multiplied by 100. "
   ]
  },
  {
   "cell_type": "code",
   "execution_count": 53,
   "metadata": {
    "collapsed": true
   },
   "outputs": [],
   "source": [
    "unemploy_jv_pop['Vacancy Rate'] = (unemploy_jv_pop['vacancy'] / unemploy_jv_pop['population'])*100"
   ]
  },
  {
   "cell_type": "code",
   "execution_count": 54,
   "metadata": {
    "scrolled": true
   },
   "outputs": [
    {
     "data": {
      "image/png": "[encoded data removed]",
      "text/plain": [
       "<matplotlib.figure.Figure at 0x11b4c5cc0>"
      ]
     },
     "metadata": {},
     "output_type": "display_data"
    }
   ],
   "source": [
    "fig, ax = plt.subplots()\n",
    "plt.scatter(unemploy_jv_pop['Vacancy Rate'],unemploy_jv_pop['Unemployment Rate (15+)'])\n",
    "slope, intercept, r_value, p_value, std_err = linregress(unemploy_jv_pop['Vacancy Rate'],unemploy_jv_pop['Unemployment Rate (15+)'])\n",
    "line = [slope*xi + intercept for xi in unemploy_jv_pop['Vacancy Rate']]\n",
    "plt.plot(unemploy_jv_pop['Vacancy Rate'],line,'r-',linewidth=3)\n",
    "ax.set_xlabel('job vacancy rate')\n",
    "ax.set_ylabel('unemployment')\n",
    "ax.set_title('Unemployment and the number of job vacancy rate in Victoria')\n",
    "plt.show()"
   ]
  },
  {
   "cell_type": "markdown",
   "metadata": {},
   "source": [
    "#### Q&A:\n",
    "** Is there a relationship between the unemployment rate and the job vacancy rate across all the data? **\n",
    ">From the plot above we can see, in Australia, when the job vacancey rate increases, the overall trend of unemployment rate is downwards."
   ]
  },
  {
   "cell_type": "markdown",
   "metadata": {},
   "source": [
    "### 3.5. Visualising the Relationship over Time\n",
    "\n",
    "Now let's look at the relationship between unemployment levels and job vacancies over time."
   ]
  },
  {
   "cell_type": "markdown",
   "metadata": {
    "collapsed": true
   },
   "source": [
    "#### 3.5.1 Use Motion Chart comparing the job vacancy rate, the unemployment rate, and the population of each state over time. \n",
    "\n",
    "The motion chart should show the job vacancy rate on the x-axis, the unemployment rate on the y-axis, and the bubble size should depend on the population. "
   ]
  },
  {
   "cell_type": "markdown",
   "metadata": {},
   "source": [
    "The following html code block is just to make sure that you will see the entire motion chart nicely in the output cell.\n",
    "\n"
   ]
  },
  {
   "cell_type": "code",
   "execution_count": 55,
   "metadata": {},
   "outputs": [
    {
     "data": {
      "text/html": [
       "<style>\n",
       ".output_wrapper, .output {\n",
       "    height:auto !important;\n",
       "    max-height:1000px;  /* your desired max-height here */\n",
       "}\n",
       ".output_scroll {\n",
       "    box-shadow:none !important;\n",
       "    webkit-box-shadow:none !important;\n",
       "}\n",
       "</style>"
      ],
      "text/plain": [
       "<IPython.core.display.HTML object>"
      ]
     },
     "metadata": {},
     "output_type": "display_data"
    }
   ],
   "source": [
    "%%html\n",
    "<style>\n",
    ".output_wrapper, .output {\n",
    "    height:auto !important;\n",
    "    max-height:1000px;  /* your desired max-height here */\n",
    "}\n",
    ".output_scroll {\n",
    "    box-shadow:none !important;\n",
    "    webkit-box-shadow:none !important;\n",
    "}\n",
    "</style>"
   ]
  },
  {
   "cell_type": "markdown",
   "metadata": {},
   "source": [
    "First, convert timeserie to int format"
   ]
  },
  {
   "cell_type": "code",
   "execution_count": 56,
   "metadata": {
    "collapsed": true
   },
   "outputs": [],
   "source": [
    "def convert_time_int(time):\n",
    "    return int(str(time).split()[0].replace('-',''))\n",
    "\n",
    "unemploy_jv_pop['Date'] = unemploy_jv_pop['Date'].apply(convert_time_int)\n"
   ]
  },
  {
   "cell_type": "markdown",
   "metadata": {},
   "source": [
    "Then, create a motionchart with the job vacancy rate on the x-axis, the unemployment rate on the y-axis, and the bubble size should depend on the population. "
   ]
  },
  {
   "cell_type": "code",
   "execution_count": 57,
   "metadata": {
    "scrolled": true
   },
   "outputs": [
    {
     "data": {
      "text/html": [
       "\n",
       "        <iframe\n",
       "            width=\"900\"\n",
       "            height=\"700\"\n",
       "            src=\"mc_temp.html\"\n",
       "            frameborder=\"0\"\n",
       "            allowfullscreen\n",
       "        ></iframe>\n",
       "        "
      ],
      "text/plain": [
       "<IPython.lib.display.IFrame at 0x11b44d2e8>"
      ]
     },
     "metadata": {},
     "output_type": "display_data"
    }
   ],
   "source": [
    "mChart = MotionChart(df = unemploy_jv_pop, key='Date', x='Vacancy Rate', y='Unemployment Rate (15+)', xscale='linear', yscale='linear',\n",
    "                     size='population', category='State/Territory')\n",
    "\n",
    "mChart.to_notebook()"
   ]
  },
  {
   "cell_type": "markdown",
   "metadata": {},
   "source": [
    "#### 3.5.2 Run the visualisation from start to finish. And then answer the following questions: \n",
    "\n",
    "1. Which state generally has the lowest job vacancy rate?\n",
    ">Tasmania\n",
    "2. Is the economy generally getting better or worse? I.e. was the Australian economy better in 2006/7 or 2014/5? Explain your answer. \n",
    ">From 2006/7 to 2014/5, the enconomy seems to get worse, since the job vacancy rate shows continued declines while the unemployee rate gets higher in New South Wales, Victoria, Queensland and West Australia which account for most proportion of Australian population.\n",
    "3. Compared to the states, does the Northern Territory generally have higher or lower unemployment and higher or lower job vacancy rates? What might cause this? Would it make sense economically to move to NT? \n",
    ">Compared to other states, in general, the Northern Territory has lower unemployment and higher job vacancy rates. It may be because the Northern Territory's economy is largely driven by mining which is labor intensive industry, while the population in Northern Territory is relatively small. It may be a good choice to move to NT to find job. However, it may highly depend on what jobs you are looking for. Since from this data there is no information about jobs offered in NT, it is hard to predict whether it makes sense to move to NT.\n",
    "4. According to the graph what happened at the end of 2008 and start of 2009? What might have caused this?\n",
    ">At the end of 2008 and start of 2009, the job vacancy rates dropped dramatically while the unemployment rate increased quickly. This may be caused by the effect of 2008 Golbal Financial crisis.\n",
    "5. Any other interesting things you notice in the data?\n",
    ">One interesting thing I find is that the populations of each states have no big changes from 2006 to 2015.\n",
    "\n"
   ]
  },
  {
   "cell_type": "markdown",
   "metadata": {},
   "source": [
    "## 4. Task B: Exploratory Analysis on Big Data\n",
    "\n",
    "In this part, I am going to do some exploratory analysis on the health insurance marketplace data. The file InsuranceRates.csv.zip contains data on health and dental plans offered to individuals and small businesses through the US Health Insurance Marketplace. The file contains the following fields: \n",
    "\n",
    "| COLUMN | DESCRIPTION |\n",
    "| ------ | ----------- |\n",
    "| BusinessYear | Year for which plan provides coverage to enrollees. |\n",
    "| StateCode | Two-character state abbreviation indicating the state where the plan is offered |\n",
    "| IssuerId | Five-digit numeric code that identifies the issuer organization in the Health Insurance Oversight System (HIOS) |\n",
    "| PlanId | Fourteen-character alpha-numeric code that identifies an insurance plan within HIOS |\n",
    "| Age | Categorical indicator of whether a subscriber's age is used to determine rate eligibility for the insurance plan. |\n",
    "| IndividualRate | Dollar value for the insurance premium cost applicable to a non-tobacco user for the insurance plan in a rating area, or to a general subscriber if there is no tobacco preference. |\n",
    "| IndividualTobaccoRate | Dollar value for the insurance premium cost applicable to a tobacco user for the insurance plan in a rating area |\n"
   ]
  },
  {
   "cell_type": "markdown",
   "metadata": {},
   "source": [
    "### 4.1 Summarising the Data\n",
    "\n",
    "Load the InsuranceRates.csv data in Python (or R) and answer questions. "
   ]
  },
  {
   "cell_type": "code",
   "execution_count": 58,
   "metadata": {
    "collapsed": true
   },
   "outputs": [],
   "source": [
    "InsuranceRates = pd.read_csv('./InsuranceRates.csv')"
   ]
  },
  {
   "cell_type": "code",
   "execution_count": 59,
   "metadata": {
    "scrolled": true
   },
   "outputs": [
    {
     "data": {
      "text/html": [
       "<div>\n",
       "<table border=\"1\" class=\"dataframe\">\n",
       "  <thead>\n",
       "    <tr style=\"text-align: right;\">\n",
       "      <th></th>\n",
       "      <th>BusinessYear</th>\n",
       "      <th>StateCode</th>\n",
       "      <th>IssuerId</th>\n",
       "      <th>PlanId</th>\n",
       "      <th>Age</th>\n",
       "      <th>IndividualRate</th>\n",
       "      <th>IndividualTobaccoRate</th>\n",
       "    </tr>\n",
       "  </thead>\n",
       "  <tbody>\n",
       "    <tr>\n",
       "      <th>0</th>\n",
       "      <td>2014</td>\n",
       "      <td>AK</td>\n",
       "      <td>21989</td>\n",
       "      <td>21989AK0010001</td>\n",
       "      <td>0-20</td>\n",
       "      <td>29.00</td>\n",
       "      <td>NaN</td>\n",
       "    </tr>\n",
       "    <tr>\n",
       "      <th>1</th>\n",
       "      <td>2014</td>\n",
       "      <td>AK</td>\n",
       "      <td>21989</td>\n",
       "      <td>21989AK0020001</td>\n",
       "      <td>Family Option</td>\n",
       "      <td>36.95</td>\n",
       "      <td>NaN</td>\n",
       "    </tr>\n",
       "    <tr>\n",
       "      <th>2</th>\n",
       "      <td>2014</td>\n",
       "      <td>AK</td>\n",
       "      <td>21989</td>\n",
       "      <td>21989AK0020001</td>\n",
       "      <td>Family Option</td>\n",
       "      <td>36.95</td>\n",
       "      <td>NaN</td>\n",
       "    </tr>\n",
       "    <tr>\n",
       "      <th>3</th>\n",
       "      <td>2014</td>\n",
       "      <td>AK</td>\n",
       "      <td>21989</td>\n",
       "      <td>21989AK0010001</td>\n",
       "      <td>21</td>\n",
       "      <td>32.00</td>\n",
       "      <td>NaN</td>\n",
       "    </tr>\n",
       "    <tr>\n",
       "      <th>4</th>\n",
       "      <td>2014</td>\n",
       "      <td>AK</td>\n",
       "      <td>21989</td>\n",
       "      <td>21989AK0010001</td>\n",
       "      <td>22</td>\n",
       "      <td>32.00</td>\n",
       "      <td>NaN</td>\n",
       "    </tr>\n",
       "  </tbody>\n",
       "</table>\n",
       "</div>"
      ],
      "text/plain": [
       "   BusinessYear StateCode  IssuerId          PlanId            Age  \\\n",
       "0          2014        AK     21989  21989AK0010001           0-20   \n",
       "1          2014        AK     21989  21989AK0020001  Family Option   \n",
       "2          2014        AK     21989  21989AK0020001  Family Option   \n",
       "3          2014        AK     21989  21989AK0010001             21   \n",
       "4          2014        AK     21989  21989AK0010001             22   \n",
       "\n",
       "   IndividualRate  IndividualTobaccoRate  \n",
       "0           29.00                    NaN  \n",
       "1           36.95                    NaN  \n",
       "2           36.95                    NaN  \n",
       "3           32.00                    NaN  \n",
       "4           32.00                    NaN  "
      ]
     },
     "execution_count": 59,
     "metadata": {},
     "output_type": "execute_result"
    }
   ],
   "source": [
    "InsuranceRates.head()"
   ]
  },
  {
   "cell_type": "markdown",
   "metadata": {},
   "source": [
    " **Q1.How many rows and columns are there?**"
   ]
  },
  {
   "cell_type": "code",
   "execution_count": 60,
   "metadata": {
    "scrolled": true
   },
   "outputs": [
    {
     "data": {
      "text/plain": [
       "(12694445, 7)"
      ]
     },
     "execution_count": 60,
     "metadata": {},
     "output_type": "execute_result"
    }
   ],
   "source": [
    "InsuranceRates.shape"
   ]
  },
  {
   "cell_type": "markdown",
   "metadata": {},
   "source": [
    "**Q2.How many years does the data cover? **"
   ]
  },
  {
   "cell_type": "code",
   "execution_count": 61,
   "metadata": {
    "scrolled": true
   },
   "outputs": [
    {
     "data": {
      "text/plain": [
       "3"
      ]
     },
     "execution_count": 61,
     "metadata": {},
     "output_type": "execute_result"
    }
   ],
   "source": [
    "InsuranceRates.BusinessYear.nunique()"
   ]
  },
  {
   "cell_type": "markdown",
   "metadata": {
    "collapsed": true
   },
   "source": [
    "**Q3. What are the possible values for 'Age'?**"
   ]
  },
  {
   "cell_type": "code",
   "execution_count": 62,
   "metadata": {},
   "outputs": [
    {
     "data": {
      "text/plain": [
       "0-20             275489\n",
       "44               275067\n",
       "58               275067\n",
       "55               275067\n",
       "24               275067\n",
       "22               275067\n",
       "35               275067\n",
       "28               275067\n",
       "53               275067\n",
       "30               275067\n",
       "41               275067\n",
       "52               275067\n",
       "54               275067\n",
       "46               275067\n",
       "27               275067\n",
       "61               275067\n",
       "50               275067\n",
       "59               275067\n",
       "33               275067\n",
       "64               275067\n",
       "56               275067\n",
       "43               275067\n",
       "48               275067\n",
       "65 and over      275067\n",
       "31               275067\n",
       "32               275067\n",
       "62               275067\n",
       "60               275067\n",
       "40               275067\n",
       "38               275067\n",
       "26               275067\n",
       "34               275067\n",
       "23               275067\n",
       "49               275067\n",
       "29               275067\n",
       "36               275067\n",
       "63               275067\n",
       "37               275067\n",
       "47               275067\n",
       "39               275067\n",
       "21               275067\n",
       "51               275067\n",
       "42               275067\n",
       "45               275067\n",
       "25               275067\n",
       "57               275067\n",
       "Family Option     40941\n",
       "Name: Age, dtype: int64"
      ]
     },
     "execution_count": 62,
     "metadata": {},
     "output_type": "execute_result"
    }
   ],
   "source": [
    "InsuranceRates.Age.value_counts()"
   ]
  },
  {
   "cell_type": "markdown",
   "metadata": {},
   "source": [
    "**Q4. How many states are there?**"
   ]
  },
  {
   "cell_type": "code",
   "execution_count": 63,
   "metadata": {},
   "outputs": [
    {
     "data": {
      "text/plain": [
       "39"
      ]
     },
     "execution_count": 63,
     "metadata": {},
     "output_type": "execute_result"
    }
   ],
   "source": [
    "InsuranceRates.StateCode.nunique()"
   ]
  },
  {
   "cell_type": "markdown",
   "metadata": {},
   "source": [
    "**Q5. How many insurance providers are there?**"
   ]
  },
  {
   "cell_type": "code",
   "execution_count": 64,
   "metadata": {
    "scrolled": false
   },
   "outputs": [
    {
     "data": {
      "text/plain": [
       "910"
      ]
     },
     "execution_count": 64,
     "metadata": {},
     "output_type": "execute_result"
    }
   ],
   "source": [
    "InsuranceRates.IssuerId.nunique()"
   ]
  },
  {
   "cell_type": "markdown",
   "metadata": {},
   "source": [
    "**Q6. What are the average, maximum and minimum values for the monthly insurance premium cost for an individual? Do those values seem reasonable to you?**"
   ]
  },
  {
   "cell_type": "code",
   "execution_count": 65,
   "metadata": {
    "scrolled": true
   },
   "outputs": [
    {
     "name": "stdout",
     "output_type": "stream",
     "text": [
      "The average values for the monthly insurance premium cost for an non-smoker individual 4098.026458581588\n",
      "The maximum values for the monthly insurance premium cost for an non-smoker individual 999999.0\n",
      "The minimum values for the monthly insurance premium cost for an non-smoker individual 0.0\n",
      "The average values for the monthly insurance premium cost for an smoker individual 543.6910791972659\n",
      "The maximum values for the monthly insurance premium cost for an smoker individual 6604.61\n",
      "The minimum values for the monthly insurance premium cost for an smoker individual 41.73\n"
     ]
    }
   ],
   "source": [
    "print('The average values for the monthly insurance premium cost for an non-smoker individual',InsuranceRates.IndividualRate.mean())\n",
    "print('The maximum values for the monthly insurance premium cost for an non-smoker individual',InsuranceRates.IndividualRate.max())\n",
    "print('The minimum values for the monthly insurance premium cost for an non-smoker individual',InsuranceRates.IndividualRate.min())\n",
    "\n",
    "print('The average values for the monthly insurance premium cost for an smoker individual',InsuranceRates.IndividualTobaccoRate.mean())\n",
    "print('The maximum values for the monthly insurance premium cost for an smoker individual',InsuranceRates.IndividualTobaccoRate.max())\n",
    "print('The minimum values for the monthly insurance premium cost for an smoker individual',InsuranceRates.IndividualTobaccoRate.min())"
   ]
  },
  {
   "cell_type": "markdown",
   "metadata": {},
   "source": [
    "**Q7. How much more on average do plans for smokers cost?**"
   ]
  },
  {
   "cell_type": "code",
   "execution_count": 66,
   "metadata": {
    "scrolled": true
   },
   "outputs": [
    {
     "data": {
      "text/plain": [
       "-3554.3353793843216"
      ]
     },
     "execution_count": 66,
     "metadata": {},
     "output_type": "execute_result"
    }
   ],
   "source": [
    "InsuranceRates.IndividualTobaccoRate.mean() - InsuranceRates.IndividualRate.mean() "
   ]
  },
  {
   "cell_type": "markdown",
   "metadata": {},
   "source": [
    "### 4.2. Investigating Individual Insurance Costs\n",
    "\n",
    "Now let's look more in detail at the individual insurance costs.\n",
    "\n",
    "*In the following section, we assume that when talking about individual insurance costs, it means the **non-smoker** individual insurance cost, and the cost stands for **annual cost**.*\n",
    "#### 4.2.1. Show the distribution of ‘IndividualRate’ values using a histogram. \n"
   ]
  },
  {
   "cell_type": "code",
   "execution_count": 67,
   "metadata": {},
   "outputs": [
    {
     "data": {
      "text/plain": [
       "291.6"
      ]
     },
     "execution_count": 67,
     "metadata": {},
     "output_type": "execute_result"
    }
   ],
   "source": [
    "InsuranceRates.IndividualRate.median()"
   ]
  },
  {
   "cell_type": "code",
   "execution_count": 68,
   "metadata": {
    "scrolled": false
   },
   "outputs": [
    {
     "data": {
      "text/plain": [
       "<matplotlib.axes._subplots.AxesSubplot at 0x11b44f828>"
      ]
     },
     "execution_count": 68,
     "metadata": {},
     "output_type": "execute_result"
    },
    {
     "data": {
      "image/png": "[encoded data removed]",
      "text/plain": [
       "<matplotlib.figure.Figure at 0x13ea961d0>"
      ]
     },
     "metadata": {},
     "output_type": "display_data"
    }
   ],
   "source": [
    "InsuranceRates.IndividualRate.hist(bins=200)"
   ]
  },
  {
   "cell_type": "markdown",
   "metadata": {},
   "source": [
    "#### Q&A:\n",
    "** Does the distribution make sense to? What might be going on? **\n",
    ">No, because the differece between the maximum value and the minimum value is so large, and most values concentrate in a small interval."
   ]
  },
  {
   "cell_type": "markdown",
   "metadata": {
    "collapsed": true
   },
   "source": [
    "#### 4.2.2 Remove rows with insurance premiums of 0 (or less) and over 2000.  Generate a new histogram with a larger number of bins"
   ]
  },
  {
   "cell_type": "code",
   "execution_count": 69,
   "metadata": {
    "collapsed": true
   },
   "outputs": [],
   "source": [
    "#Set the filter by insurance premiums of 0 (or less) and over 2000\n",
    "filt = ((InsuranceRates.IndividualRate >0) & (InsuranceRates.IndividualRate <= 2000))\n",
    "InsuranceRates_removed = InsuranceRates[filt]"
   ]
  },
  {
   "cell_type": "code",
   "execution_count": 70,
   "metadata": {
    "scrolled": true
   },
   "outputs": [
    {
     "data": {
      "text/plain": [
       "(0, 500000)"
      ]
     },
     "execution_count": 70,
     "metadata": {},
     "output_type": "execute_result"
    },
    {
     "data": {
      "image/png": "[encoded data removed]",
      "text/plain": [
       "<matplotlib.figure.Figure at 0x1117d9940>"
      ]
     },
     "metadata": {},
     "output_type": "display_data"
    }
   ],
   "source": [
    "fig,ax=plt.subplots()\n",
    "InsuranceRates_removed.IndividualRate.hist(bins=200)\n",
    "ax.set_xlabel('Insurance Cost')\n",
    "ax.set_ylabel('The number of people')\n",
    "ax.set_title('The distribution of individual insurance cost')\n",
    "plt.ylim(0,500000)"
   ]
  },
  {
   "cell_type": "markdown",
   "metadata": {},
   "source": [
    "#### Q&A:\n",
    "1. Does this data look more sensible?\n",
    ">Yes, it looks more sensible\n",
    "2. Describe the data. How many groups can you see?\n",
    ">From the plot above we can see, there are four different groups for the individual insurance costs. One group is in the range of 0 to 75 which most individual costs are in. After that, there are almost 140,000 costs which are cost about 100 dollars. Then, the number of costs follows a wavelike curve from 100 to 2000, and has its maximum value at 350 dollars. Also, there is another small peak happening at the 1050 dollars."
   ]
  },
  {
   "cell_type": "markdown",
   "metadata": {},
   "source": [
    "### 4.3 Variation in Costs across States\n",
    "\n",
    "Let's see how insurance costs vary across states?\n",
    "\n",
    "#### 4.3.1 Generate a graph containing boxplots summarising the distribution of values for each state. \n"
   ]
  },
  {
   "cell_type": "code",
   "execution_count": 71,
   "metadata": {},
   "outputs": [
    {
     "data": {
      "text/plain": [
       "<matplotlib.axes._subplots.AxesSubplot at 0x1445ee3c8>"
      ]
     },
     "execution_count": 71,
     "metadata": {},
     "output_type": "execute_result"
    },
    {
     "data": {
      "image/png": "[encoded data removed]",
      "text/plain": [
       "<matplotlib.figure.Figure at 0x11b4ea5c0>"
      ]
     },
     "metadata": {},
     "output_type": "display_data"
    }
   ],
   "source": [
    "InsuranceRates_removed.boxplot(column = 'IndividualRate', by = 'StateCode',vert=False)"
   ]
  },
  {
   "cell_type": "markdown",
   "metadata": {},
   "source": [
    "#### Q&A:\n",
    "1. Which state has the lowest median insurance rates and which one has the highest? \n",
    ">From the boxplot above we can see, the state of MO has the lowest median insurance cost, while AK has the highest.\n",
    "2. Is there much variation in costs across states?\n",
    ">No, from the boxplot we can see, except for AK, the insurance costs in most states are concentrated on the range from 0 to 500. "
   ]
  },
  {
   "cell_type": "markdown",
   "metadata": {
    "collapsed": true
   },
   "source": [
    "#### 4.3.2 Does the number of insurance issuers vary greatly across states?\n",
    "Create a bar chart of the number of insurance companies in each state to see."
   ]
  },
  {
   "cell_type": "code",
   "execution_count": 72,
   "metadata": {
    "collapsed": true,
    "scrolled": true
   },
   "outputs": [],
   "source": [
    "fun1 = {'IssuerId':{'number of insurance companies':'nunique'}}\n",
    "#Aggregate the data by state\n",
    "groupIssuerID = InsuranceRates_removed.groupby('StateCode').agg(fun1).reset_index()\n",
    "groupIssuerID.columns = groupIssuerID.columns.droplevel(0)\n",
    "groupIssuerID.rename(columns={'':'StateCode'},inplace=True)"
   ]
  },
  {
   "cell_type": "code",
   "execution_count": 73,
   "metadata": {
    "scrolled": true
   },
   "outputs": [
    {
     "data": {
      "text/plain": [
       "<matplotlib.text.Text at 0x13086e898>"
      ]
     },
     "execution_count": 73,
     "metadata": {},
     "output_type": "execute_result"
    },
    {
     "data": {
      "image/png": "[encoded data removed]",
      "text/plain": [
       "<matplotlib.figure.Figure at 0x130830358>"
      ]
     },
     "metadata": {},
     "output_type": "display_data"
    }
   ],
   "source": [
    "ind = np.arange(0,39*8,8)\n",
    "width = 2\n",
    "fig, ax = plt.subplots()\n",
    "rects1 = ax.bar(ind,groupIssuerID['number of insurance companies'],color='g')\n",
    "ax.set_xticks(ind)\n",
    "ax.set_xticklabels(groupIssuerID['StateCode'],rotation='vertical')\n",
    "ax.set_ylabel('number of insurance companies')\n",
    "ax.set_title('The number of insurance companies in each state')"
   ]
  },
  {
   "cell_type": "markdown",
   "metadata": {},
   "source": [
    "#### Q&A:\n",
    "** Does the number of insurance issuers vary greatly across states?**\n",
    ">Yes, it varies greatly across states. For example, the number of insurance issuers in TX is almost 10 times of it in HI."
   ]
  },
  {
   "cell_type": "markdown",
   "metadata": {},
   "source": [
    "### 4.3.3. Could competition explain the difference in insurance premiums across states?\n",
    "Use a scatterplot to plot the number of insurance issuers against the median insurance cost for each state."
   ]
  },
  {
   "cell_type": "code",
   "execution_count": 74,
   "metadata": {
    "scrolled": true
   },
   "outputs": [
    {
     "data": {
      "text/html": [
       "<div>\n",
       "<table border=\"1\" class=\"dataframe\">\n",
       "  <thead>\n",
       "    <tr style=\"text-align: right;\">\n",
       "      <th></th>\n",
       "      <th>StateCode</th>\n",
       "      <th>number of insurance companies</th>\n",
       "      <th>median insurance cost</th>\n",
       "    </tr>\n",
       "  </thead>\n",
       "  <tbody>\n",
       "    <tr>\n",
       "      <th>0</th>\n",
       "      <td>AK</td>\n",
       "      <td>13</td>\n",
       "      <td>597.93</td>\n",
       "    </tr>\n",
       "    <tr>\n",
       "      <th>1</th>\n",
       "      <td>AL</td>\n",
       "      <td>19</td>\n",
       "      <td>229.05</td>\n",
       "    </tr>\n",
       "    <tr>\n",
       "      <th>2</th>\n",
       "      <td>AR</td>\n",
       "      <td>16</td>\n",
       "      <td>225.59</td>\n",
       "    </tr>\n",
       "    <tr>\n",
       "      <th>3</th>\n",
       "      <td>AZ</td>\n",
       "      <td>38</td>\n",
       "      <td>325.25</td>\n",
       "    </tr>\n",
       "    <tr>\n",
       "      <th>4</th>\n",
       "      <td>DE</td>\n",
       "      <td>15</td>\n",
       "      <td>366.86</td>\n",
       "    </tr>\n",
       "  </tbody>\n",
       "</table>\n",
       "</div>"
      ],
      "text/plain": [
       "  StateCode  number of insurance companies  median insurance cost\n",
       "0        AK                             13                 597.93\n",
       "1        AL                             19                 229.05\n",
       "2        AR                             16                 225.59\n",
       "3        AZ                             38                 325.25\n",
       "4        DE                             15                 366.86"
      ]
     },
     "execution_count": 74,
     "metadata": {},
     "output_type": "execute_result"
    }
   ],
   "source": [
    "fun2 = {'IssuerId':{'number of insurance companies':'nunique'},'IndividualRate':{'median insurance cost':'median'}}\n",
    "group3 = InsuranceRates_removed.groupby('StateCode').agg(fun2).reset_index()\n",
    "group3.columns = group3.columns.droplevel(0)\n",
    "group3.rename(columns={'':'StateCode'},inplace=True)\n",
    "group3.head()"
   ]
  },
  {
   "cell_type": "code",
   "execution_count": 75,
   "metadata": {
    "scrolled": true
   },
   "outputs": [
    {
     "data": {
      "image/png": "[encoded data removed]",
      "text/plain": [
       "<matplotlib.figure.Figure at 0x11a1e4860>"
      ]
     },
     "metadata": {},
     "output_type": "display_data"
    }
   ],
   "source": [
    "fig, ax = plt.subplots()\n",
    "plt.scatter(group3['number of insurance companies'],group3['median insurance cost'])\n",
    "slope, intercept, r_value, p_value, std_err = linregress(group3['number of insurance companies'],group3['median insurance cost'])\n",
    "line = [slope*xi + intercept for xi in group3['number of insurance companies']]\n",
    "plt.plot(group3['number of insurance companies'],line,'r-',linewidth=3)\n",
    "ax.set_xlabel('number of insurance companies')\n",
    "ax.set_ylabel('median insurance cost')\n",
    "ax.set_title('Number of insurance issuers against the median insurance cost for each state')\n",
    "plt.show()"
   ]
  },
  {
   "cell_type": "markdown",
   "metadata": {},
   "source": [
    "#### Q&A:\n",
    "** Do you observe a relationship?**\n",
    ">From the plot we draw above, it seems that there is no strong relationship between the number of insurance companies and the median insurance cost. When the number of insurance companies increases, we can not see clear increasing or decreasing for median insurance cost. I think this may be because the price of insurance cost is not only affected by number of insurance issuers, but also by the economy of each state and population of each state."
   ]
  },
  {
   "cell_type": "markdown",
   "metadata": {},
   "source": [
    "### 4.3.4 Variation in Costs over Time and with Age\n",
    "\n",
    "Generate boxplots of insurance costs versus year and age to answer questions. \n"
   ]
  },
  {
   "cell_type": "code",
   "execution_count": 76,
   "metadata": {
    "scrolled": true
   },
   "outputs": [
    {
     "data": {
      "text/plain": [
       "<function matplotlib.pyplot.show>"
      ]
     },
     "execution_count": 76,
     "metadata": {},
     "output_type": "execute_result"
    },
    {
     "data": {
      "image/png": "[encoded data removed]",
      "text/plain": [
       "<matplotlib.figure.Figure at 0x11a2595c0>"
      ]
     },
     "metadata": {},
     "output_type": "display_data"
    }
   ],
   "source": [
    "fig,ax = plt.subplots()\n",
    "InsuranceRates_removed.boxplot(column = 'IndividualRate', by = 'BusinessYear',ax=ax)\n",
    "ax.set_ylabel('Individual insurance cost')\n",
    "plt.show"
   ]
  },
  {
   "cell_type": "markdown",
   "metadata": {},
   "source": [
    "#### Q&A:\n",
    "**Are insurance policies becoming cheaper or more expensive over time? Is the median insurance cost increasing or decreasing?**\n",
    ">In terms of the boxplot above, the median insurance cost is increasing. It means the insurance policies is becoming more expensive from 2014 to 2016. This may be because the economy in America during these years is getting better, people can afford more expensive insurances."
   ]
  },
  {
   "cell_type": "code",
   "execution_count": 77,
   "metadata": {
    "collapsed": true
   },
   "outputs": [],
   "source": [
    "#Filter out the value 'Family Option' before plotting the data.\n",
    "InsuranceRates_removed = InsuranceRates_removed[InsuranceRates_removed.Age != 'Family Option']"
   ]
  },
  {
   "cell_type": "code",
   "execution_count": 78,
   "metadata": {
    "scrolled": true
   },
   "outputs": [
    {
     "data": {
      "text/plain": [
       "<matplotlib.axes._subplots.AxesSubplot at 0x11a8865c0>"
      ]
     },
     "execution_count": 78,
     "metadata": {},
     "output_type": "execute_result"
    },
    {
     "data": {
      "image/png": "[encoded data removed]",
      "text/plain": [
       "<matplotlib.figure.Figure at 0x11a8b8a58>"
      ]
     },
     "metadata": {},
     "output_type": "display_data"
    }
   ],
   "source": [
    "InsuranceRates_removed.boxplot(column = 'IndividualRate', by = 'Age')"
   ]
  },
  {
   "cell_type": "markdown",
   "metadata": {},
   "source": [
    "#### Q&A:\n",
    "**How does insurance costs vary with the age of the person being insured? Do older people pay more or less for insurance than younger people? How much more/less to they pay? **\n",
    ">From the plot above we can see, in general, older people tend to pay more money in insurance than younger people. For example, comparing the median cost, people over 65 spend almost 5 times than people in 0-20. That is a huge difference."
   ]
  },
  {
   "cell_type": "markdown",
   "metadata": {},
   "source": [
    "## 5. BONUS Task C: Exploratory Analysis on Melbourne Housing Market"
   ]
  },
  {
   "cell_type": "markdown",
   "metadata": {
    "collapsed": true
   },
   "source": [
    "#### Introduction:\n",
    "Melbourne is currently experiencing a housing bubble (some experts say it may burst soon). So, what does the Melbourne housing market really look like? We can find some interesting answers from analysing this dataset.\n",
    "\n",
    "#### Content & Acknowledgements\n",
    "\n",
    "This data was scraped from publicly available results posted every week from Domain.com.au ,and cleaned and published on <a href=\"https://www.kaggle.com/anthonypino/melbourne-housing-market?almost-there=true&token=sWmjoIR4GsdLXQcLFj84SZLFr0HDLKPgUTEMj99JMaeXS1E1hlwwMjoBokkZanAxIUu8Af-MqyPNvcAzthOVaMhjNDW48ZEp3CtAUbhXUcx60213m0fKDw5IQj9ffLnAY1LYjajJr3U_Wwv0uER-lyGysflFjWVZ-Gr0xnRqtmknXhxEP3hoN26VZd2PYuJG02rPZBokgZeGZ8w8_G6-ZPulyHRTcP3L-biz2QkvIQyCN86-jC34btAvxenLMyRcV-or5vgz0AKuDy87OYL-gqa-UisYhJLQvjweYf6qFpsY29gNA45VBl7v3XgV3uKLAR6ftmDsgAVd3aKiR8fTO8TDk-jnRqt_vUT56zNzt2ObG6oQVfz5eMw_ZDiG6EaNOZIhm0IDAXUVgj4r4U2_49Xee4-s6cy_2m3kmjHkghAt4PbfeYwjQGTd8u5KxBjD6rrAeYMOI59tZm7xbmbzEmPDkVIvMIw80TaHslCxNuSnV7YSZZOsG_D5LS68cI6o99yTeHtouHXMzvWFr2hhDJ0vnR8Ys3_DUeSXkURg1W5N94TILBJ2lUVEcDENUK4BnntTIYrlHDuEMMfZ0zmp8hL9V4Q1#_=_\">Kaggle</a>. The dataset includes Address, Type of Real estate, Suburb, Method of Selling, Rooms, Price, Real Estate Agent, Date of Sale and distance from C.B.D, etc...\n",
    "\n",
    "#### Some Key Details\n",
    "\n",
    "| Column | Description |\n",
    "| ------ | ------ |\n",
    "| Suburb | Suburb |\n",
    "| Address | Address |\n",
    "| Rooms | Number of rooms |\n",
    "| Price | Price in dollars |\n",
    "| Method | S - property sold; SP - property sold prior; PI - property passed in; PN - sold prior not disclosed; SN - sold not disclosed; NB - no bid; VB - vendor bid; W - withdrawn prior to auction; SA - sold after auction; SS - sold after auction price not disclosed. N/A - price or highest bid not available | \n",
    "| Type | br - bedroom(s); h - house,cottage,villa, semi,terrace; u - unit, duplex; t - townhouse; dev site - development site; o res - other residential. |\n",
    "| SellerG | Real Estate Agent |\n",
    "| Date | Date sold |\n",
    "| Distance | Distance from CBD |\n",
    "| Regionname | General Region (West, North West, North, North east ...etc) |"
   ]
  },
  {
   "cell_type": "markdown",
   "metadata": {},
   "source": [
    "### 5.1 Load data into pandas DataFrame and exam the data."
   ]
  },
  {
   "cell_type": "code",
   "execution_count": 79,
   "metadata": {
    "scrolled": true
   },
   "outputs": [
    {
     "data": {
      "text/html": [
       "<div>\n",
       "<table border=\"1\" class=\"dataframe\">\n",
       "  <thead>\n",
       "    <tr style=\"text-align: right;\">\n",
       "      <th></th>\n",
       "      <th>Suburb</th>\n",
       "      <th>Address</th>\n",
       "      <th>Rooms</th>\n",
       "      <th>Type</th>\n",
       "      <th>Price</th>\n",
       "      <th>Method</th>\n",
       "      <th>SellerG</th>\n",
       "      <th>Date</th>\n",
       "      <th>Distance</th>\n",
       "      <th>Postcode</th>\n",
       "      <th>...</th>\n",
       "      <th>Bathroom</th>\n",
       "      <th>Car</th>\n",
       "      <th>Landsize</th>\n",
       "      <th>BuildingArea</th>\n",
       "      <th>YearBuilt</th>\n",
       "      <th>CouncilArea</th>\n",
       "      <th>Lattitude</th>\n",
       "      <th>Longtitude</th>\n",
       "      <th>Regionname</th>\n",
       "      <th>Propertycount</th>\n",
       "    </tr>\n",
       "  </thead>\n",
       "  <tbody>\n",
       "    <tr>\n",
       "      <th>0</th>\n",
       "      <td>Abbotsford</td>\n",
       "      <td>68 Studley St</td>\n",
       "      <td>2</td>\n",
       "      <td>h</td>\n",
       "      <td>NaN</td>\n",
       "      <td>SS</td>\n",
       "      <td>Jellis</td>\n",
       "      <td>3/09/2016</td>\n",
       "      <td>2.5</td>\n",
       "      <td>3067.0</td>\n",
       "      <td>...</td>\n",
       "      <td>1.0</td>\n",
       "      <td>1.0</td>\n",
       "      <td>126.0</td>\n",
       "      <td>NaN</td>\n",
       "      <td>NaN</td>\n",
       "      <td>Yarra</td>\n",
       "      <td>-37.8014</td>\n",
       "      <td>144.9958</td>\n",
       "      <td>Northern Metropolitan</td>\n",
       "      <td>4019.0</td>\n",
       "    </tr>\n",
       "    <tr>\n",
       "      <th>1</th>\n",
       "      <td>Abbotsford</td>\n",
       "      <td>85 Turner St</td>\n",
       "      <td>2</td>\n",
       "      <td>h</td>\n",
       "      <td>1480000.0</td>\n",
       "      <td>S</td>\n",
       "      <td>Biggin</td>\n",
       "      <td>3/12/2016</td>\n",
       "      <td>2.5</td>\n",
       "      <td>3067.0</td>\n",
       "      <td>...</td>\n",
       "      <td>1.0</td>\n",
       "      <td>1.0</td>\n",
       "      <td>202.0</td>\n",
       "      <td>NaN</td>\n",
       "      <td>NaN</td>\n",
       "      <td>Yarra</td>\n",
       "      <td>-37.7996</td>\n",
       "      <td>144.9984</td>\n",
       "      <td>Northern Metropolitan</td>\n",
       "      <td>4019.0</td>\n",
       "    </tr>\n",
       "    <tr>\n",
       "      <th>2</th>\n",
       "      <td>Abbotsford</td>\n",
       "      <td>25 Bloomburg St</td>\n",
       "      <td>2</td>\n",
       "      <td>h</td>\n",
       "      <td>1035000.0</td>\n",
       "      <td>S</td>\n",
       "      <td>Biggin</td>\n",
       "      <td>4/02/2016</td>\n",
       "      <td>2.5</td>\n",
       "      <td>3067.0</td>\n",
       "      <td>...</td>\n",
       "      <td>1.0</td>\n",
       "      <td>0.0</td>\n",
       "      <td>156.0</td>\n",
       "      <td>79.0</td>\n",
       "      <td>1900.0</td>\n",
       "      <td>Yarra</td>\n",
       "      <td>-37.8079</td>\n",
       "      <td>144.9934</td>\n",
       "      <td>Northern Metropolitan</td>\n",
       "      <td>4019.0</td>\n",
       "    </tr>\n",
       "    <tr>\n",
       "      <th>3</th>\n",
       "      <td>Abbotsford</td>\n",
       "      <td>18/659 Victoria St</td>\n",
       "      <td>3</td>\n",
       "      <td>u</td>\n",
       "      <td>NaN</td>\n",
       "      <td>VB</td>\n",
       "      <td>Rounds</td>\n",
       "      <td>4/02/2016</td>\n",
       "      <td>2.5</td>\n",
       "      <td>3067.0</td>\n",
       "      <td>...</td>\n",
       "      <td>2.0</td>\n",
       "      <td>1.0</td>\n",
       "      <td>0.0</td>\n",
       "      <td>NaN</td>\n",
       "      <td>NaN</td>\n",
       "      <td>Yarra</td>\n",
       "      <td>-37.8114</td>\n",
       "      <td>145.0116</td>\n",
       "      <td>Northern Metropolitan</td>\n",
       "      <td>4019.0</td>\n",
       "    </tr>\n",
       "    <tr>\n",
       "      <th>4</th>\n",
       "      <td>Abbotsford</td>\n",
       "      <td>5 Charles St</td>\n",
       "      <td>3</td>\n",
       "      <td>h</td>\n",
       "      <td>1465000.0</td>\n",
       "      <td>SP</td>\n",
       "      <td>Biggin</td>\n",
       "      <td>4/03/2017</td>\n",
       "      <td>2.5</td>\n",
       "      <td>3067.0</td>\n",
       "      <td>...</td>\n",
       "      <td>2.0</td>\n",
       "      <td>0.0</td>\n",
       "      <td>134.0</td>\n",
       "      <td>150.0</td>\n",
       "      <td>1900.0</td>\n",
       "      <td>Yarra</td>\n",
       "      <td>-37.8093</td>\n",
       "      <td>144.9944</td>\n",
       "      <td>Northern Metropolitan</td>\n",
       "      <td>4019.0</td>\n",
       "    </tr>\n",
       "  </tbody>\n",
       "</table>\n",
       "<p>5 rows × 21 columns</p>\n",
       "</div>"
      ],
      "text/plain": [
       "       Suburb             Address  Rooms Type      Price Method SellerG  \\\n",
       "0  Abbotsford       68 Studley St      2    h        NaN     SS  Jellis   \n",
       "1  Abbotsford        85 Turner St      2    h  1480000.0      S  Biggin   \n",
       "2  Abbotsford     25 Bloomburg St      2    h  1035000.0      S  Biggin   \n",
       "3  Abbotsford  18/659 Victoria St      3    u        NaN     VB  Rounds   \n",
       "4  Abbotsford        5 Charles St      3    h  1465000.0     SP  Biggin   \n",
       "\n",
       "        Date  Distance  Postcode      ...       Bathroom  Car  Landsize  \\\n",
       "0  3/09/2016       2.5    3067.0      ...            1.0  1.0     126.0   \n",
       "1  3/12/2016       2.5    3067.0      ...            1.0  1.0     202.0   \n",
       "2  4/02/2016       2.5    3067.0      ...            1.0  0.0     156.0   \n",
       "3  4/02/2016       2.5    3067.0      ...            2.0  1.0       0.0   \n",
       "4  4/03/2017       2.5    3067.0      ...            2.0  0.0     134.0   \n",
       "\n",
       "   BuildingArea  YearBuilt  CouncilArea Lattitude  Longtitude  \\\n",
       "0           NaN        NaN        Yarra  -37.8014    144.9958   \n",
       "1           NaN        NaN        Yarra  -37.7996    144.9984   \n",
       "2          79.0     1900.0        Yarra  -37.8079    144.9934   \n",
       "3           NaN        NaN        Yarra  -37.8114    145.0116   \n",
       "4         150.0     1900.0        Yarra  -37.8093    144.9944   \n",
       "\n",
       "              Regionname Propertycount  \n",
       "0  Northern Metropolitan        4019.0  \n",
       "1  Northern Metropolitan        4019.0  \n",
       "2  Northern Metropolitan        4019.0  \n",
       "3  Northern Metropolitan        4019.0  \n",
       "4  Northern Metropolitan        4019.0  \n",
       "\n",
       "[5 rows x 21 columns]"
      ]
     },
     "execution_count": 79,
     "metadata": {},
     "output_type": "execute_result"
    }
   ],
   "source": [
    "df = pd.read_csv('./Melbourne_housing_extra_data-18-08-2017.csv')\n",
    "df.head()"
   ]
  },
  {
   "cell_type": "code",
   "execution_count": 80,
   "metadata": {},
   "outputs": [
    {
     "data": {
      "text/html": [
       "<div>\n",
       "<table border=\"1\" class=\"dataframe\">\n",
       "  <thead>\n",
       "    <tr style=\"text-align: right;\">\n",
       "      <th></th>\n",
       "      <th>Suburb</th>\n",
       "      <th>Address</th>\n",
       "      <th>Rooms</th>\n",
       "      <th>Type</th>\n",
       "      <th>Price</th>\n",
       "      <th>Method</th>\n",
       "      <th>SellerG</th>\n",
       "      <th>Date</th>\n",
       "      <th>Distance</th>\n",
       "      <th>Postcode</th>\n",
       "      <th>...</th>\n",
       "      <th>Bathroom</th>\n",
       "      <th>Car</th>\n",
       "      <th>Landsize</th>\n",
       "      <th>BuildingArea</th>\n",
       "      <th>YearBuilt</th>\n",
       "      <th>CouncilArea</th>\n",
       "      <th>Lattitude</th>\n",
       "      <th>Longtitude</th>\n",
       "      <th>Regionname</th>\n",
       "      <th>Propertycount</th>\n",
       "    </tr>\n",
       "  </thead>\n",
       "  <tbody>\n",
       "    <tr>\n",
       "      <th>19736</th>\n",
       "      <td>Windsor</td>\n",
       "      <td>201/152 Peel St</td>\n",
       "      <td>2</td>\n",
       "      <td>u</td>\n",
       "      <td>560000.0</td>\n",
       "      <td>PI</td>\n",
       "      <td>hockingstuart</td>\n",
       "      <td>29/07/2017</td>\n",
       "      <td>4.6</td>\n",
       "      <td>3181.0</td>\n",
       "      <td>...</td>\n",
       "      <td>1.0</td>\n",
       "      <td>1.0</td>\n",
       "      <td>0.0</td>\n",
       "      <td>61.6</td>\n",
       "      <td>2012.0</td>\n",
       "      <td>Stonnington</td>\n",
       "      <td>-37.85581</td>\n",
       "      <td>144.99025</td>\n",
       "      <td>Southern Metropolitan</td>\n",
       "      <td>4380.0</td>\n",
       "    </tr>\n",
       "    <tr>\n",
       "      <th>19737</th>\n",
       "      <td>Wollert</td>\n",
       "      <td>60 Saltlake Bvd</td>\n",
       "      <td>3</td>\n",
       "      <td>h</td>\n",
       "      <td>525300.0</td>\n",
       "      <td>S</td>\n",
       "      <td>Stockdale</td>\n",
       "      <td>29/07/2017</td>\n",
       "      <td>25.5</td>\n",
       "      <td>3750.0</td>\n",
       "      <td>...</td>\n",
       "      <td>2.0</td>\n",
       "      <td>2.0</td>\n",
       "      <td>400.0</td>\n",
       "      <td>NaN</td>\n",
       "      <td>NaN</td>\n",
       "      <td>Whittlesea</td>\n",
       "      <td>-37.61387</td>\n",
       "      <td>145.03850</td>\n",
       "      <td>Northern Metropolitan</td>\n",
       "      <td>2940.0</td>\n",
       "    </tr>\n",
       "    <tr>\n",
       "      <th>19738</th>\n",
       "      <td>Yarraville</td>\n",
       "      <td>2 Adeney St</td>\n",
       "      <td>2</td>\n",
       "      <td>h</td>\n",
       "      <td>750000.0</td>\n",
       "      <td>SP</td>\n",
       "      <td>hockingstuart</td>\n",
       "      <td>29/07/2017</td>\n",
       "      <td>6.3</td>\n",
       "      <td>3013.0</td>\n",
       "      <td>...</td>\n",
       "      <td>1.0</td>\n",
       "      <td>2.0</td>\n",
       "      <td>269.0</td>\n",
       "      <td>NaN</td>\n",
       "      <td>NaN</td>\n",
       "      <td>Maribyrnong</td>\n",
       "      <td>-37.81649</td>\n",
       "      <td>144.86731</td>\n",
       "      <td>Western Metropolitan</td>\n",
       "      <td>6543.0</td>\n",
       "    </tr>\n",
       "    <tr>\n",
       "      <th>19739</th>\n",
       "      <td>Yarraville</td>\n",
       "      <td>54 Pentland Pde</td>\n",
       "      <td>6</td>\n",
       "      <td>h</td>\n",
       "      <td>2450000.0</td>\n",
       "      <td>VB</td>\n",
       "      <td>Village</td>\n",
       "      <td>29/07/2017</td>\n",
       "      <td>6.3</td>\n",
       "      <td>3013.0</td>\n",
       "      <td>...</td>\n",
       "      <td>3.0</td>\n",
       "      <td>2.0</td>\n",
       "      <td>1087.0</td>\n",
       "      <td>388.5</td>\n",
       "      <td>1920.0</td>\n",
       "      <td>Maribyrnong</td>\n",
       "      <td>-37.81038</td>\n",
       "      <td>144.89389</td>\n",
       "      <td>Western Metropolitan</td>\n",
       "      <td>6543.0</td>\n",
       "    </tr>\n",
       "    <tr>\n",
       "      <th>19740</th>\n",
       "      <td>Yarraville</td>\n",
       "      <td>10/127 Somerville Rd</td>\n",
       "      <td>3</td>\n",
       "      <td>t</td>\n",
       "      <td>645000.0</td>\n",
       "      <td>SP</td>\n",
       "      <td>Jas</td>\n",
       "      <td>29/07/2017</td>\n",
       "      <td>6.3</td>\n",
       "      <td>3013.0</td>\n",
       "      <td>...</td>\n",
       "      <td>NaN</td>\n",
       "      <td>NaN</td>\n",
       "      <td>NaN</td>\n",
       "      <td>NaN</td>\n",
       "      <td>NaN</td>\n",
       "      <td>NaN</td>\n",
       "      <td>NaN</td>\n",
       "      <td>NaN</td>\n",
       "      <td>Western Metropolitan</td>\n",
       "      <td>6543.0</td>\n",
       "    </tr>\n",
       "  </tbody>\n",
       "</table>\n",
       "<p>5 rows × 21 columns</p>\n",
       "</div>"
      ],
      "text/plain": [
       "           Suburb               Address  Rooms Type      Price Method  \\\n",
       "19736     Windsor       201/152 Peel St      2    u   560000.0     PI   \n",
       "19737     Wollert       60 Saltlake Bvd      3    h   525300.0      S   \n",
       "19738  Yarraville           2 Adeney St      2    h   750000.0     SP   \n",
       "19739  Yarraville       54 Pentland Pde      6    h  2450000.0     VB   \n",
       "19740  Yarraville  10/127 Somerville Rd      3    t   645000.0     SP   \n",
       "\n",
       "             SellerG        Date  Distance  Postcode      ...       Bathroom  \\\n",
       "19736  hockingstuart  29/07/2017       4.6    3181.0      ...            1.0   \n",
       "19737      Stockdale  29/07/2017      25.5    3750.0      ...            2.0   \n",
       "19738  hockingstuart  29/07/2017       6.3    3013.0      ...            1.0   \n",
       "19739        Village  29/07/2017       6.3    3013.0      ...            3.0   \n",
       "19740            Jas  29/07/2017       6.3    3013.0      ...            NaN   \n",
       "\n",
       "       Car  Landsize  BuildingArea  YearBuilt  CouncilArea Lattitude  \\\n",
       "19736  1.0       0.0          61.6     2012.0  Stonnington -37.85581   \n",
       "19737  2.0     400.0           NaN        NaN   Whittlesea -37.61387   \n",
       "19738  2.0     269.0           NaN        NaN  Maribyrnong -37.81649   \n",
       "19739  2.0    1087.0         388.5     1920.0  Maribyrnong -37.81038   \n",
       "19740  NaN       NaN           NaN        NaN          NaN       NaN   \n",
       "\n",
       "       Longtitude             Regionname Propertycount  \n",
       "19736   144.99025  Southern Metropolitan        4380.0  \n",
       "19737   145.03850  Northern Metropolitan        2940.0  \n",
       "19738   144.86731   Western Metropolitan        6543.0  \n",
       "19739   144.89389   Western Metropolitan        6543.0  \n",
       "19740         NaN   Western Metropolitan        6543.0  \n",
       "\n",
       "[5 rows x 21 columns]"
      ]
     },
     "execution_count": 80,
     "metadata": {},
     "output_type": "execute_result"
    }
   ],
   "source": [
    "df.tail()"
   ]
  },
  {
   "cell_type": "code",
   "execution_count": 81,
   "metadata": {},
   "outputs": [
    {
     "data": {
      "text/plain": [
       "(19741, 21)"
      ]
     },
     "execution_count": 81,
     "metadata": {},
     "output_type": "execute_result"
    }
   ],
   "source": [
    "df.shape"
   ]
  },
  {
   "cell_type": "code",
   "execution_count": 82,
   "metadata": {},
   "outputs": [
    {
     "data": {
      "text/plain": [
       "Suburb            object\n",
       "Address           object\n",
       "Rooms              int64\n",
       "Type              object\n",
       "Price            float64\n",
       "Method            object\n",
       "SellerG           object\n",
       "Date              object\n",
       "Distance         float64\n",
       "Postcode         float64\n",
       "Bedroom2         float64\n",
       "Bathroom         float64\n",
       "Car              float64\n",
       "Landsize         float64\n",
       "BuildingArea     float64\n",
       "YearBuilt        float64\n",
       "CouncilArea       object\n",
       "Lattitude        float64\n",
       "Longtitude       float64\n",
       "Regionname        object\n",
       "Propertycount    float64\n",
       "dtype: object"
      ]
     },
     "execution_count": 82,
     "metadata": {},
     "output_type": "execute_result"
    }
   ],
   "source": [
    "df.dtypes"
   ]
  },
  {
   "cell_type": "markdown",
   "metadata": {},
   "source": [
    "This data contains a lot of useful information. In this part, we exact a part of columns for the following analysis."
   ]
  },
  {
   "cell_type": "markdown",
   "metadata": {},
   "source": [
    "### 5.2 Choose some attribute to analysis, and drop others."
   ]
  },
  {
   "cell_type": "code",
   "execution_count": 83,
   "metadata": {
    "collapsed": true
   },
   "outputs": [],
   "source": [
    "mel_housing = df[['Suburb','Address','Rooms','Type','Price','SellerG','Date','Distance']]"
   ]
  },
  {
   "cell_type": "code",
   "execution_count": 84,
   "metadata": {
    "scrolled": true
   },
   "outputs": [
    {
     "data": {
      "text/html": [
       "<div>\n",
       "<table border=\"1\" class=\"dataframe\">\n",
       "  <thead>\n",
       "    <tr style=\"text-align: right;\">\n",
       "      <th></th>\n",
       "      <th>Suburb</th>\n",
       "      <th>Address</th>\n",
       "      <th>Rooms</th>\n",
       "      <th>Type</th>\n",
       "      <th>Price</th>\n",
       "      <th>SellerG</th>\n",
       "      <th>Date</th>\n",
       "      <th>Distance</th>\n",
       "    </tr>\n",
       "  </thead>\n",
       "  <tbody>\n",
       "    <tr>\n",
       "      <th>0</th>\n",
       "      <td>Abbotsford</td>\n",
       "      <td>68 Studley St</td>\n",
       "      <td>2</td>\n",
       "      <td>h</td>\n",
       "      <td>NaN</td>\n",
       "      <td>Jellis</td>\n",
       "      <td>3/09/2016</td>\n",
       "      <td>2.5</td>\n",
       "    </tr>\n",
       "    <tr>\n",
       "      <th>1</th>\n",
       "      <td>Abbotsford</td>\n",
       "      <td>85 Turner St</td>\n",
       "      <td>2</td>\n",
       "      <td>h</td>\n",
       "      <td>1480000.0</td>\n",
       "      <td>Biggin</td>\n",
       "      <td>3/12/2016</td>\n",
       "      <td>2.5</td>\n",
       "    </tr>\n",
       "    <tr>\n",
       "      <th>2</th>\n",
       "      <td>Abbotsford</td>\n",
       "      <td>25 Bloomburg St</td>\n",
       "      <td>2</td>\n",
       "      <td>h</td>\n",
       "      <td>1035000.0</td>\n",
       "      <td>Biggin</td>\n",
       "      <td>4/02/2016</td>\n",
       "      <td>2.5</td>\n",
       "    </tr>\n",
       "    <tr>\n",
       "      <th>3</th>\n",
       "      <td>Abbotsford</td>\n",
       "      <td>18/659 Victoria St</td>\n",
       "      <td>3</td>\n",
       "      <td>u</td>\n",
       "      <td>NaN</td>\n",
       "      <td>Rounds</td>\n",
       "      <td>4/02/2016</td>\n",
       "      <td>2.5</td>\n",
       "    </tr>\n",
       "    <tr>\n",
       "      <th>4</th>\n",
       "      <td>Abbotsford</td>\n",
       "      <td>5 Charles St</td>\n",
       "      <td>3</td>\n",
       "      <td>h</td>\n",
       "      <td>1465000.0</td>\n",
       "      <td>Biggin</td>\n",
       "      <td>4/03/2017</td>\n",
       "      <td>2.5</td>\n",
       "    </tr>\n",
       "  </tbody>\n",
       "</table>\n",
       "</div>"
      ],
      "text/plain": [
       "       Suburb             Address  Rooms Type      Price SellerG       Date  \\\n",
       "0  Abbotsford       68 Studley St      2    h        NaN  Jellis  3/09/2016   \n",
       "1  Abbotsford        85 Turner St      2    h  1480000.0  Biggin  3/12/2016   \n",
       "2  Abbotsford     25 Bloomburg St      2    h  1035000.0  Biggin  4/02/2016   \n",
       "3  Abbotsford  18/659 Victoria St      3    u        NaN  Rounds  4/02/2016   \n",
       "4  Abbotsford        5 Charles St      3    h  1465000.0  Biggin  4/03/2017   \n",
       "\n",
       "   Distance  \n",
       "0       2.5  \n",
       "1       2.5  \n",
       "2       2.5  \n",
       "3       2.5  \n",
       "4       2.5  "
      ]
     },
     "execution_count": 84,
     "metadata": {},
     "output_type": "execute_result"
    }
   ],
   "source": [
    "mel_housing.head()"
   ]
  },
  {
   "cell_type": "code",
   "execution_count": 85,
   "metadata": {},
   "outputs": [
    {
     "data": {
      "text/plain": [
       "(19741, 8)"
      ]
     },
     "execution_count": 85,
     "metadata": {},
     "output_type": "execute_result"
    }
   ],
   "source": [
    "mel_housing.shape"
   ]
  },
  {
   "cell_type": "markdown",
   "metadata": {},
   "source": [
    "There are some rows containing 'NaN', so let's have a look at how many rows contain NaN."
   ]
  },
  {
   "cell_type": "markdown",
   "metadata": {},
   "source": [
    "As this dataset has 19741 obsevations, let's see how many rows will be left after we drop all rows containing NaN."
   ]
  },
  {
   "cell_type": "code",
   "execution_count": 86,
   "metadata": {},
   "outputs": [
    {
     "data": {
      "text/html": [
       "<div>\n",
       "<table border=\"1\" class=\"dataframe\">\n",
       "  <thead>\n",
       "    <tr style=\"text-align: right;\">\n",
       "      <th></th>\n",
       "      <th>Suburb</th>\n",
       "      <th>Address</th>\n",
       "      <th>Rooms</th>\n",
       "      <th>Type</th>\n",
       "      <th>Price</th>\n",
       "      <th>SellerG</th>\n",
       "      <th>Date</th>\n",
       "      <th>Distance</th>\n",
       "    </tr>\n",
       "  </thead>\n",
       "  <tbody>\n",
       "    <tr>\n",
       "      <th>0</th>\n",
       "      <td>Abbotsford</td>\n",
       "      <td>85 Turner St</td>\n",
       "      <td>2</td>\n",
       "      <td>h</td>\n",
       "      <td>1480000.0</td>\n",
       "      <td>Biggin</td>\n",
       "      <td>3/12/2016</td>\n",
       "      <td>2.5</td>\n",
       "    </tr>\n",
       "    <tr>\n",
       "      <th>1</th>\n",
       "      <td>Abbotsford</td>\n",
       "      <td>25 Bloomburg St</td>\n",
       "      <td>2</td>\n",
       "      <td>h</td>\n",
       "      <td>1035000.0</td>\n",
       "      <td>Biggin</td>\n",
       "      <td>4/02/2016</td>\n",
       "      <td>2.5</td>\n",
       "    </tr>\n",
       "    <tr>\n",
       "      <th>2</th>\n",
       "      <td>Abbotsford</td>\n",
       "      <td>5 Charles St</td>\n",
       "      <td>3</td>\n",
       "      <td>h</td>\n",
       "      <td>1465000.0</td>\n",
       "      <td>Biggin</td>\n",
       "      <td>4/03/2017</td>\n",
       "      <td>2.5</td>\n",
       "    </tr>\n",
       "    <tr>\n",
       "      <th>3</th>\n",
       "      <td>Abbotsford</td>\n",
       "      <td>40 Federation La</td>\n",
       "      <td>3</td>\n",
       "      <td>h</td>\n",
       "      <td>850000.0</td>\n",
       "      <td>Biggin</td>\n",
       "      <td>4/03/2017</td>\n",
       "      <td>2.5</td>\n",
       "    </tr>\n",
       "    <tr>\n",
       "      <th>4</th>\n",
       "      <td>Abbotsford</td>\n",
       "      <td>55a Park St</td>\n",
       "      <td>4</td>\n",
       "      <td>h</td>\n",
       "      <td>1600000.0</td>\n",
       "      <td>Nelson</td>\n",
       "      <td>4/06/2016</td>\n",
       "      <td>2.5</td>\n",
       "    </tr>\n",
       "    <tr>\n",
       "      <th>5</th>\n",
       "      <td>Abbotsford</td>\n",
       "      <td>129 Charles St</td>\n",
       "      <td>2</td>\n",
       "      <td>h</td>\n",
       "      <td>941000.0</td>\n",
       "      <td>Jellis</td>\n",
       "      <td>7/05/2016</td>\n",
       "      <td>2.5</td>\n",
       "    </tr>\n",
       "    <tr>\n",
       "      <th>6</th>\n",
       "      <td>Abbotsford</td>\n",
       "      <td>124 Yarra St</td>\n",
       "      <td>3</td>\n",
       "      <td>h</td>\n",
       "      <td>1876000.0</td>\n",
       "      <td>Nelson</td>\n",
       "      <td>7/05/2016</td>\n",
       "      <td>2.5</td>\n",
       "    </tr>\n",
       "    <tr>\n",
       "      <th>7</th>\n",
       "      <td>Abbotsford</td>\n",
       "      <td>98 Charles St</td>\n",
       "      <td>2</td>\n",
       "      <td>h</td>\n",
       "      <td>1636000.0</td>\n",
       "      <td>Nelson</td>\n",
       "      <td>8/10/2016</td>\n",
       "      <td>2.5</td>\n",
       "    </tr>\n",
       "    <tr>\n",
       "      <th>8</th>\n",
       "      <td>Abbotsford</td>\n",
       "      <td>217 Langridge St</td>\n",
       "      <td>3</td>\n",
       "      <td>h</td>\n",
       "      <td>1000000.0</td>\n",
       "      <td>Jellis</td>\n",
       "      <td>8/10/2016</td>\n",
       "      <td>2.5</td>\n",
       "    </tr>\n",
       "    <tr>\n",
       "      <th>9</th>\n",
       "      <td>Abbotsford</td>\n",
       "      <td>18a Mollison St</td>\n",
       "      <td>2</td>\n",
       "      <td>t</td>\n",
       "      <td>745000.0</td>\n",
       "      <td>Jellis</td>\n",
       "      <td>8/10/2016</td>\n",
       "      <td>2.5</td>\n",
       "    </tr>\n",
       "    <tr>\n",
       "      <th>10</th>\n",
       "      <td>Abbotsford</td>\n",
       "      <td>6/241 Nicholson St</td>\n",
       "      <td>1</td>\n",
       "      <td>u</td>\n",
       "      <td>300000.0</td>\n",
       "      <td>Biggin</td>\n",
       "      <td>8/10/2016</td>\n",
       "      <td>2.5</td>\n",
       "    </tr>\n",
       "    <tr>\n",
       "      <th>11</th>\n",
       "      <td>Abbotsford</td>\n",
       "      <td>10 Valiant St</td>\n",
       "      <td>2</td>\n",
       "      <td>h</td>\n",
       "      <td>1097000.0</td>\n",
       "      <td>Biggin</td>\n",
       "      <td>8/10/2016</td>\n",
       "      <td>2.5</td>\n",
       "    </tr>\n",
       "    <tr>\n",
       "      <th>12</th>\n",
       "      <td>Abbotsford</td>\n",
       "      <td>403/609 Victoria St</td>\n",
       "      <td>2</td>\n",
       "      <td>u</td>\n",
       "      <td>542000.0</td>\n",
       "      <td>Dingle</td>\n",
       "      <td>8/10/2016</td>\n",
       "      <td>2.5</td>\n",
       "    </tr>\n",
       "    <tr>\n",
       "      <th>13</th>\n",
       "      <td>Abbotsford</td>\n",
       "      <td>25/84 Trenerry Cr</td>\n",
       "      <td>2</td>\n",
       "      <td>u</td>\n",
       "      <td>760000.0</td>\n",
       "      <td>Biggin</td>\n",
       "      <td>10/12/2016</td>\n",
       "      <td>2.5</td>\n",
       "    </tr>\n",
       "    <tr>\n",
       "      <th>14</th>\n",
       "      <td>Abbotsford</td>\n",
       "      <td>106/119 Turner St</td>\n",
       "      <td>1</td>\n",
       "      <td>u</td>\n",
       "      <td>481000.0</td>\n",
       "      <td>Purplebricks</td>\n",
       "      <td>10/12/2016</td>\n",
       "      <td>2.5</td>\n",
       "    </tr>\n",
       "    <tr>\n",
       "      <th>15</th>\n",
       "      <td>Abbotsford</td>\n",
       "      <td>411/8 Grosvenor St</td>\n",
       "      <td>2</td>\n",
       "      <td>u</td>\n",
       "      <td>700000.0</td>\n",
       "      <td>Jellis</td>\n",
       "      <td>12/11/2016</td>\n",
       "      <td>2.5</td>\n",
       "    </tr>\n",
       "    <tr>\n",
       "      <th>16</th>\n",
       "      <td>Abbotsford</td>\n",
       "      <td>40 Nicholson St</td>\n",
       "      <td>3</td>\n",
       "      <td>h</td>\n",
       "      <td>1350000.0</td>\n",
       "      <td>Nelson</td>\n",
       "      <td>12/11/2016</td>\n",
       "      <td>2.5</td>\n",
       "    </tr>\n",
       "    <tr>\n",
       "      <th>17</th>\n",
       "      <td>Abbotsford</td>\n",
       "      <td>123/56 Nicholson St</td>\n",
       "      <td>2</td>\n",
       "      <td>u</td>\n",
       "      <td>750000.0</td>\n",
       "      <td>Biggin</td>\n",
       "      <td>12/11/2016</td>\n",
       "      <td>2.5</td>\n",
       "    </tr>\n",
       "    <tr>\n",
       "      <th>18</th>\n",
       "      <td>Abbotsford</td>\n",
       "      <td>22 Park St</td>\n",
       "      <td>4</td>\n",
       "      <td>h</td>\n",
       "      <td>1985000.0</td>\n",
       "      <td>Biggin</td>\n",
       "      <td>12/11/2016</td>\n",
       "      <td>2.5</td>\n",
       "    </tr>\n",
       "    <tr>\n",
       "      <th>19</th>\n",
       "      <td>Abbotsford</td>\n",
       "      <td>13/84 Trenerry Cr</td>\n",
       "      <td>1</td>\n",
       "      <td>u</td>\n",
       "      <td>500000.0</td>\n",
       "      <td>Biggin</td>\n",
       "      <td>12/11/2016</td>\n",
       "      <td>2.5</td>\n",
       "    </tr>\n",
       "    <tr>\n",
       "      <th>20</th>\n",
       "      <td>Abbotsford</td>\n",
       "      <td>45 William St</td>\n",
       "      <td>2</td>\n",
       "      <td>h</td>\n",
       "      <td>1172500.0</td>\n",
       "      <td>Biggin</td>\n",
       "      <td>13/08/2016</td>\n",
       "      <td>2.5</td>\n",
       "    </tr>\n",
       "    <tr>\n",
       "      <th>21</th>\n",
       "      <td>Abbotsford</td>\n",
       "      <td>7/20 Abbotsford St</td>\n",
       "      <td>1</td>\n",
       "      <td>u</td>\n",
       "      <td>441000.0</td>\n",
       "      <td>Greg</td>\n",
       "      <td>14/05/2016</td>\n",
       "      <td>2.5</td>\n",
       "    </tr>\n",
       "    <tr>\n",
       "      <th>22</th>\n",
       "      <td>Abbotsford</td>\n",
       "      <td>16 William St</td>\n",
       "      <td>2</td>\n",
       "      <td>h</td>\n",
       "      <td>1310000.0</td>\n",
       "      <td>Jellis</td>\n",
       "      <td>15/10/2016</td>\n",
       "      <td>2.5</td>\n",
       "    </tr>\n",
       "    <tr>\n",
       "      <th>23</th>\n",
       "      <td>Abbotsford</td>\n",
       "      <td>42 Henry St</td>\n",
       "      <td>3</td>\n",
       "      <td>h</td>\n",
       "      <td>1200000.0</td>\n",
       "      <td>Jellis</td>\n",
       "      <td>16/07/2016</td>\n",
       "      <td>2.5</td>\n",
       "    </tr>\n",
       "    <tr>\n",
       "      <th>24</th>\n",
       "      <td>Abbotsford</td>\n",
       "      <td>250 Langridge St</td>\n",
       "      <td>2</td>\n",
       "      <td>t</td>\n",
       "      <td>847000.0</td>\n",
       "      <td>Jellis</td>\n",
       "      <td>16/07/2016</td>\n",
       "      <td>2.5</td>\n",
       "    </tr>\n",
       "    <tr>\n",
       "      <th>25</th>\n",
       "      <td>Abbotsford</td>\n",
       "      <td>78 Yarra St</td>\n",
       "      <td>3</td>\n",
       "      <td>h</td>\n",
       "      <td>1176500.0</td>\n",
       "      <td>LITTLE</td>\n",
       "      <td>16/07/2016</td>\n",
       "      <td>2.5</td>\n",
       "    </tr>\n",
       "    <tr>\n",
       "      <th>26</th>\n",
       "      <td>Abbotsford</td>\n",
       "      <td>196 Nicholson St</td>\n",
       "      <td>3</td>\n",
       "      <td>h</td>\n",
       "      <td>955000.0</td>\n",
       "      <td>Collins</td>\n",
       "      <td>17/09/2016</td>\n",
       "      <td>2.5</td>\n",
       "    </tr>\n",
       "    <tr>\n",
       "      <th>27</th>\n",
       "      <td>Abbotsford</td>\n",
       "      <td>42 Valiant St</td>\n",
       "      <td>2</td>\n",
       "      <td>h</td>\n",
       "      <td>890000.0</td>\n",
       "      <td>Biggin</td>\n",
       "      <td>17/09/2016</td>\n",
       "      <td>2.5</td>\n",
       "    </tr>\n",
       "    <tr>\n",
       "      <th>28</th>\n",
       "      <td>Abbotsford</td>\n",
       "      <td>3/72 Charles St</td>\n",
       "      <td>4</td>\n",
       "      <td>h</td>\n",
       "      <td>1330000.0</td>\n",
       "      <td>Kay</td>\n",
       "      <td>18/03/2017</td>\n",
       "      <td>2.5</td>\n",
       "    </tr>\n",
       "    <tr>\n",
       "      <th>29</th>\n",
       "      <td>Abbotsford</td>\n",
       "      <td>13/11 Nicholson St</td>\n",
       "      <td>3</td>\n",
       "      <td>t</td>\n",
       "      <td>900000.0</td>\n",
       "      <td>Beller</td>\n",
       "      <td>18/03/2017</td>\n",
       "      <td>2.5</td>\n",
       "    </tr>\n",
       "    <tr>\n",
       "      <th>...</th>\n",
       "      <td>...</td>\n",
       "      <td>...</td>\n",
       "      <td>...</td>\n",
       "      <td>...</td>\n",
       "      <td>...</td>\n",
       "      <td>...</td>\n",
       "      <td>...</td>\n",
       "      <td>...</td>\n",
       "    </tr>\n",
       "    <tr>\n",
       "      <th>15366</th>\n",
       "      <td>Thomastown</td>\n",
       "      <td>13 Tanjil Ct</td>\n",
       "      <td>3</td>\n",
       "      <td>h</td>\n",
       "      <td>590500.0</td>\n",
       "      <td>HAR</td>\n",
       "      <td>29/07/2017</td>\n",
       "      <td>15.3</td>\n",
       "    </tr>\n",
       "    <tr>\n",
       "      <th>15367</th>\n",
       "      <td>Thornbury</td>\n",
       "      <td>31 Raleigh St</td>\n",
       "      <td>3</td>\n",
       "      <td>h</td>\n",
       "      <td>1000000.0</td>\n",
       "      <td>Love</td>\n",
       "      <td>29/07/2017</td>\n",
       "      <td>7.0</td>\n",
       "    </tr>\n",
       "    <tr>\n",
       "      <th>15368</th>\n",
       "      <td>Thornbury</td>\n",
       "      <td>13 Rayment St</td>\n",
       "      <td>3</td>\n",
       "      <td>h</td>\n",
       "      <td>891000.0</td>\n",
       "      <td>Nelson</td>\n",
       "      <td>29/07/2017</td>\n",
       "      <td>7.0</td>\n",
       "    </tr>\n",
       "    <tr>\n",
       "      <th>15369</th>\n",
       "      <td>Tullamarine</td>\n",
       "      <td>1/171 Melrose Dr</td>\n",
       "      <td>3</td>\n",
       "      <td>h</td>\n",
       "      <td>615500.0</td>\n",
       "      <td>hockingstuart</td>\n",
       "      <td>29/07/2017</td>\n",
       "      <td>12.9</td>\n",
       "    </tr>\n",
       "    <tr>\n",
       "      <th>15370</th>\n",
       "      <td>Tullamarine</td>\n",
       "      <td>9/200 Melrose Dr</td>\n",
       "      <td>2</td>\n",
       "      <td>u</td>\n",
       "      <td>300000.0</td>\n",
       "      <td>Jason</td>\n",
       "      <td>29/07/2017</td>\n",
       "      <td>12.9</td>\n",
       "    </tr>\n",
       "    <tr>\n",
       "      <th>15371</th>\n",
       "      <td>Wantirna</td>\n",
       "      <td>33 Dunbarton Dr</td>\n",
       "      <td>4</td>\n",
       "      <td>h</td>\n",
       "      <td>908000.0</td>\n",
       "      <td>Ray</td>\n",
       "      <td>29/07/2017</td>\n",
       "      <td>14.7</td>\n",
       "    </tr>\n",
       "    <tr>\n",
       "      <th>15372</th>\n",
       "      <td>Wantirna</td>\n",
       "      <td>9 Eton Sq</td>\n",
       "      <td>4</td>\n",
       "      <td>h</td>\n",
       "      <td>850000.0</td>\n",
       "      <td>Purplebricks</td>\n",
       "      <td>29/07/2017</td>\n",
       "      <td>14.7</td>\n",
       "    </tr>\n",
       "    <tr>\n",
       "      <th>15373</th>\n",
       "      <td>Wantirna</td>\n",
       "      <td>16 Mariemont Av</td>\n",
       "      <td>4</td>\n",
       "      <td>h</td>\n",
       "      <td>1200000.0</td>\n",
       "      <td>Ray</td>\n",
       "      <td>29/07/2017</td>\n",
       "      <td>14.7</td>\n",
       "    </tr>\n",
       "    <tr>\n",
       "      <th>15374</th>\n",
       "      <td>Wantirna South</td>\n",
       "      <td>11 Kirrum Cl</td>\n",
       "      <td>5</td>\n",
       "      <td>h</td>\n",
       "      <td>1310000.0</td>\n",
       "      <td>Harcourts</td>\n",
       "      <td>29/07/2017</td>\n",
       "      <td>14.7</td>\n",
       "    </tr>\n",
       "    <tr>\n",
       "      <th>15375</th>\n",
       "      <td>Wantirna South</td>\n",
       "      <td>41 Witken Av</td>\n",
       "      <td>4</td>\n",
       "      <td>h</td>\n",
       "      <td>930000.0</td>\n",
       "      <td>Noel</td>\n",
       "      <td>29/07/2017</td>\n",
       "      <td>14.7</td>\n",
       "    </tr>\n",
       "    <tr>\n",
       "      <th>15376</th>\n",
       "      <td>Watsonia</td>\n",
       "      <td>2/10 Powley Pde</td>\n",
       "      <td>2</td>\n",
       "      <td>u</td>\n",
       "      <td>686000.0</td>\n",
       "      <td>Darren</td>\n",
       "      <td>29/07/2017</td>\n",
       "      <td>14.5</td>\n",
       "    </tr>\n",
       "    <tr>\n",
       "      <th>15377</th>\n",
       "      <td>Watsonia North</td>\n",
       "      <td>33 MacOrna St</td>\n",
       "      <td>4</td>\n",
       "      <td>h</td>\n",
       "      <td>755000.0</td>\n",
       "      <td>HAR</td>\n",
       "      <td>29/07/2017</td>\n",
       "      <td>14.5</td>\n",
       "    </tr>\n",
       "    <tr>\n",
       "      <th>15378</th>\n",
       "      <td>Werribee</td>\n",
       "      <td>12 Bridge St</td>\n",
       "      <td>2</td>\n",
       "      <td>h</td>\n",
       "      <td>678000.0</td>\n",
       "      <td>YPA</td>\n",
       "      <td>29/07/2017</td>\n",
       "      <td>14.7</td>\n",
       "    </tr>\n",
       "    <tr>\n",
       "      <th>15379</th>\n",
       "      <td>Werribee</td>\n",
       "      <td>18 Conquest Dr</td>\n",
       "      <td>4</td>\n",
       "      <td>h</td>\n",
       "      <td>645000.0</td>\n",
       "      <td>hockingstuart</td>\n",
       "      <td>29/07/2017</td>\n",
       "      <td>14.7</td>\n",
       "    </tr>\n",
       "    <tr>\n",
       "      <th>15380</th>\n",
       "      <td>Werribee</td>\n",
       "      <td>46 Coventry Dr</td>\n",
       "      <td>4</td>\n",
       "      <td>h</td>\n",
       "      <td>482500.0</td>\n",
       "      <td>YPA</td>\n",
       "      <td>29/07/2017</td>\n",
       "      <td>14.7</td>\n",
       "    </tr>\n",
       "    <tr>\n",
       "      <th>15381</th>\n",
       "      <td>Werribee</td>\n",
       "      <td>13b Kingfisher Ct</td>\n",
       "      <td>3</td>\n",
       "      <td>u</td>\n",
       "      <td>394000.0</td>\n",
       "      <td>hockingstuart</td>\n",
       "      <td>29/07/2017</td>\n",
       "      <td>14.7</td>\n",
       "    </tr>\n",
       "    <tr>\n",
       "      <th>15382</th>\n",
       "      <td>Werribee</td>\n",
       "      <td>40 Tarneit Rd</td>\n",
       "      <td>3</td>\n",
       "      <td>h</td>\n",
       "      <td>597000.0</td>\n",
       "      <td>Ray</td>\n",
       "      <td>29/07/2017</td>\n",
       "      <td>14.7</td>\n",
       "    </tr>\n",
       "    <tr>\n",
       "      <th>15383</th>\n",
       "      <td>West Footscray</td>\n",
       "      <td>24 Elphinstone St</td>\n",
       "      <td>4</td>\n",
       "      <td>h</td>\n",
       "      <td>1300000.0</td>\n",
       "      <td>Jas</td>\n",
       "      <td>29/07/2017</td>\n",
       "      <td>6.4</td>\n",
       "    </tr>\n",
       "    <tr>\n",
       "      <th>15384</th>\n",
       "      <td>Westmeadows</td>\n",
       "      <td>43 Bamford Av</td>\n",
       "      <td>4</td>\n",
       "      <td>h</td>\n",
       "      <td>821000.0</td>\n",
       "      <td>YPA</td>\n",
       "      <td>29/07/2017</td>\n",
       "      <td>16.5</td>\n",
       "    </tr>\n",
       "    <tr>\n",
       "      <th>15385</th>\n",
       "      <td>Westmeadows</td>\n",
       "      <td>4 Pershore Ct</td>\n",
       "      <td>3</td>\n",
       "      <td>h</td>\n",
       "      <td>635000.0</td>\n",
       "      <td>Barry</td>\n",
       "      <td>29/07/2017</td>\n",
       "      <td>16.5</td>\n",
       "    </tr>\n",
       "    <tr>\n",
       "      <th>15386</th>\n",
       "      <td>Wheelers Hill</td>\n",
       "      <td>7 Ondine Dr</td>\n",
       "      <td>5</td>\n",
       "      <td>h</td>\n",
       "      <td>1095000.0</td>\n",
       "      <td>Ray</td>\n",
       "      <td>29/07/2017</td>\n",
       "      <td>16.7</td>\n",
       "    </tr>\n",
       "    <tr>\n",
       "      <th>15387</th>\n",
       "      <td>Whittlesea</td>\n",
       "      <td>30 Sherwin St</td>\n",
       "      <td>3</td>\n",
       "      <td>h</td>\n",
       "      <td>601000.0</td>\n",
       "      <td>Ray</td>\n",
       "      <td>29/07/2017</td>\n",
       "      <td>35.5</td>\n",
       "    </tr>\n",
       "    <tr>\n",
       "      <th>15388</th>\n",
       "      <td>Williamstown</td>\n",
       "      <td>75 Cecil St</td>\n",
       "      <td>3</td>\n",
       "      <td>h</td>\n",
       "      <td>1050000.0</td>\n",
       "      <td>Williams</td>\n",
       "      <td>29/07/2017</td>\n",
       "      <td>6.8</td>\n",
       "    </tr>\n",
       "    <tr>\n",
       "      <th>15389</th>\n",
       "      <td>Williamstown</td>\n",
       "      <td>2/29 Dover Rd</td>\n",
       "      <td>1</td>\n",
       "      <td>u</td>\n",
       "      <td>385000.0</td>\n",
       "      <td>Williams</td>\n",
       "      <td>29/07/2017</td>\n",
       "      <td>6.8</td>\n",
       "    </tr>\n",
       "    <tr>\n",
       "      <th>15390</th>\n",
       "      <td>Williamstown</td>\n",
       "      <td>87 Pasco St</td>\n",
       "      <td>3</td>\n",
       "      <td>h</td>\n",
       "      <td>1285000.0</td>\n",
       "      <td>Jas</td>\n",
       "      <td>29/07/2017</td>\n",
       "      <td>6.8</td>\n",
       "    </tr>\n",
       "    <tr>\n",
       "      <th>15391</th>\n",
       "      <td>Windsor</td>\n",
       "      <td>201/152 Peel St</td>\n",
       "      <td>2</td>\n",
       "      <td>u</td>\n",
       "      <td>560000.0</td>\n",
       "      <td>hockingstuart</td>\n",
       "      <td>29/07/2017</td>\n",
       "      <td>4.6</td>\n",
       "    </tr>\n",
       "    <tr>\n",
       "      <th>15392</th>\n",
       "      <td>Wollert</td>\n",
       "      <td>60 Saltlake Bvd</td>\n",
       "      <td>3</td>\n",
       "      <td>h</td>\n",
       "      <td>525300.0</td>\n",
       "      <td>Stockdale</td>\n",
       "      <td>29/07/2017</td>\n",
       "      <td>25.5</td>\n",
       "    </tr>\n",
       "    <tr>\n",
       "      <th>15393</th>\n",
       "      <td>Yarraville</td>\n",
       "      <td>2 Adeney St</td>\n",
       "      <td>2</td>\n",
       "      <td>h</td>\n",
       "      <td>750000.0</td>\n",
       "      <td>hockingstuart</td>\n",
       "      <td>29/07/2017</td>\n",
       "      <td>6.3</td>\n",
       "    </tr>\n",
       "    <tr>\n",
       "      <th>15394</th>\n",
       "      <td>Yarraville</td>\n",
       "      <td>54 Pentland Pde</td>\n",
       "      <td>6</td>\n",
       "      <td>h</td>\n",
       "      <td>2450000.0</td>\n",
       "      <td>Village</td>\n",
       "      <td>29/07/2017</td>\n",
       "      <td>6.3</td>\n",
       "    </tr>\n",
       "    <tr>\n",
       "      <th>15395</th>\n",
       "      <td>Yarraville</td>\n",
       "      <td>10/127 Somerville Rd</td>\n",
       "      <td>3</td>\n",
       "      <td>t</td>\n",
       "      <td>645000.0</td>\n",
       "      <td>Jas</td>\n",
       "      <td>29/07/2017</td>\n",
       "      <td>6.3</td>\n",
       "    </tr>\n",
       "  </tbody>\n",
       "</table>\n",
       "<p>15396 rows × 8 columns</p>\n",
       "</div>"
      ],
      "text/plain": [
       "               Suburb               Address  Rooms Type      Price  \\\n",
       "0          Abbotsford          85 Turner St      2    h  1480000.0   \n",
       "1          Abbotsford       25 Bloomburg St      2    h  1035000.0   \n",
       "2          Abbotsford          5 Charles St      3    h  1465000.0   \n",
       "3          Abbotsford      40 Federation La      3    h   850000.0   \n",
       "4          Abbotsford           55a Park St      4    h  1600000.0   \n",
       "5          Abbotsford        129 Charles St      2    h   941000.0   \n",
       "6          Abbotsford          124 Yarra St      3    h  1876000.0   \n",
       "7          Abbotsford         98 Charles St      2    h  1636000.0   \n",
       "8          Abbotsford      217 Langridge St      3    h  1000000.0   \n",
       "9          Abbotsford       18a Mollison St      2    t   745000.0   \n",
       "10         Abbotsford    6/241 Nicholson St      1    u   300000.0   \n",
       "11         Abbotsford         10 Valiant St      2    h  1097000.0   \n",
       "12         Abbotsford   403/609 Victoria St      2    u   542000.0   \n",
       "13         Abbotsford     25/84 Trenerry Cr      2    u   760000.0   \n",
       "14         Abbotsford     106/119 Turner St      1    u   481000.0   \n",
       "15         Abbotsford    411/8 Grosvenor St      2    u   700000.0   \n",
       "16         Abbotsford       40 Nicholson St      3    h  1350000.0   \n",
       "17         Abbotsford   123/56 Nicholson St      2    u   750000.0   \n",
       "18         Abbotsford            22 Park St      4    h  1985000.0   \n",
       "19         Abbotsford     13/84 Trenerry Cr      1    u   500000.0   \n",
       "20         Abbotsford         45 William St      2    h  1172500.0   \n",
       "21         Abbotsford    7/20 Abbotsford St      1    u   441000.0   \n",
       "22         Abbotsford         16 William St      2    h  1310000.0   \n",
       "23         Abbotsford           42 Henry St      3    h  1200000.0   \n",
       "24         Abbotsford      250 Langridge St      2    t   847000.0   \n",
       "25         Abbotsford           78 Yarra St      3    h  1176500.0   \n",
       "26         Abbotsford      196 Nicholson St      3    h   955000.0   \n",
       "27         Abbotsford         42 Valiant St      2    h   890000.0   \n",
       "28         Abbotsford       3/72 Charles St      4    h  1330000.0   \n",
       "29         Abbotsford    13/11 Nicholson St      3    t   900000.0   \n",
       "...               ...                   ...    ...  ...        ...   \n",
       "15366      Thomastown          13 Tanjil Ct      3    h   590500.0   \n",
       "15367       Thornbury         31 Raleigh St      3    h  1000000.0   \n",
       "15368       Thornbury         13 Rayment St      3    h   891000.0   \n",
       "15369     Tullamarine      1/171 Melrose Dr      3    h   615500.0   \n",
       "15370     Tullamarine      9/200 Melrose Dr      2    u   300000.0   \n",
       "15371        Wantirna       33 Dunbarton Dr      4    h   908000.0   \n",
       "15372        Wantirna             9 Eton Sq      4    h   850000.0   \n",
       "15373        Wantirna       16 Mariemont Av      4    h  1200000.0   \n",
       "15374  Wantirna South          11 Kirrum Cl      5    h  1310000.0   \n",
       "15375  Wantirna South          41 Witken Av      4    h   930000.0   \n",
       "15376        Watsonia       2/10 Powley Pde      2    u   686000.0   \n",
       "15377  Watsonia North         33 MacOrna St      4    h   755000.0   \n",
       "15378        Werribee          12 Bridge St      2    h   678000.0   \n",
       "15379        Werribee        18 Conquest Dr      4    h   645000.0   \n",
       "15380        Werribee        46 Coventry Dr      4    h   482500.0   \n",
       "15381        Werribee     13b Kingfisher Ct      3    u   394000.0   \n",
       "15382        Werribee         40 Tarneit Rd      3    h   597000.0   \n",
       "15383  West Footscray     24 Elphinstone St      4    h  1300000.0   \n",
       "15384     Westmeadows         43 Bamford Av      4    h   821000.0   \n",
       "15385     Westmeadows         4 Pershore Ct      3    h   635000.0   \n",
       "15386   Wheelers Hill           7 Ondine Dr      5    h  1095000.0   \n",
       "15387      Whittlesea         30 Sherwin St      3    h   601000.0   \n",
       "15388    Williamstown           75 Cecil St      3    h  1050000.0   \n",
       "15389    Williamstown         2/29 Dover Rd      1    u   385000.0   \n",
       "15390    Williamstown           87 Pasco St      3    h  1285000.0   \n",
       "15391         Windsor       201/152 Peel St      2    u   560000.0   \n",
       "15392         Wollert       60 Saltlake Bvd      3    h   525300.0   \n",
       "15393      Yarraville           2 Adeney St      2    h   750000.0   \n",
       "15394      Yarraville       54 Pentland Pde      6    h  2450000.0   \n",
       "15395      Yarraville  10/127 Somerville Rd      3    t   645000.0   \n",
       "\n",
       "             SellerG        Date  Distance  \n",
       "0             Biggin   3/12/2016       2.5  \n",
       "1             Biggin   4/02/2016       2.5  \n",
       "2             Biggin   4/03/2017       2.5  \n",
       "3             Biggin   4/03/2017       2.5  \n",
       "4             Nelson   4/06/2016       2.5  \n",
       "5             Jellis   7/05/2016       2.5  \n",
       "6             Nelson   7/05/2016       2.5  \n",
       "7             Nelson   8/10/2016       2.5  \n",
       "8             Jellis   8/10/2016       2.5  \n",
       "9             Jellis   8/10/2016       2.5  \n",
       "10            Biggin   8/10/2016       2.5  \n",
       "11            Biggin   8/10/2016       2.5  \n",
       "12            Dingle   8/10/2016       2.5  \n",
       "13            Biggin  10/12/2016       2.5  \n",
       "14      Purplebricks  10/12/2016       2.5  \n",
       "15            Jellis  12/11/2016       2.5  \n",
       "16            Nelson  12/11/2016       2.5  \n",
       "17            Biggin  12/11/2016       2.5  \n",
       "18            Biggin  12/11/2016       2.5  \n",
       "19            Biggin  12/11/2016       2.5  \n",
       "20            Biggin  13/08/2016       2.5  \n",
       "21              Greg  14/05/2016       2.5  \n",
       "22            Jellis  15/10/2016       2.5  \n",
       "23            Jellis  16/07/2016       2.5  \n",
       "24            Jellis  16/07/2016       2.5  \n",
       "25            LITTLE  16/07/2016       2.5  \n",
       "26           Collins  17/09/2016       2.5  \n",
       "27            Biggin  17/09/2016       2.5  \n",
       "28               Kay  18/03/2017       2.5  \n",
       "29            Beller  18/03/2017       2.5  \n",
       "...              ...         ...       ...  \n",
       "15366            HAR  29/07/2017      15.3  \n",
       "15367           Love  29/07/2017       7.0  \n",
       "15368         Nelson  29/07/2017       7.0  \n",
       "15369  hockingstuart  29/07/2017      12.9  \n",
       "15370          Jason  29/07/2017      12.9  \n",
       "15371            Ray  29/07/2017      14.7  \n",
       "15372   Purplebricks  29/07/2017      14.7  \n",
       "15373            Ray  29/07/2017      14.7  \n",
       "15374      Harcourts  29/07/2017      14.7  \n",
       "15375           Noel  29/07/2017      14.7  \n",
       "15376         Darren  29/07/2017      14.5  \n",
       "15377            HAR  29/07/2017      14.5  \n",
       "15378            YPA  29/07/2017      14.7  \n",
       "15379  hockingstuart  29/07/2017      14.7  \n",
       "15380            YPA  29/07/2017      14.7  \n",
       "15381  hockingstuart  29/07/2017      14.7  \n",
       "15382            Ray  29/07/2017      14.7  \n",
       "15383            Jas  29/07/2017       6.4  \n",
       "15384            YPA  29/07/2017      16.5  \n",
       "15385          Barry  29/07/2017      16.5  \n",
       "15386            Ray  29/07/2017      16.7  \n",
       "15387            Ray  29/07/2017      35.5  \n",
       "15388       Williams  29/07/2017       6.8  \n",
       "15389       Williams  29/07/2017       6.8  \n",
       "15390            Jas  29/07/2017       6.8  \n",
       "15391  hockingstuart  29/07/2017       4.6  \n",
       "15392      Stockdale  29/07/2017      25.5  \n",
       "15393  hockingstuart  29/07/2017       6.3  \n",
       "15394        Village  29/07/2017       6.3  \n",
       "15395            Jas  29/07/2017       6.3  \n",
       "\n",
       "[15396 rows x 8 columns]"
      ]
     },
     "execution_count": 86,
     "metadata": {},
     "output_type": "execute_result"
    }
   ],
   "source": [
    "mel_housing = mel_housing.dropna(axis=0,how='any').reset_index()\n",
    "mel_housing.drop('index',axis=1)"
   ]
  },
  {
   "cell_type": "code",
   "execution_count": 87,
   "metadata": {
    "scrolled": true
   },
   "outputs": [
    {
     "data": {
      "text/plain": [
       "(15396, 9)"
      ]
     },
     "execution_count": 87,
     "metadata": {},
     "output_type": "execute_result"
    }
   ],
   "source": [
    "mel_housing.shape"
   ]
  },
  {
   "cell_type": "markdown",
   "metadata": {},
   "source": [
    "The number of observations has been reduced by 22%. It may be has some effect on the analysis, but in this stage, let's only focuse on these 15396 observations."
   ]
  },
  {
   "cell_type": "code",
   "execution_count": 88,
   "metadata": {
    "scrolled": true
   },
   "outputs": [
    {
     "data": {
      "text/plain": [
       "index         int64\n",
       "Suburb       object\n",
       "Address      object\n",
       "Rooms         int64\n",
       "Type         object\n",
       "Price       float64\n",
       "SellerG      object\n",
       "Date         object\n",
       "Distance    float64\n",
       "dtype: object"
      ]
     },
     "execution_count": 88,
     "metadata": {},
     "output_type": "execute_result"
    }
   ],
   "source": [
    "mel_housing.dtypes"
   ]
  },
  {
   "cell_type": "markdown",
   "metadata": {},
   "source": [
    "We find that the data type of 'Data' column is object. So let's change it into datetime data type."
   ]
  },
  {
   "cell_type": "code",
   "execution_count": 89,
   "metadata": {
    "collapsed": true
   },
   "outputs": [],
   "source": [
    "mel_housing.Date = pd.to_datetime(mel_housing.Date)"
   ]
  },
  {
   "cell_type": "markdown",
   "metadata": {},
   "source": [
    "Then, to make our analysis easily, let's add some new columns based on the 'Date'."
   ]
  },
  {
   "cell_type": "code",
   "execution_count": 90,
   "metadata": {
    "collapsed": true
   },
   "outputs": [],
   "source": [
    "mel_housing['Year'] = mel_housing.Date.dt.year\n",
    "mel_housing['month']= mel_housing.Date.dt.month\n",
    "mel_housing['day']= mel_housing.Date.dt.day"
   ]
  },
  {
   "cell_type": "code",
   "execution_count": 91,
   "metadata": {
    "scrolled": false
   },
   "outputs": [
    {
     "data": {
      "text/html": [
       "<div>\n",
       "<table border=\"1\" class=\"dataframe\">\n",
       "  <thead>\n",
       "    <tr style=\"text-align: right;\">\n",
       "      <th></th>\n",
       "      <th>index</th>\n",
       "      <th>Suburb</th>\n",
       "      <th>Address</th>\n",
       "      <th>Rooms</th>\n",
       "      <th>Type</th>\n",
       "      <th>Price</th>\n",
       "      <th>SellerG</th>\n",
       "      <th>Date</th>\n",
       "      <th>Distance</th>\n",
       "      <th>Year</th>\n",
       "      <th>month</th>\n",
       "      <th>day</th>\n",
       "    </tr>\n",
       "  </thead>\n",
       "  <tbody>\n",
       "    <tr>\n",
       "      <th>0</th>\n",
       "      <td>1</td>\n",
       "      <td>Abbotsford</td>\n",
       "      <td>85 Turner St</td>\n",
       "      <td>2</td>\n",
       "      <td>h</td>\n",
       "      <td>1480000.0</td>\n",
       "      <td>Biggin</td>\n",
       "      <td>2016-03-12</td>\n",
       "      <td>2.5</td>\n",
       "      <td>2016</td>\n",
       "      <td>3</td>\n",
       "      <td>12</td>\n",
       "    </tr>\n",
       "    <tr>\n",
       "      <th>1</th>\n",
       "      <td>2</td>\n",
       "      <td>Abbotsford</td>\n",
       "      <td>25 Bloomburg St</td>\n",
       "      <td>2</td>\n",
       "      <td>h</td>\n",
       "      <td>1035000.0</td>\n",
       "      <td>Biggin</td>\n",
       "      <td>2016-04-02</td>\n",
       "      <td>2.5</td>\n",
       "      <td>2016</td>\n",
       "      <td>4</td>\n",
       "      <td>2</td>\n",
       "    </tr>\n",
       "    <tr>\n",
       "      <th>2</th>\n",
       "      <td>4</td>\n",
       "      <td>Abbotsford</td>\n",
       "      <td>5 Charles St</td>\n",
       "      <td>3</td>\n",
       "      <td>h</td>\n",
       "      <td>1465000.0</td>\n",
       "      <td>Biggin</td>\n",
       "      <td>2017-04-03</td>\n",
       "      <td>2.5</td>\n",
       "      <td>2017</td>\n",
       "      <td>4</td>\n",
       "      <td>3</td>\n",
       "    </tr>\n",
       "    <tr>\n",
       "      <th>3</th>\n",
       "      <td>5</td>\n",
       "      <td>Abbotsford</td>\n",
       "      <td>40 Federation La</td>\n",
       "      <td>3</td>\n",
       "      <td>h</td>\n",
       "      <td>850000.0</td>\n",
       "      <td>Biggin</td>\n",
       "      <td>2017-04-03</td>\n",
       "      <td>2.5</td>\n",
       "      <td>2017</td>\n",
       "      <td>4</td>\n",
       "      <td>3</td>\n",
       "    </tr>\n",
       "    <tr>\n",
       "      <th>4</th>\n",
       "      <td>6</td>\n",
       "      <td>Abbotsford</td>\n",
       "      <td>55a Park St</td>\n",
       "      <td>4</td>\n",
       "      <td>h</td>\n",
       "      <td>1600000.0</td>\n",
       "      <td>Nelson</td>\n",
       "      <td>2016-04-06</td>\n",
       "      <td>2.5</td>\n",
       "      <td>2016</td>\n",
       "      <td>4</td>\n",
       "      <td>6</td>\n",
       "    </tr>\n",
       "  </tbody>\n",
       "</table>\n",
       "</div>"
      ],
      "text/plain": [
       "   index      Suburb           Address  Rooms Type      Price SellerG  \\\n",
       "0      1  Abbotsford      85 Turner St      2    h  1480000.0  Biggin   \n",
       "1      2  Abbotsford   25 Bloomburg St      2    h  1035000.0  Biggin   \n",
       "2      4  Abbotsford      5 Charles St      3    h  1465000.0  Biggin   \n",
       "3      5  Abbotsford  40 Federation La      3    h   850000.0  Biggin   \n",
       "4      6  Abbotsford       55a Park St      4    h  1600000.0  Nelson   \n",
       "\n",
       "        Date  Distance  Year  month  day  \n",
       "0 2016-03-12       2.5  2016      3   12  \n",
       "1 2016-04-02       2.5  2016      4    2  \n",
       "2 2017-04-03       2.5  2017      4    3  \n",
       "3 2017-04-03       2.5  2017      4    3  \n",
       "4 2016-04-06       2.5  2016      4    6  "
      ]
     },
     "execution_count": 91,
     "metadata": {},
     "output_type": "execute_result"
    }
   ],
   "source": [
    "mel_housing.head()"
   ]
  },
  {
   "cell_type": "markdown",
   "metadata": {},
   "source": [
    "The dataset now seems good to use. Then let's try to generate a distribution of price of Melbourne housing market."
   ]
  },
  {
   "cell_type": "markdown",
   "metadata": {},
   "source": [
    "### 5.3 Price of Melourne housing market"
   ]
  },
  {
   "cell_type": "markdown",
   "metadata": {},
   "source": [
    "#### 5.3.1 What is the distribution of price for Melbourne housing market?"
   ]
  },
  {
   "cell_type": "code",
   "execution_count": 92,
   "metadata": {
    "scrolled": true
   },
   "outputs": [
    {
     "data": {
      "text/plain": [
       "<function matplotlib.pyplot.show>"
      ]
     },
     "execution_count": 92,
     "metadata": {},
     "output_type": "execute_result"
    },
    {
     "data": {
      "image/png": "[encoded data removed]",
      "text/plain": [
       "<matplotlib.figure.Figure at 0x11c5eeda0>"
      ]
     },
     "metadata": {},
     "output_type": "display_data"
    }
   ],
   "source": [
    "fig,ax=plt.subplots()\n",
    "mel_housing.Price.hist(bins=100)\n",
    "ax.set_title('Distribution of price for Melbourne housing market')\n",
    "ax.set_xlabel('Property Price')\n",
    "ax.set_ylabel('The number of properties')\n",
    "plt.show"
   ]
  },
  {
   "cell_type": "markdown",
   "metadata": {},
   "source": [
    "#### From the plot we can see, most of properties are sold in the price under 2,000,000. \n",
    "\n",
    "It would be interesting if we find out the price distribution for each type of property.\n",
    "\n",
    "So, first, how many types of property in this dataset?"
   ]
  },
  {
   "cell_type": "code",
   "execution_count": 93,
   "metadata": {
    "scrolled": true
   },
   "outputs": [
    {
     "data": {
      "text/plain": [
       "3"
      ]
     },
     "execution_count": 93,
     "metadata": {},
     "output_type": "execute_result"
    }
   ],
   "source": [
    "mel_housing.Type.nunique()"
   ]
  },
  {
   "cell_type": "code",
   "execution_count": 94,
   "metadata": {
    "scrolled": true
   },
   "outputs": [
    {
     "data": {
      "text/plain": [
       "h    9944\n",
       "u    3759\n",
       "t    1693\n",
       "Name: Type, dtype: int64"
      ]
     },
     "execution_count": 94,
     "metadata": {},
     "output_type": "execute_result"
    }
   ],
   "source": [
    "mel_housing.Type.value_counts()"
   ]
  },
  {
   "cell_type": "markdown",
   "metadata": {},
   "source": [
    "**We can see there are three types of properties in this dataset.** \n",
    "\n",
    "Then, let's draw plots of each type."
   ]
  },
  {
   "cell_type": "code",
   "execution_count": 95,
   "metadata": {
    "scrolled": true
   },
   "outputs": [
    {
     "data": {
      "text/plain": [
       "<matplotlib.text.Text at 0x11bf00c50>"
      ]
     },
     "execution_count": 95,
     "metadata": {},
     "output_type": "execute_result"
    },
    {
     "data": {
      "image/png": "[encoded data removed]",
      "text/plain": [
       "<matplotlib.figure.Figure at 0x11c5f6080>"
      ]
     },
     "metadata": {},
     "output_type": "display_data"
    }
   ],
   "source": [
    "ig, axs = plt.subplots(1,3)\n",
    "#For house type\n",
    "mel_housing[mel_housing.Type=='h'].Price.hist(bins=100,ax=axs[0],color='blue',range=(0,4000000))\n",
    "axs[0].set_title('House price distribution')\n",
    "#For unit type\n",
    "mel_housing[mel_housing.Type=='u'].Price.hist(bins=100,ax=axs[1],color='green')\n",
    "axs[1].set_title('Unit price distribution')\n",
    "#For townhouse type\n",
    "mel_housing[mel_housing.Type=='t'].Price.hist(bins=100,ax=axs[2],color='grey')\n",
    "axs[2].set_title('Townhouse price distribution')"
   ]
  },
  {
   "cell_type": "markdown",
   "metadata": {},
   "source": [
    "#### From the plot above, we can see that:\n",
    "1. The distributions of house type and townhouse type are evry likely. They both have most properties selling under 2,000,000. But in the range above 2,000,000, house type has more properties than townhouse type. As a result, in this dataset, we can conclude that when the price is over 2,000,000, houses are more competitive than townhouses.\n",
    "2. Most units are sold under 1,000,000."
   ]
  },
  {
   "cell_type": "markdown",
   "metadata": {},
   "source": [
    "#### 5.3.2 How many types of property in this dataset? How many properties of each type are there in this dataset? What are the highest prices, mean prices of them?"
   ]
  },
  {
   "cell_type": "markdown",
   "metadata": {},
   "source": [
    "In order to find out the number of properties in different types, we can draw the dar chart to show it."
   ]
  },
  {
   "cell_type": "code",
   "execution_count": 96,
   "metadata": {
    "scrolled": true
   },
   "outputs": [
    {
     "data": {
      "text/plain": [
       "<matplotlib.text.Text at 0x11d018ba8>"
      ]
     },
     "execution_count": 96,
     "metadata": {},
     "output_type": "execute_result"
    },
    {
     "data": {
      "image/png": "[encoded data removed]",
      "text/plain": [
       "<matplotlib.figure.Figure at 0x11c9e5ac8>"
      ]
     },
     "metadata": {},
     "output_type": "display_data"
    }
   ],
   "source": [
    "ind = np.arange(0,3*2,2)\n",
    "width = 0.5\n",
    "fig, ax = plt.subplots()\n",
    "rects1 = ax.bar(ind,mel_housing.Type.value_counts(),color=['blue','green','grey'])\n",
    "ax.set_xticks(ind)\n",
    "ax.set_xticklabels(['house','unit','townhouse'])\n",
    "ax.set_ylabel('number of properties')\n",
    "ax.set_title('The number of properties for each type')"
   ]
  },
  {
   "cell_type": "markdown",
   "metadata": {},
   "source": [
    "#### From the plot we can see, most properties in this dataset are houses, which is almost two times of the sum of units and townhouse. \n",
    "\n",
    "It shows us that in this dateset people in Melbourne perfer to buy houses than units and townhouse."
   ]
  },
  {
   "cell_type": "markdown",
   "metadata": {},
   "source": [
    "** Then, let's find out what the highest prices, mean prices of them are?**"
   ]
  },
  {
   "cell_type": "code",
   "execution_count": 97,
   "metadata": {
    "scrolled": true
   },
   "outputs": [
    {
     "data": {
      "text/plain": [
       "Type\n",
       "h    9000000.0\n",
       "t    3475000.0\n",
       "u    3625000.0\n",
       "Name: Price, dtype: float64"
      ]
     },
     "execution_count": 97,
     "metadata": {},
     "output_type": "execute_result"
    }
   ],
   "source": [
    "mel_housing.groupby('Type').Price.max()"
   ]
  },
  {
   "cell_type": "code",
   "execution_count": 98,
   "metadata": {
    "scrolled": false
   },
   "outputs": [
    {
     "data": {
      "text/plain": [
       "Type\n",
       "h    1245104.8\n",
       "t     912987.4\n",
       "u     615859.1\n",
       "Name: Price, dtype: float64"
      ]
     },
     "execution_count": 98,
     "metadata": {},
     "output_type": "execute_result"
    }
   ],
   "source": [
    "round(mel_housing.groupby('Type').Price.mean(),1)"
   ]
  },
  {
   "cell_type": "code",
   "execution_count": 99,
   "metadata": {},
   "outputs": [
    {
     "data": {
      "text/plain": [
       "<function matplotlib.pyplot.show>"
      ]
     },
     "execution_count": 99,
     "metadata": {},
     "output_type": "execute_result"
    },
    {
     "data": {
      "image/png": "[encoded data removed]",
      "text/plain": [
       "<matplotlib.figure.Figure at 0x11cc6c6a0>"
      ]
     },
     "metadata": {},
     "output_type": "display_data"
    }
   ],
   "source": [
    "fig,ax = plt.subplots()\n",
    "mel_housing.boxplot(column = 'Price', by = 'Type',ax=ax)\n",
    "ax.set_ylabel('Properties Price')\n",
    "plt.axhline(y=mel_housing[mel_housing.Type=='h']['Price'].mean(),color='red',linestyle='dashed')\n",
    "ax.annotate('Mean Price of House', xy=(0.5, 1500000), xytext=(0.5, 2000000),\n",
    "            arrowprops=dict(facecolor='blue', shrink=0.05),\n",
    "            )\n",
    "plt.show"
   ]
  },
  {
   "cell_type": "markdown",
   "metadata": {},
   "source": [
    "#### From the data we obtained above, we can find that:\n",
    "1. The highest price is belonging to a house, which is 9,000,000 dollars. It is really a lot of money.\n",
    "2. The mean price of houses are also higher than units and townhouses.\n",
    "3. As to the outliers, there are more outliers in house type than any other types. It means the prices of some houses are remarkable high. "
   ]
  },
  {
   "cell_type": "markdown",
   "metadata": {},
   "source": [
    "### 5.4 Price of houses.\n",
    "In this part, I mainly focus on houses in this dataset. \n",
    "\n",
    "First, let's generate a subset of <font color='blue'>*mel_housing*</font> called <font color='blue'>*houses_in_mel*</font>. "
   ]
  },
  {
   "cell_type": "code",
   "execution_count": 100,
   "metadata": {
    "collapsed": true
   },
   "outputs": [],
   "source": [
    "houses_in_mel = mel_housing[mel_housing.Type == 'h']"
   ]
  },
  {
   "cell_type": "markdown",
   "metadata": {},
   "source": [
    "#### 5.4.1 How many suburbs are there in the dataset? How many houses are there in each suburb?"
   ]
  },
  {
   "cell_type": "markdown",
   "metadata": {},
   "source": [
    "First, let's find out how many suburbs are in the dataset."
   ]
  },
  {
   "cell_type": "code",
   "execution_count": 102,
   "metadata": {
    "scrolled": true
   },
   "outputs": [
    {
     "data": {
      "text/plain": [
       "319"
      ]
     },
     "execution_count": 102,
     "metadata": {},
     "output_type": "execute_result"
    }
   ],
   "source": [
    "houses_in_mel.Suburb.nunique()"
   ]
  },
  {
   "cell_type": "markdown",
   "metadata": {},
   "source": [
    "There are 319 suburbs in the dataset. Then, we draw a plot to show how many sold houses in each suburb."
   ]
  },
  {
   "cell_type": "code",
   "execution_count": 103,
   "metadata": {
    "collapsed": true,
    "scrolled": false
   },
   "outputs": [],
   "source": [
    "#Create a dataframe to store suburbs and their frequency\n",
    "df = pd.DataFrame(houses_in_mel.groupby('Suburb')['Price'].count())\n",
    "df = df.reset_index()\n",
    "df.rename(columns={'Price':'Frequency'},inplace=True)"
   ]
  },
  {
   "cell_type": "code",
   "execution_count": 104,
   "metadata": {
    "scrolled": true
   },
   "outputs": [
    {
     "name": "stderr",
     "output_type": "stream",
     "text": [
      "/Users/jibusi/anaconda/lib/python3.6/site-packages/ipykernel/__main__.py:2: FutureWarning: sort(columns=....) is deprecated, use sort_values(by=.....)\n",
      "  from ipykernel import kernelapp as app\n"
     ]
    },
    {
     "data": {
      "text/html": [
       "<div>\n",
       "<table border=\"1\" class=\"dataframe\">\n",
       "  <thead>\n",
       "    <tr style=\"text-align: right;\">\n",
       "      <th></th>\n",
       "      <th>Suburb</th>\n",
       "      <th>Frequency</th>\n",
       "    </tr>\n",
       "  </thead>\n",
       "  <tbody>\n",
       "    <tr>\n",
       "      <th>0</th>\n",
       "      <td>Reservoir</td>\n",
       "      <td>311</td>\n",
       "    </tr>\n",
       "    <tr>\n",
       "      <th>1</th>\n",
       "      <td>Preston</td>\n",
       "      <td>223</td>\n",
       "    </tr>\n",
       "    <tr>\n",
       "      <th>2</th>\n",
       "      <td>Bentleigh East</td>\n",
       "      <td>185</td>\n",
       "    </tr>\n",
       "    <tr>\n",
       "      <th>3</th>\n",
       "      <td>Richmond</td>\n",
       "      <td>164</td>\n",
       "    </tr>\n",
       "    <tr>\n",
       "      <th>4</th>\n",
       "      <td>Brunswick</td>\n",
       "      <td>160</td>\n",
       "    </tr>\n",
       "    <tr>\n",
       "      <th>5</th>\n",
       "      <td>Balwyn North</td>\n",
       "      <td>159</td>\n",
       "    </tr>\n",
       "    <tr>\n",
       "      <th>6</th>\n",
       "      <td>Northcote</td>\n",
       "      <td>154</td>\n",
       "    </tr>\n",
       "    <tr>\n",
       "      <th>7</th>\n",
       "      <td>Glenroy</td>\n",
       "      <td>152</td>\n",
       "    </tr>\n",
       "    <tr>\n",
       "      <th>8</th>\n",
       "      <td>Coburg</td>\n",
       "      <td>144</td>\n",
       "    </tr>\n",
       "    <tr>\n",
       "      <th>9</th>\n",
       "      <td>Yarraville</td>\n",
       "      <td>136</td>\n",
       "    </tr>\n",
       "    <tr>\n",
       "      <th>10</th>\n",
       "      <td>Essendon</td>\n",
       "      <td>133</td>\n",
       "    </tr>\n",
       "    <tr>\n",
       "      <th>11</th>\n",
       "      <td>Glen Iris</td>\n",
       "      <td>132</td>\n",
       "    </tr>\n",
       "    <tr>\n",
       "      <th>12</th>\n",
       "      <td>Brighton East</td>\n",
       "      <td>131</td>\n",
       "    </tr>\n",
       "    <tr>\n",
       "      <th>13</th>\n",
       "      <td>Kew</td>\n",
       "      <td>130</td>\n",
       "    </tr>\n",
       "    <tr>\n",
       "      <th>14</th>\n",
       "      <td>Pascoe Vale</td>\n",
       "      <td>129</td>\n",
       "    </tr>\n",
       "    <tr>\n",
       "      <th>15</th>\n",
       "      <td>Brighton</td>\n",
       "      <td>121</td>\n",
       "    </tr>\n",
       "    <tr>\n",
       "      <th>16</th>\n",
       "      <td>Camberwell</td>\n",
       "      <td>121</td>\n",
       "    </tr>\n",
       "    <tr>\n",
       "      <th>17</th>\n",
       "      <td>Newport</td>\n",
       "      <td>120</td>\n",
       "    </tr>\n",
       "    <tr>\n",
       "      <th>18</th>\n",
       "      <td>Ascot Vale</td>\n",
       "      <td>115</td>\n",
       "    </tr>\n",
       "    <tr>\n",
       "      <th>19</th>\n",
       "      <td>Sunshine</td>\n",
       "      <td>109</td>\n",
       "    </tr>\n",
       "    <tr>\n",
       "      <th>20</th>\n",
       "      <td>Moonee Ponds</td>\n",
       "      <td>106</td>\n",
       "    </tr>\n",
       "    <tr>\n",
       "      <th>21</th>\n",
       "      <td>Templestowe Lower</td>\n",
       "      <td>105</td>\n",
       "    </tr>\n",
       "    <tr>\n",
       "      <th>22</th>\n",
       "      <td>Doncaster</td>\n",
       "      <td>104</td>\n",
       "    </tr>\n",
       "    <tr>\n",
       "      <th>23</th>\n",
       "      <td>Keilor East</td>\n",
       "      <td>102</td>\n",
       "    </tr>\n",
       "    <tr>\n",
       "      <th>24</th>\n",
       "      <td>Bentleigh</td>\n",
       "      <td>100</td>\n",
       "    </tr>\n",
       "    <tr>\n",
       "      <th>25</th>\n",
       "      <td>Balwyn</td>\n",
       "      <td>98</td>\n",
       "    </tr>\n",
       "    <tr>\n",
       "      <th>26</th>\n",
       "      <td>Sunshine West</td>\n",
       "      <td>96</td>\n",
       "    </tr>\n",
       "    <tr>\n",
       "      <th>27</th>\n",
       "      <td>Thornbury</td>\n",
       "      <td>95</td>\n",
       "    </tr>\n",
       "    <tr>\n",
       "      <th>28</th>\n",
       "      <td>Malvern East</td>\n",
       "      <td>95</td>\n",
       "    </tr>\n",
       "    <tr>\n",
       "      <th>29</th>\n",
       "      <td>Fawkner</td>\n",
       "      <td>90</td>\n",
       "    </tr>\n",
       "    <tr>\n",
       "      <th>...</th>\n",
       "      <td>...</td>\n",
       "      <td>...</td>\n",
       "    </tr>\n",
       "    <tr>\n",
       "      <th>289</th>\n",
       "      <td>Rockbank</td>\n",
       "      <td>1</td>\n",
       "    </tr>\n",
       "    <tr>\n",
       "      <th>290</th>\n",
       "      <td>Healesville</td>\n",
       "      <td>1</td>\n",
       "    </tr>\n",
       "    <tr>\n",
       "      <th>291</th>\n",
       "      <td>Werribee South</td>\n",
       "      <td>1</td>\n",
       "    </tr>\n",
       "    <tr>\n",
       "      <th>292</th>\n",
       "      <td>Sandhurst</td>\n",
       "      <td>1</td>\n",
       "    </tr>\n",
       "    <tr>\n",
       "      <th>293</th>\n",
       "      <td>Melbourne</td>\n",
       "      <td>1</td>\n",
       "    </tr>\n",
       "    <tr>\n",
       "      <th>294</th>\n",
       "      <td>Wattle Glen</td>\n",
       "      <td>1</td>\n",
       "    </tr>\n",
       "    <tr>\n",
       "      <th>295</th>\n",
       "      <td>Yarra Glen</td>\n",
       "      <td>1</td>\n",
       "    </tr>\n",
       "    <tr>\n",
       "      <th>296</th>\n",
       "      <td>Heatherton</td>\n",
       "      <td>1</td>\n",
       "    </tr>\n",
       "    <tr>\n",
       "      <th>297</th>\n",
       "      <td>Williams Landing</td>\n",
       "      <td>1</td>\n",
       "    </tr>\n",
       "    <tr>\n",
       "      <th>298</th>\n",
       "      <td>Attwood</td>\n",
       "      <td>1</td>\n",
       "    </tr>\n",
       "    <tr>\n",
       "      <th>299</th>\n",
       "      <td>Bonbeach</td>\n",
       "      <td>1</td>\n",
       "    </tr>\n",
       "    <tr>\n",
       "      <th>300</th>\n",
       "      <td>North Warrandyte</td>\n",
       "      <td>1</td>\n",
       "    </tr>\n",
       "    <tr>\n",
       "      <th>301</th>\n",
       "      <td>Hurstbridge</td>\n",
       "      <td>1</td>\n",
       "    </tr>\n",
       "    <tr>\n",
       "      <th>302</th>\n",
       "      <td>Springvale South</td>\n",
       "      <td>1</td>\n",
       "    </tr>\n",
       "    <tr>\n",
       "      <th>303</th>\n",
       "      <td>Beaconsfield Upper</td>\n",
       "      <td>1</td>\n",
       "    </tr>\n",
       "    <tr>\n",
       "      <th>304</th>\n",
       "      <td>Bacchus Marsh</td>\n",
       "      <td>1</td>\n",
       "    </tr>\n",
       "    <tr>\n",
       "      <th>305</th>\n",
       "      <td>Plenty</td>\n",
       "      <td>1</td>\n",
       "    </tr>\n",
       "    <tr>\n",
       "      <th>306</th>\n",
       "      <td>Deepdene</td>\n",
       "      <td>1</td>\n",
       "    </tr>\n",
       "    <tr>\n",
       "      <th>307</th>\n",
       "      <td>Tecoma</td>\n",
       "      <td>1</td>\n",
       "    </tr>\n",
       "    <tr>\n",
       "      <th>308</th>\n",
       "      <td>Officer</td>\n",
       "      <td>1</td>\n",
       "    </tr>\n",
       "    <tr>\n",
       "      <th>309</th>\n",
       "      <td>Bullengarook</td>\n",
       "      <td>1</td>\n",
       "    </tr>\n",
       "    <tr>\n",
       "      <th>310</th>\n",
       "      <td>Montrose</td>\n",
       "      <td>1</td>\n",
       "    </tr>\n",
       "    <tr>\n",
       "      <th>311</th>\n",
       "      <td>Cranbourne East</td>\n",
       "      <td>1</td>\n",
       "    </tr>\n",
       "    <tr>\n",
       "      <th>312</th>\n",
       "      <td>Beaconsfield</td>\n",
       "      <td>1</td>\n",
       "    </tr>\n",
       "    <tr>\n",
       "      <th>313</th>\n",
       "      <td>Lynbrook</td>\n",
       "      <td>1</td>\n",
       "    </tr>\n",
       "    <tr>\n",
       "      <th>314</th>\n",
       "      <td>Emerald</td>\n",
       "      <td>1</td>\n",
       "    </tr>\n",
       "    <tr>\n",
       "      <th>315</th>\n",
       "      <td>Upwey</td>\n",
       "      <td>1</td>\n",
       "    </tr>\n",
       "    <tr>\n",
       "      <th>316</th>\n",
       "      <td>Brookfield</td>\n",
       "      <td>1</td>\n",
       "    </tr>\n",
       "    <tr>\n",
       "      <th>317</th>\n",
       "      <td>Croydon South</td>\n",
       "      <td>1</td>\n",
       "    </tr>\n",
       "    <tr>\n",
       "      <th>318</th>\n",
       "      <td>Notting Hill</td>\n",
       "      <td>1</td>\n",
       "    </tr>\n",
       "  </tbody>\n",
       "</table>\n",
       "<p>319 rows × 2 columns</p>\n",
       "</div>"
      ],
      "text/plain": [
       "                 Suburb  Frequency\n",
       "0             Reservoir        311\n",
       "1               Preston        223\n",
       "2        Bentleigh East        185\n",
       "3              Richmond        164\n",
       "4             Brunswick        160\n",
       "5          Balwyn North        159\n",
       "6             Northcote        154\n",
       "7               Glenroy        152\n",
       "8                Coburg        144\n",
       "9            Yarraville        136\n",
       "10             Essendon        133\n",
       "11            Glen Iris        132\n",
       "12        Brighton East        131\n",
       "13                  Kew        130\n",
       "14          Pascoe Vale        129\n",
       "15             Brighton        121\n",
       "16           Camberwell        121\n",
       "17              Newport        120\n",
       "18           Ascot Vale        115\n",
       "19             Sunshine        109\n",
       "20         Moonee Ponds        106\n",
       "21    Templestowe Lower        105\n",
       "22            Doncaster        104\n",
       "23          Keilor East        102\n",
       "24            Bentleigh        100\n",
       "25               Balwyn         98\n",
       "26        Sunshine West         96\n",
       "27            Thornbury         95\n",
       "28         Malvern East         95\n",
       "29              Fawkner         90\n",
       "..                  ...        ...\n",
       "289            Rockbank          1\n",
       "290         Healesville          1\n",
       "291      Werribee South          1\n",
       "292           Sandhurst          1\n",
       "293           Melbourne          1\n",
       "294         Wattle Glen          1\n",
       "295          Yarra Glen          1\n",
       "296          Heatherton          1\n",
       "297    Williams Landing          1\n",
       "298             Attwood          1\n",
       "299            Bonbeach          1\n",
       "300    North Warrandyte          1\n",
       "301         Hurstbridge          1\n",
       "302    Springvale South          1\n",
       "303  Beaconsfield Upper          1\n",
       "304       Bacchus Marsh          1\n",
       "305              Plenty          1\n",
       "306            Deepdene          1\n",
       "307              Tecoma          1\n",
       "308             Officer          1\n",
       "309        Bullengarook          1\n",
       "310            Montrose          1\n",
       "311     Cranbourne East          1\n",
       "312        Beaconsfield          1\n",
       "313            Lynbrook          1\n",
       "314             Emerald          1\n",
       "315               Upwey          1\n",
       "316          Brookfield          1\n",
       "317       Croydon South          1\n",
       "318        Notting Hill          1\n",
       "\n",
       "[319 rows x 2 columns]"
      ]
     },
     "execution_count": 104,
     "metadata": {},
     "output_type": "execute_result"
    }
   ],
   "source": [
    "#Sort the dataframe by frequency\n",
    "df = df.sort(['Frequency'],ascending=False).reset_index()\n",
    "df.drop('index',axis=1)"
   ]
  },
  {
   "cell_type": "code",
   "execution_count": 105,
   "metadata": {
    "scrolled": true
   },
   "outputs": [
    {
     "data": {
      "text/plain": [
       "<matplotlib.axes._subplots.AxesSubplot at 0x11dac9d30>"
      ]
     },
     "execution_count": 105,
     "metadata": {},
     "output_type": "execute_result"
    },
    {
     "data": {
      "image/png": "[encoded data removed]",
      "text/plain": [
       "<matplotlib.figure.Figure at 0x11d3e45c0>"
      ]
     },
     "metadata": {},
     "output_type": "display_data"
    }
   ],
   "source": [
    "#Draw the barhist plot and box plot \n",
    "fig, ax = plt.subplots(1,2)\n",
    "\n",
    "y_pos = np.arange(len(df.Suburb))\n",
    "ax[0].barh(y_pos,df.Frequency)\n",
    "\n",
    "ax[0].set_ylabel('Suburb')\n",
    "ax[0].set_xlabel('number of properties')\n",
    "ax[0].set_title('The number of properties for each type')\n",
    "\n",
    "df.boxplot(column='Frequency',ax=ax[1])"
   ]
  },
  {
   "cell_type": "markdown",
   "metadata": {},
   "source": [
    "#### From plots above, we can see that:\n",
    "1. The number of sold houses in each suburb varys a lot.\n",
    "2. The trading values of most suburbs are around 50\n",
    "3. The suburbs of Reservoir and Preston sell far more houses than any other suburbs."
   ]
  },
  {
   "cell_type": "markdown",
   "metadata": {},
   "source": [
    "####  5.4.2 What is the distribution of houses' prices in each suburb?"
   ]
  },
  {
   "cell_type": "markdown",
   "metadata": {},
   "source": [
    "In this section, we choose top 10 suburbs to do some analysis."
   ]
  },
  {
   "cell_type": "code",
   "execution_count": 106,
   "metadata": {
    "collapsed": true
   },
   "outputs": [],
   "source": [
    "#Store top 20 suburbs in a list.\n",
    "suburb_20 = []\n",
    "i = 0\n",
    "for suburb,value in houses_in_mel.Suburb.value_counts().iteritems():\n",
    "    if i == 20:\n",
    "        break\n",
    "    suburb_20.append(suburb) \n",
    "    i += 1   "
   ]
  },
  {
   "cell_type": "markdown",
   "metadata": {},
   "source": [
    "Generate the subdataset of these top 20 suburbs"
   ]
  },
  {
   "cell_type": "code",
   "execution_count": 107,
   "metadata": {},
   "outputs": [
    {
     "data": {
      "text/plain": [
       "['Reservoir',\n",
       " 'Preston',\n",
       " 'Bentleigh East',\n",
       " 'Richmond',\n",
       " 'Brunswick',\n",
       " 'Balwyn North',\n",
       " 'Northcote',\n",
       " 'Glenroy',\n",
       " 'Coburg',\n",
       " 'Yarraville',\n",
       " 'Essendon',\n",
       " 'Glen Iris',\n",
       " 'Brighton East',\n",
       " 'Kew',\n",
       " 'Pascoe Vale',\n",
       " 'Camberwell',\n",
       " 'Brighton',\n",
       " 'Newport',\n",
       " 'Ascot Vale',\n",
       " 'Sunshine']"
      ]
     },
     "execution_count": 107,
     "metadata": {},
     "output_type": "execute_result"
    }
   ],
   "source": [
    "suburb_20"
   ]
  },
  {
   "cell_type": "code",
   "execution_count": 108,
   "metadata": {
    "collapsed": true
   },
   "outputs": [],
   "source": [
    "houses_in_mel_20 = houses_in_mel.copy()\n",
    "houses_in_mel_20= houses_in_mel_20[houses_in_mel.Suburb.isin(suburb_20)]"
   ]
  },
  {
   "cell_type": "code",
   "execution_count": 109,
   "metadata": {},
   "outputs": [
    {
     "data": {
      "text/plain": [
       "(3029, 12)"
      ]
     },
     "execution_count": 109,
     "metadata": {},
     "output_type": "execute_result"
    }
   ],
   "source": [
    "houses_in_mel_20.shape"
   ]
  },
  {
   "cell_type": "markdown",
   "metadata": {},
   "source": [
    "Then, let's generate the the house price distribution in each suburb using boxplot."
   ]
  },
  {
   "cell_type": "code",
   "execution_count": 110,
   "metadata": {
    "scrolled": true
   },
   "outputs": [
    {
     "data": {
      "text/plain": [
       "<matplotlib.axes._subplots.AxesSubplot at 0x11de8d630>"
      ]
     },
     "execution_count": 110,
     "metadata": {},
     "output_type": "execute_result"
    },
    {
     "data": {
      "image/png": "[encoded data removed]",
      "text/plain": [
       "<matplotlib.figure.Figure at 0x11c9a8278>"
      ]
     },
     "metadata": {},
     "output_type": "display_data"
    }
   ],
   "source": [
    "#Create a dataframe to store top 20 suburbs and their frequency \n",
    "df2 = pd.DataFrame(houses_in_mel_20.groupby('Suburb')['Price'].count()).reset_index()\n",
    "\n",
    "fig, ax = plt.subplots(1,2)\n",
    "y_pos = np.arange(len(df2['Suburb']))\n",
    "ax[0].barh(y_pos,df2['Price'])\n",
    "ax[0].set_yticks(y_pos)\n",
    "ax[0].set_yticklabels(df2['Suburb'])\n",
    "\n",
    "houses_in_mel_20.boxplot(column = 'Price', by = 'Suburb',vert=False,ax=ax[1])"
   ]
  },
  {
   "cell_type": "markdown",
   "metadata": {},
   "source": [
    "#### From the plots above, we can find that:\n",
    "1. Although Reservoir sells the most houses, prices of these house do not vary much.\n",
    "2. In Kew and Brighton, prices of houses vary most obviously."
   ]
  },
  {
   "cell_type": "markdown",
   "metadata": {},
   "source": [
    "### 5.5 The relationship between distance and price."
   ]
  },
  {
   "cell_type": "markdown",
   "metadata": {},
   "source": [
    "In this section, I try to find the relationship between distance and price. I use basic regression to model the relationship."
   ]
  },
  {
   "cell_type": "code",
   "execution_count": 111,
   "metadata": {
    "scrolled": true
   },
   "outputs": [
    {
     "data": {
      "image/png": "[encoded data removed]",
      "text/plain": [
       "<matplotlib.figure.Figure at 0x11f0f52b0>"
      ]
     },
     "metadata": {},
     "output_type": "display_data"
    }
   ],
   "source": [
    "fig, ax = plt.subplots(2,2)\n",
    "\n",
    "#house price over distance to city\n",
    "ax[0,0].scatter(mel_housing[mel_housing.Type=='h']['Distance'],mel_housing[mel_housing.Type=='h']['Price'])\n",
    "slope, intercept, r_value, p_value, std_err = linregress(mel_housing[mel_housing.Type=='h']['Distance'],mel_housing[mel_housing.Type=='h']['Price'])\n",
    "line = [slope*xi + intercept for xi in mel_housing[mel_housing.Type=='h']['Distance']]\n",
    "ax[0,0].plot(mel_housing[mel_housing.Type=='h']['Distance'],line,'r-',linewidth=3)\n",
    "ax[0,0].set_ylabel('House price')\n",
    "ax[0,0].set_xlabel('Distance')\n",
    "ax[0,0].set_title('House price over distance to city')\n",
    "\n",
    "#Unit price over distance to city\n",
    "ax[0,1].scatter(mel_housing[mel_housing.Type=='u']['Distance'],mel_housing[mel_housing.Type=='u']['Price'])\n",
    "slope, intercept, r_value, p_value, std_err = linregress(mel_housing[mel_housing.Type=='u']['Distance'],mel_housing[mel_housing.Type=='u']['Price'])\n",
    "line = [slope*xi + intercept for xi in mel_housing[mel_housing.Type=='u']['Distance']]\n",
    "ax[0,1].plot(mel_housing[mel_housing.Type=='u']['Distance'],line,'r-',linewidth=3)\n",
    "ax[0,1].set_ylabel('Unit price')\n",
    "ax[0,1].set_xlabel('Distance')\n",
    "ax[0,1].set_title('Unit price over distance to city')\n",
    "\n",
    "#Townhouse price over distance to city\n",
    "ax[1,0].scatter(mel_housing[mel_housing.Type=='t']['Distance'],mel_housing[mel_housing.Type=='t']['Price'])\n",
    "slope, intercept, r_value, p_value, std_err = linregress(mel_housing[mel_housing.Type=='t']['Distance'],mel_housing[mel_housing.Type=='t']['Price'])\n",
    "line = [slope*xi + intercept for xi in mel_housing[mel_housing.Type=='t']['Distance']]\n",
    "ax[1,0].plot(mel_housing[mel_housing.Type=='t']['Distance'],line,'r-',linewidth=3)\n",
    "ax[1,0].set_ylabel('Townhouse price')\n",
    "ax[1,0].set_xlabel('Distance')\n",
    "ax[1,0].set_title('Townhouse price over distance to city')\n",
    "\n",
    "#Property price over distance to city\n",
    "ax[1,1].scatter(mel_housing['Distance'],mel_housing['Price'])\n",
    "slope, intercept, r_value, p_value, std_err = linregress(mel_housing['Distance'],mel_housing['Price'])\n",
    "line = [slope*xi + intercept for xi in mel_housing['Distance']]\n",
    "ax[1,1].plot(mel_housing['Distance'],line,'r-',linewidth=3)\n",
    "ax[1,1].set_ylabel('Property price')\n",
    "ax[1,1].set_xlabel('Distance')\n",
    "ax[1,1].set_title('Property price over distance to city')\n",
    "\n",
    "plt.show()"
   ]
  },
  {
   "cell_type": "markdown",
   "metadata": {},
   "source": [
    "#### As we can see from plots above:\n",
    "It seems that there is not very strong relationship between property price and distance to city. The reason why this happens is that we did not take the details of properties into consideration, such as number of room, built date, public security condition, economy, etc. \n",
    "But in general, from the plot we can find that most properties which are sold in relative high price are within 20km to the city."
   ]
  },
  {
   "cell_type": "markdown",
   "metadata": {},
   "source": [
    "## 6. Summary\n",
    "\n",
    "In this project, I practice the basic data cleaning, visualisation and analysis. It helps me to reorganize and consolidate my knowledge of python. Pandas and matplot are really powerful in data science. There are a number of plots we can use to vusualize our model. After doing this assessment, I find that as a data scientist, it is important to see what really happens under the data and learn to ask questions. Because data itself cannot talk. We, as data scientists, should interpret or understand data from different perspectives ,and explain our findings to others by data visualisation. And I think my answers to this assessment still have some space to improved, such as code execution efficiency and skills with pandas and matplot."
   ]
  },
  {
   "cell_type": "code",
   "execution_count": null,
   "metadata": {},
   "outputs": [],
   "source": []
  }
 ],
 "metadata": {
  "kernelspec": {
   "display_name": "Python 3",
   "language": "python",
   "name": "python3"
  },
  "language_info": {
   "codemirror_mode": {
    "name": "ipython",
    "version": 3
   },
   "file_extension": ".py",
   "mimetype": "text/x-python",
   "name": "python",
   "nbconvert_exporter": "python",
   "pygments_lexer": "ipython3",
   "version": "3.6.4"
  }
 },
 "nbformat": 4,
 "nbformat_minor": 2
}
